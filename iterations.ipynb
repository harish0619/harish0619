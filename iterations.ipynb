{
 "cells": [
  {
   "cell_type": "code",
   "execution_count": 2,
   "id": "27a42c62-d08a-46f6-b535-9c663b98daed",
   "metadata": {},
   "outputs": [
    {
     "name": "stdout",
     "output_type": "stream",
     "text": [
      "1 * 1 = 1\n",
      "1 * 2 = 2\n",
      "1 * 3 = 3\n",
      "1 * 4 = 4\n",
      "---------------\n",
      "2 * 1 = 2\n",
      "2 * 2 = 4\n",
      "2 * 3 = 6\n",
      "2 * 4 = 8\n",
      "---------------\n",
      "3 * 1 = 3\n",
      "3 * 2 = 6\n",
      "3 * 3 = 9\n",
      "3 * 4 = 12\n",
      "---------------\n"
     ]
    }
   ],
   "source": [
    "m, n= 3, 4\n",
    "\n",
    "for i in range(1, m+1):\n",
    "    for j in range(1, n+1):\n",
    "        print(f\"{i} * {j} = {i*j}\")\n",
    "    print(\"-\"*15)\n"
   ]
  },
  {
   "cell_type": "code",
   "execution_count": 7,
   "id": "fa936fea-bdfd-43c6-8612-d8a629538480",
   "metadata": {},
   "outputs": [
    {
     "name": "stdout",
     "output_type": "stream",
     "text": [
      "(['2021-01-01', 100, 200, 100], ['2021-01-02', 200, 18, 182], ['2021-01-03', -100, 10, 110], ['2021-01-04', 10, 102, 92], ['2021-01-05', 2, 45, 43])\n",
      "182 2021-01-02\n"
     ]
    }
   ],
   "source": [
    "data = (\n",
    "    ['2021-01-01', 100, 200],\n",
    "    ['2021-01-02', 200, 18],\n",
    "    ['2021-01-03', -100, 10],\n",
    "    ['2021-01-04', 10, 102],\n",
    "    ['2021-01-05', 2, 45]\n",
    ")\n",
    "\n",
    "for d in data:\n",
    "    d.append(abs(d[2] - d[1]))\n",
    "\n",
    "print(data)\n",
    "\n",
    "for dat in data:\n",
    "    biggest_data = dat[3]\n",
    "    data_date = dat[0]\n",
    "    for j in data[1:]:\n",
    "        if j[3] > biggest_data:\n",
    "            biggest_data = j[3]\n",
    "            data_date = j[0]\n",
    "\n",
    "print(biggest_data, data_date)\n",
    "        "
   ]
  },
  {
   "cell_type": "code",
   "execution_count": 20,
   "id": "d8c24ec8-e16c-4153-a922-549786735c41",
   "metadata": {},
   "outputs": [
    {
     "data": {
      "text/plain": [
       "[[10, 20, ''], [20, 30, 'same'], [35, 50, 'up'], [45, 60, 'down']]"
      ]
     },
     "execution_count": 20,
     "metadata": {},
     "output_type": "execute_result"
    }
   ],
   "source": [
    "data = [\n",
    "    [10, 20],\n",
    "    [20, 30],\n",
    "    [35, 50],\n",
    "    [45, 60]\n",
    "]\n",
    "\n",
    "for idx, (op, cl) in enumerate(data):\n",
    "    if idx == 0:\n",
    "        data[idx].append('')\n",
    "    else:\n",
    "        prev_op, prev_cl, trend = data[idx-1]\n",
    "        if op > prev_cl:\n",
    "            data[idx].append('up')\n",
    "        elif op < prev_cl:\n",
    "            data[idx].append('down')\n",
    "        else:\n",
    "            data[idx].append('same')\n",
    "\n",
    "data"
   ]
  },
  {
   "cell_type": "code",
   "execution_count": null,
   "id": "6012be83-c57b-413d-b6f6-5ad2c053953f",
   "metadata": {},
   "outputs": [],
   "source": []
  }
 ],
 "metadata": {
  "kernelspec": {
   "display_name": "Python 3 (ipykernel)",
   "language": "python",
   "name": "python3"
  },
  "language_info": {
   "codemirror_mode": {
    "name": "ipython",
    "version": 3
   },
   "file_extension": ".py",
   "mimetype": "text/x-python",
   "name": "python",
   "nbconvert_exporter": "python",
   "pygments_lexer": "ipython3",
   "version": "3.12.3"
  }
 },
 "nbformat": 4,
 "nbformat_minor": 5
}
