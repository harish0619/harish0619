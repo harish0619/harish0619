{
 "cells": [
  {
   "cell_type": "code",
   "execution_count": 1,
   "id": "61bc70a2-7b1b-44ff-8bbc-70ce1f3c4ed4",
   "metadata": {},
   "outputs": [],
   "source": [
    "#Keyword only arguments "
   ]
  },
  {
   "cell_type": "code",
   "execution_count": 4,
   "id": "0adbbc54-4561-43f3-abab-5a63eaa65ed4",
   "metadata": {},
   "outputs": [
    {
     "name": "stdout",
     "output_type": "stream",
     "text": [
      "1\n",
      "2\n",
      "(4, 5)\n",
      "1\n"
     ]
    }
   ],
   "source": [
    "# c becomes a keyword only argument as *args will scoop all positional arguments. \n",
    "def func(a,b,*args,c):\n",
    "    print(a)\n",
    "    print(b)\n",
    "    print(args)\n",
    "    print(c)\n",
    "\n",
    "func(1,2,4,5,c=1)"
   ]
  },
  {
   "cell_type": "code",
   "execution_count": 5,
   "id": "0166bbb1-d25c-4d30-9b9a-fcd77e71a0d5",
   "metadata": {},
   "outputs": [
    {
     "ename": "TypeError",
     "evalue": "func() missing 1 required keyword-only argument: 'c'",
     "output_type": "error",
     "traceback": [
      "\u001b[0;31m---------------------------------------------------------------------------\u001b[0m",
      "\u001b[0;31mTypeError\u001b[0m                                 Traceback (most recent call last)",
      "Cell \u001b[0;32mIn[5], line 1\u001b[0m\n\u001b[0;32m----> 1\u001b[0m \u001b[43mfunc\u001b[49m\u001b[43m(\u001b[49m\u001b[38;5;241;43m1\u001b[39;49m\u001b[43m,\u001b[49m\u001b[38;5;241;43m2\u001b[39;49m\u001b[43m,\u001b[49m\u001b[38;5;241;43m4\u001b[39;49m\u001b[43m,\u001b[49m\u001b[38;5;241;43m5\u001b[39;49m\u001b[43m,\u001b[49m\u001b[38;5;241;43m6\u001b[39;49m\u001b[43m)\u001b[49m\n",
      "\u001b[0;31mTypeError\u001b[0m: func() missing 1 required keyword-only argument: 'c'"
     ]
    }
   ],
   "source": [
    "func(1,2,4,5,6)"
   ]
  },
  {
   "cell_type": "code",
   "execution_count": 9,
   "id": "23f7cf72-ab9a-4d3e-9fa5-1757a169d2d0",
   "metadata": {},
   "outputs": [
    {
     "name": "stdout",
     "output_type": "stream",
     "text": [
      "10\n",
      "20\n",
      "10\n"
     ]
    }
   ],
   "source": [
    "# This means after a and b, we say there are no more positional arguments ( denoted by * ) and whatever follows it must be \n",
    "# a keyword only argument.\n",
    "def func(a,b,*,c):\n",
    "    print(a)\n",
    "    print(b)\n",
    "    print(c)\n",
    "\n",
    "func(10,20,c=10)"
   ]
  },
  {
   "cell_type": "code",
   "execution_count": 11,
   "id": "e4916ed6-aff9-4622-868d-524d26a97617",
   "metadata": {},
   "outputs": [
    {
     "name": "stdout",
     "output_type": "stream",
     "text": [
      "1 1 2 30 20 40\n"
     ]
    }
   ],
   "source": [
    "# This is also allowed \n",
    "\n",
    "def func(a, b=1, c=2, *, d=30, e, f=40):\n",
    "    print(a,b,c,d,e,f)\n",
    "\n",
    "func(1, e=20)"
   ]
  },
  {
   "cell_type": "code",
   "execution_count": 15,
   "id": "e867b779-0be2-4dc4-ad5b-dc4a60758044",
   "metadata": {},
   "outputs": [
    {
     "name": "stdout",
     "output_type": "stream",
     "text": [
      "2 3 4 20 60 70\n"
     ]
    }
   ],
   "source": [
    "func(2,3,4,d=20,e=60,f=70)"
   ]
  },
  {
   "cell_type": "code",
   "execution_count": 19,
   "id": "3c8f0da3-c677-40dd-b75a-ad03f0bc0a64",
   "metadata": {},
   "outputs": [],
   "source": [
    "# Forcing the users to pass the arguments as keyword arguments. No positional arguments are allowed. \n",
    "def coords_to_json(*, long, lat):\n",
    "    return f\"{{ 'long': {long}, 'lat': {lat} }}\"\n",
    "    "
   ]
  },
  {
   "cell_type": "code",
   "execution_count": 22,
   "id": "8b627a4a-2925-46e0-a411-c421742eefc3",
   "metadata": {},
   "outputs": [
    {
     "data": {
      "text/plain": [
       "\"{ 'long': 10, 'lat': 20 }\""
      ]
     },
     "execution_count": 22,
     "metadata": {},
     "output_type": "execute_result"
    }
   ],
   "source": [
    "coords_to_json(long=10,lat=20)"
   ]
  },
  {
   "cell_type": "code",
   "execution_count": 23,
   "id": "09306c42-ed0e-48b0-8e37-8e70ed71aa45",
   "metadata": {},
   "outputs": [
    {
     "name": "stdout",
     "output_type": "stream",
     "text": [
      "1\n",
      "2\n",
      "(3, 4, 5)\n",
      "7\n",
      "8\n",
      "{'x': 100, 'y': 200}\n"
     ]
    }
   ],
   "source": [
    "def func(a, b, *args, c, d, **kwargs):\n",
    "    print(a)\n",
    "    print(b)\n",
    "    print(args)\n",
    "    print(c)\n",
    "    print(d)\n",
    "    print(kwargs)\n",
    "\n",
    "func(1,2, 3,4,5, c=7, d=8, x=100, y=200)"
   ]
  },
  {
   "cell_type": "code",
   "execution_count": 24,
   "id": "be09400a-15dd-4c7d-9319-a247f05c3338",
   "metadata": {},
   "outputs": [
    {
     "ename": "TypeError",
     "evalue": "func() takes 0 positional arguments but 4 were given",
     "output_type": "error",
     "traceback": [
      "\u001b[0;31m---------------------------------------------------------------------------\u001b[0m",
      "\u001b[0;31mTypeError\u001b[0m                                 Traceback (most recent call last)",
      "Cell \u001b[0;32mIn[24], line 4\u001b[0m\n\u001b[1;32m      1\u001b[0m \u001b[38;5;28;01mdef\u001b[39;00m \u001b[38;5;21mfunc\u001b[39m(\u001b[38;5;241m*\u001b[39m\u001b[38;5;241m*\u001b[39mkwargs):\n\u001b[1;32m      2\u001b[0m     \u001b[38;5;28;01mreturn\u001b[39;00m kwargs\n\u001b[0;32m----> 4\u001b[0m \u001b[43mfunc\u001b[49m\u001b[43m(\u001b[49m\u001b[38;5;241;43m10\u001b[39;49m\u001b[43m,\u001b[49m\u001b[38;5;241;43m20\u001b[39;49m\u001b[43m,\u001b[49m\u001b[38;5;241;43m30\u001b[39;49m\u001b[43m,\u001b[49m\u001b[38;5;241;43m40\u001b[39;49m\u001b[43m)\u001b[49m\n",
      "\u001b[0;31mTypeError\u001b[0m: func() takes 0 positional arguments but 4 were given"
     ]
    }
   ],
   "source": [
    "def func(**kwargs):\n",
    "    return kwargs\n",
    "\n",
    "func(10,20,30,40)"
   ]
  },
  {
   "cell_type": "code",
   "execution_count": 1,
   "id": "6921555f-3028-4122-87a5-0f4f35cce3d1",
   "metadata": {},
   "outputs": [],
   "source": [
    "#lambda functions - They return a function object "
   ]
  },
  {
   "cell_type": "code",
   "execution_count": 2,
   "id": "73c34cef-8849-4c13-ab81-afe0eac587df",
   "metadata": {},
   "outputs": [
    {
     "data": {
      "text/plain": [
       "30"
      ]
     },
     "execution_count": 2,
     "metadata": {},
     "output_type": "execute_result"
    }
   ],
   "source": [
    "f = lambda a, b: a+b\n",
    "\n",
    "f(10,20)"
   ]
  },
  {
   "cell_type": "code",
   "execution_count": 3,
   "id": "10487114-4c30-43e0-b119-25ba5f7efe44",
   "metadata": {},
   "outputs": [
    {
     "data": {
      "text/plain": [
       "6"
      ]
     },
     "execution_count": 3,
     "metadata": {},
     "output_type": "execute_result"
    }
   ],
   "source": [
    "f2 = lambda a, b, c: max(a,b,c)\n",
    "\n",
    "f2(1,4,6)"
   ]
  },
  {
   "cell_type": "code",
   "execution_count": 4,
   "id": "c488caf3-ca22-4189-816e-a041531fa14d",
   "metadata": {},
   "outputs": [
    {
     "data": {
      "text/plain": [
       "[[1, 0, 0, 0, 0],\n",
       " [0, 1, 0, 0, 0],\n",
       " [0, 0, 1, 0, 0],\n",
       " [0, 0, 0, 1, 0],\n",
       " [0, 0, 0, 0, 1]]"
      ]
     },
     "execution_count": 4,
     "metadata": {},
     "output_type": "execute_result"
    }
   ],
   "source": [
    "f = lambda rows, cols: [\n",
    "    [1 if row == col else 0 for col in range(cols)] \n",
    "    for row in range(rows)\n",
    "  ]\n",
    "\n",
    "f(5,5)"
   ]
  },
  {
   "cell_type": "code",
   "execution_count": 6,
   "id": "55212741-7c5b-4639-a570-4b594b3ff401",
   "metadata": {},
   "outputs": [
    {
     "data": {
      "text/plain": [
       "[[1, 0], [0, 1]]"
      ]
     },
     "execution_count": 6,
     "metadata": {},
     "output_type": "execute_result"
    }
   ],
   "source": [
    "# With default values \n",
    "f = lambda rows=2, cols=2: [\n",
    "    [1 if row == col else 0 for col in range(cols)] \n",
    "    for row in range(rows)\n",
    "  ]\n",
    "f()"
   ]
  },
  {
   "cell_type": "code",
   "execution_count": 1,
   "id": "48b130c8-d9e5-42f2-bf66-f244a1f4c938",
   "metadata": {},
   "outputs": [
    {
     "data": {
      "text/plain": [
       "0.33"
      ]
     },
     "execution_count": 1,
     "metadata": {},
     "output_type": "execute_result"
    }
   ],
   "source": [
    "#Built in functions\n",
    "\n",
    "# round\n",
    "\n",
    "round(0.325, 2)"
   ]
  },
  {
   "cell_type": "code",
   "execution_count": 3,
   "id": "6518cc1f-7fd7-4865-96e2-9efd561f9e66",
   "metadata": {},
   "outputs": [
    {
     "data": {
      "text/plain": [
       "(0, 1)"
      ]
     },
     "execution_count": 3,
     "metadata": {},
     "output_type": "execute_result"
    }
   ],
   "source": [
    "round(0.3364), round(0.775)"
   ]
  },
  {
   "cell_type": "code",
   "execution_count": 7,
   "id": "b5b55178-c344-48e4-8818-d9477e86f390",
   "metadata": {},
   "outputs": [
    {
     "data": {
      "text/plain": [
       "(0.12, 12)"
      ]
     },
     "execution_count": 7,
     "metadata": {},
     "output_type": "execute_result"
    }
   ],
   "source": [
    "# For ties, it'll round to the nearest even digit\n",
    "round(0.125, 2), round(12.5)"
   ]
  },
  {
   "cell_type": "code",
   "execution_count": 8,
   "id": "aab9b6c7-c54c-48c1-8223-3447fab0c15a",
   "metadata": {},
   "outputs": [
    {
     "data": {
      "text/plain": [
       "(0.12, 0.1, 0.125)"
      ]
     },
     "execution_count": 8,
     "metadata": {},
     "output_type": "execute_result"
    }
   ],
   "source": [
    "round(0.125, 2), round(0.125, 1), round(0.125,3)"
   ]
  },
  {
   "cell_type": "code",
   "execution_count": 10,
   "id": "b6f11a48-c463-48bc-9dde-3a38dd294d76",
   "metadata": {},
   "outputs": [
    {
     "data": {
      "text/plain": [
       "(1240, 1240)"
      ]
     },
     "execution_count": 10,
     "metadata": {},
     "output_type": "execute_result"
    }
   ],
   "source": [
    "round(1235, -1), round(1245, -1) # tie and rounding to nearest even digit "
   ]
  },
  {
   "cell_type": "code",
   "execution_count": 2,
   "id": "074208b3-4f32-41e0-97a3-657a0c9078dd",
   "metadata": {},
   "outputs": [
    {
     "data": {
      "text/plain": [
       "[10, 9, 6, 4, 3]"
      ]
     },
     "execution_count": 2,
     "metadata": {},
     "output_type": "execute_result"
    }
   ],
   "source": [
    "#sorted, min and max \n",
    "\n",
    "sorted([4,3,6,9,10], reverse=True)"
   ]
  },
  {
   "cell_type": "code",
   "execution_count": 4,
   "id": "3dc57ac0-c399-45ea-b6b7-65a3b4bbfb3c",
   "metadata": {},
   "outputs": [
    {
     "data": {
      "text/plain": [
       "[0, 1, 2, 6, 27, 65, 92]"
      ]
     },
     "execution_count": 4,
     "metadata": {},
     "output_type": "execute_result"
    }
   ],
   "source": [
    "sorted({2,1,0,6,92,27,65})"
   ]
  },
  {
   "cell_type": "code",
   "execution_count": 6,
   "id": "da7f2984-70b2-4ad9-a481-7d75daccb323",
   "metadata": {},
   "outputs": [
    {
     "data": {
      "text/plain": [
       "\u001b[0;31mSignature:\u001b[0m \u001b[0msorted\u001b[0m\u001b[0;34m(\u001b[0m\u001b[0miterable\u001b[0m\u001b[0;34m,\u001b[0m \u001b[0;34m/\u001b[0m\u001b[0;34m,\u001b[0m \u001b[0;34m*\u001b[0m\u001b[0;34m,\u001b[0m \u001b[0mkey\u001b[0m\u001b[0;34m=\u001b[0m\u001b[0;32mNone\u001b[0m\u001b[0;34m,\u001b[0m \u001b[0mreverse\u001b[0m\u001b[0;34m=\u001b[0m\u001b[0;32mFalse\u001b[0m\u001b[0;34m)\u001b[0m\u001b[0;34m\u001b[0m\u001b[0;34m\u001b[0m\u001b[0m\n",
       "\u001b[0;31mDocstring:\u001b[0m\n",
       "Return a new list containing all items from the iterable in ascending order.\n",
       "\n",
       "A custom key function can be supplied to customize the sort order, and the\n",
       "reverse flag can be set to request the result in descending order.\n",
       "\u001b[0;31mType:\u001b[0m      builtin_function_or_method"
      ]
     },
     "metadata": {},
     "output_type": "display_data"
    }
   ],
   "source": [
    "# Sorted takes any iterable and returns a sorted list\n",
    "\n",
    "?sorted\n",
    "\n",
    "#/ here tells iterable has to positional and not keyword argument "
   ]
  },
  {
   "cell_type": "code",
   "execution_count": 7,
   "id": "279db975-b845-4fef-9cbb-1b0f62e5e317",
   "metadata": {},
   "outputs": [
    {
     "data": {
      "text/plain": [
       "97"
      ]
     },
     "execution_count": 7,
     "metadata": {},
     "output_type": "execute_result"
    }
   ],
   "source": [
    "ord('a')"
   ]
  },
  {
   "cell_type": "code",
   "execution_count": 8,
   "id": "7035303f-62a5-4241-898a-c72202e4c5dd",
   "metadata": {},
   "outputs": [
    {
     "data": {
      "text/plain": [
       "'0x61'"
      ]
     },
     "execution_count": 8,
     "metadata": {},
     "output_type": "execute_result"
    }
   ],
   "source": [
    "hex(ord('a'))"
   ]
  },
  {
   "cell_type": "code",
   "execution_count": 10,
   "id": "49ab783d-0ac6-4d3c-9d12-e02b698b41c5",
   "metadata": {},
   "outputs": [
    {
     "data": {
      "text/plain": [
       "['J', 'J', 'a', 'n', 'n', 'u']"
      ]
     },
     "execution_count": 10,
     "metadata": {},
     "output_type": "execute_result"
    }
   ],
   "source": [
    "sorted('JunJan')"
   ]
  },
  {
   "cell_type": "code",
   "execution_count": 11,
   "id": "18f39f17-47c4-4f5d-8193-ecec571cb96b",
   "metadata": {},
   "outputs": [
    {
     "data": {
      "text/plain": [
       "['Zebra', 'apple']"
      ]
     },
     "execution_count": 11,
     "metadata": {},
     "output_type": "execute_result"
    }
   ],
   "source": [
    "sorted(['Zebra', 'apple'])"
   ]
  },
  {
   "cell_type": "code",
   "execution_count": 12,
   "id": "8c861dc0-87ee-4fdd-acdd-d100c0b598ec",
   "metadata": {},
   "outputs": [
    {
     "data": {
      "text/plain": [
       "['apple', 'atom']"
      ]
     },
     "execution_count": 12,
     "metadata": {},
     "output_type": "execute_result"
    }
   ],
   "source": [
    "sorted(['atom', 'apple'])"
   ]
  },
  {
   "cell_type": "code",
   "execution_count": 13,
   "id": "5968c7d7-17f1-4a00-9ec9-27ea80c7d1d6",
   "metadata": {},
   "outputs": [
    {
     "data": {
      "text/plain": [
       "1"
      ]
     },
     "execution_count": 13,
     "metadata": {},
     "output_type": "execute_result"
    }
   ],
   "source": [
    "min([2,1,5,6,9,10])"
   ]
  },
  {
   "cell_type": "code",
   "execution_count": 14,
   "id": "b140724e-e352-4c7d-8d29-5fcfef11995b",
   "metadata": {},
   "outputs": [
    {
     "ename": "ValueError",
     "evalue": "min() iterable argument is empty",
     "output_type": "error",
     "traceback": [
      "\u001b[0;31m---------------------------------------------------------------------------\u001b[0m",
      "\u001b[0;31mValueError\u001b[0m                                Traceback (most recent call last)",
      "Cell \u001b[0;32mIn[14], line 3\u001b[0m\n\u001b[1;32m      1\u001b[0m \u001b[38;5;66;03m# Min sorts the iterable and then picks the first element\u001b[39;00m\n\u001b[0;32m----> 3\u001b[0m \u001b[38;5;28;43mmin\u001b[39;49m\u001b[43m(\u001b[49m\u001b[43m[\u001b[49m\u001b[43m]\u001b[49m\u001b[43m)\u001b[49m\n",
      "\u001b[0;31mValueError\u001b[0m: min() iterable argument is empty"
     ]
    }
   ],
   "source": [
    "# Min sorts the iterable and then picks the first element\n",
    "\n",
    "min([])"
   ]
  },
  {
   "cell_type": "code",
   "execution_count": 15,
   "id": "0848725f-5afa-44e7-b5e4-a422f7f925bf",
   "metadata": {},
   "outputs": [
    {
     "data": {
      "text/plain": [
       "0"
      ]
     },
     "execution_count": 15,
     "metadata": {},
     "output_type": "execute_result"
    }
   ],
   "source": [
    "min([], default=0)"
   ]
  },
  {
   "cell_type": "code",
   "execution_count": 16,
   "id": "b5dbcc8b-50b9-4267-aba4-84f4f11a3d46",
   "metadata": {},
   "outputs": [
    {
     "data": {
      "text/plain": [
       "10"
      ]
     },
     "execution_count": 16,
     "metadata": {},
     "output_type": "execute_result"
    }
   ],
   "source": [
    "max([2,1,5,6,9,10])"
   ]
  },
  {
   "cell_type": "code",
   "execution_count": 5,
   "id": "4f0cc0f9-39a9-47c0-88b8-3e457b2ca0e4",
   "metadata": {},
   "outputs": [
    {
     "data": {
      "text/plain": [
       "(1, 'a')"
      ]
     },
     "execution_count": 5,
     "metadata": {},
     "output_type": "execute_result"
    }
   ],
   "source": [
    "# Zip function \n",
    "\n",
    "# Zip returns a iterator \n",
    "\n",
    "l1 = [1,2,3]\n",
    "l2 = ['a','b','c']\n",
    "\n",
    "next(zip(l1, l2)) #Iterator"
   ]
  },
  {
   "cell_type": "code",
   "execution_count": 6,
   "id": "65546c3e-8c61-4a3b-82fe-4312068f1e4f",
   "metadata": {},
   "outputs": [],
   "source": [
    "# Creating zip object has almost zero costs, as they are produced only 1 at a time. "
   ]
  },
  {
   "cell_type": "code",
   "execution_count": 7,
   "id": "819e3821-0a7e-41e0-a77a-ed3f2dad7451",
   "metadata": {},
   "outputs": [
    {
     "name": "stdout",
     "output_type": "stream",
     "text": [
      "0.00010012499842559919\n"
     ]
    }
   ],
   "source": [
    "from time import perf_counter \n",
    "\n",
    "start = perf_counter()\n",
    "\n",
    "l1 = range(10_000_000)\n",
    "l2 = range(10_000_000)\n",
    "\n",
    "combo = zip(l1, l2)\n",
    "end = perf_counter()\n",
    "\n",
    "print(end - start)"
   ]
  },
  {
   "cell_type": "code",
   "execution_count": 8,
   "id": "b31ddb79-14c2-4cbb-815f-fa0c0dfd9f4f",
   "metadata": {},
   "outputs": [
    {
     "name": "stdout",
     "output_type": "stream",
     "text": [
      "0.5583816669968655\n"
     ]
    }
   ],
   "source": [
    "from time import perf_counter \n",
    "\n",
    "start = perf_counter()\n",
    "\n",
    "l1 = range(10_000_000)\n",
    "l2 = range(10_000_000)\n",
    "\n",
    "combo = list(zip(l1, l2))\n",
    "end = perf_counter()\n",
    "\n",
    "print(end - start)"
   ]
  },
  {
   "cell_type": "code",
   "execution_count": 9,
   "id": "220ab966-4564-4dcf-a540-7313d318820c",
   "metadata": {},
   "outputs": [
    {
     "data": {
      "text/plain": [
       "{'a': 1, 'b': 2, 'c': 3}"
      ]
     },
     "execution_count": 9,
     "metadata": {},
     "output_type": "execute_result"
    }
   ],
   "source": [
    "d = dict([('a', 1), ('b', 2), ('c', 3)])\n",
    "\n",
    "d"
   ]
  },
  {
   "cell_type": "code",
   "execution_count": 1,
   "id": "8bff2ef6-99b5-4651-9882-7e6efa12d860",
   "metadata": {},
   "outputs": [],
   "source": [
    "# Higher order functions - A function which can return or receive a function "
   ]
  },
  {
   "cell_type": "code",
   "execution_count": 5,
   "id": "5a25e2bc-43d1-4d6e-acc2-ef9f1a3095fe",
   "metadata": {},
   "outputs": [
    {
     "data": {
      "text/plain": [
       "'Hello, Eric Little!'"
      ]
     },
     "execution_count": 5,
     "metadata": {},
     "output_type": "execute_result"
    }
   ],
   "source": [
    "def say_hello(first_name, second_name):\n",
    "    def assemble_name():\n",
    "        return ' '.join([first_name, second_name])\n",
    "    return ''.join([\"Hello, \", assemble_name(), \"!\"])\n",
    "\n",
    "say_hello('Eric', 'Little')"
   ]
  },
  {
   "cell_type": "code",
   "execution_count": 6,
   "id": "de53be89-a361-4b67-a10a-5592656f4eec",
   "metadata": {},
   "outputs": [],
   "source": [
    "# Pass the function and don't call it - Without parenthesis"
   ]
  },
  {
   "cell_type": "code",
   "execution_count": 12,
   "id": "af09e2af-abc3-41bc-90ce-44520a79ec86",
   "metadata": {},
   "outputs": [
    {
     "data": {
      "text/plain": [
       "(3, 'Hello, Harish!')"
      ]
     },
     "execution_count": 12,
     "metadata": {},
     "output_type": "execute_result"
    }
   ],
   "source": [
    "# We passed multiple arguments with *args but in the body we are unpacking it as we need positionals for the add and greet\n",
    "# functions \n",
    "def add(a,b):\n",
    "    return a+b \n",
    "\n",
    "def greet(name):\n",
    "    return f'Hello, {name}!'\n",
    "\n",
    "add(1,2), greet('Harish')"
   ]
  },
  {
   "cell_type": "code",
   "execution_count": 8,
   "id": "f081b6be-1512-4a43-883a-20f2efe89062",
   "metadata": {},
   "outputs": [
    {
     "data": {
      "text/plain": [
       "5"
      ]
     },
     "execution_count": 8,
     "metadata": {},
     "output_type": "execute_result"
    }
   ],
   "source": [
    "def apply(func, *args):\n",
    "    result = func(*args)\n",
    "    return result \n",
    "\n",
    "apply(add, 2, 3)"
   ]
  },
  {
   "cell_type": "code",
   "execution_count": 9,
   "id": "a6aca0a0-deab-447d-b461-072cde8823a0",
   "metadata": {},
   "outputs": [
    {
     "data": {
      "text/plain": [
       "'Hello, Harish!'"
      ]
     },
     "execution_count": 9,
     "metadata": {},
     "output_type": "execute_result"
    }
   ],
   "source": [
    "apply(greet, 'Harish')"
   ]
  },
  {
   "cell_type": "code",
   "execution_count": 13,
   "id": "fd832cd8-b797-4c16-b3a8-6db35d6577dd",
   "metadata": {},
   "outputs": [
    {
     "data": {
      "text/plain": [
       "5"
      ]
     },
     "execution_count": 13,
     "metadata": {},
     "output_type": "execute_result"
    }
   ],
   "source": [
    "def choose_operator(name):\n",
    "    if name == 'add':\n",
    "        return add\n",
    "    if name == 'greet':\n",
    "        return greet \n",
    "\n",
    "f = choose_operator('add')\n",
    "\n",
    "f(2,3)"
   ]
  },
  {
   "cell_type": "code",
   "execution_count": 14,
   "id": "36ed3fd1-f365-4a08-bd7d-80c4006bac88",
   "metadata": {},
   "outputs": [],
   "source": [
    "f = choose_operator('greet')"
   ]
  },
  {
   "cell_type": "code",
   "execution_count": 15,
   "id": "90a10081-62ef-4094-8d9e-a4e512bfe526",
   "metadata": {},
   "outputs": [
    {
     "data": {
      "text/plain": [
       "'Hello, Harish!'"
      ]
     },
     "execution_count": 15,
     "metadata": {},
     "output_type": "execute_result"
    }
   ],
   "source": [
    "f('Harish')"
   ]
  },
  {
   "cell_type": "code",
   "execution_count": 16,
   "id": "dff99cd9-84cb-419b-b3ef-e438bb3e2cb9",
   "metadata": {},
   "outputs": [
    {
     "name": "stdout",
     "output_type": "stream",
     "text": [
      "0.020617832997231744\n"
     ]
    }
   ],
   "source": [
    "# Let's time the function calls \n",
    "\n",
    "def in_list(l, element):\n",
    "    return element in l\n",
    "\n",
    "def in_tuple(t, element):\n",
    "    return element in t\n",
    "\n",
    "def in_set(s, element):\n",
    "    return element in s\n",
    "\n",
    "from time import perf_counter\n",
    "\n",
    "n = 10_000_000\n",
    "\n",
    "l = list(range(n))\n",
    "t = tuple(range(n))\n",
    "s = set(range(n))\n",
    "\n",
    "element = 5_000_000\n",
    "\n",
    "start = perf_counter() \n",
    "\n",
    "in_list(l, element )\n",
    "\n",
    "end = perf_counter() \n",
    "\n",
    "print(end - start)"
   ]
  },
  {
   "cell_type": "code",
   "execution_count": 17,
   "id": "1cc7f555-dfdb-43e1-98af-32c68d760fee",
   "metadata": {},
   "outputs": [
    {
     "name": "stdout",
     "output_type": "stream",
     "text": [
      "0.04014741699938895\n"
     ]
    }
   ],
   "source": [
    "start = perf_counter() \n",
    "\n",
    "in_tuple(t, element )\n",
    "\n",
    "end = perf_counter() \n",
    "\n",
    "print(end - start)"
   ]
  },
  {
   "cell_type": "code",
   "execution_count": 18,
   "id": "847b4894-631b-4e00-9a58-5fa964fb55e7",
   "metadata": {},
   "outputs": [
    {
     "name": "stdout",
     "output_type": "stream",
     "text": [
      "6.258399662328884e-05\n"
     ]
    }
   ],
   "source": [
    "start = perf_counter() \n",
    "\n",
    "in_tuple(s, element )\n",
    "\n",
    "end = perf_counter() \n",
    "\n",
    "print(end - start)"
   ]
  },
  {
   "cell_type": "code",
   "execution_count": 19,
   "id": "d3b8c6b6-a9db-458d-a768-093fde2a86c3",
   "metadata": {},
   "outputs": [],
   "source": [
    "# See how we copy pasted the code multiple times, it's not efficient \n",
    "\n",
    "def time_it(func, *args):\n",
    "    start = perf_counter()\n",
    "    result = func(*args)\n",
    "    end = perf_counter()\n",
    "    print (f'Elapsed time: {end - start}')\n",
    "    return result "
   ]
  },
  {
   "cell_type": "code",
   "execution_count": 20,
   "id": "0d8474b0-05ef-4179-8e00-81dfa411270b",
   "metadata": {},
   "outputs": [
    {
     "name": "stdout",
     "output_type": "stream",
     "text": [
      "Elapsed time: 0.04068008399917744\n"
     ]
    },
    {
     "data": {
      "text/plain": [
       "True"
      ]
     },
     "execution_count": 20,
     "metadata": {},
     "output_type": "execute_result"
    }
   ],
   "source": [
    "time_it(in_list, l, element)"
   ]
  },
  {
   "cell_type": "code",
   "execution_count": 21,
   "id": "8e00590c-d412-49df-86e9-d056c8462358",
   "metadata": {},
   "outputs": [
    {
     "name": "stdout",
     "output_type": "stream",
     "text": [
      "Elapsed time: 0.03755583299789578\n"
     ]
    },
    {
     "data": {
      "text/plain": [
       "True"
      ]
     },
     "execution_count": 21,
     "metadata": {},
     "output_type": "execute_result"
    }
   ],
   "source": [
    "time_it(in_tuple, t, element)"
   ]
  },
  {
   "cell_type": "code",
   "execution_count": 22,
   "id": "59daf04b-dbc6-44af-a9fe-e53568e7468a",
   "metadata": {},
   "outputs": [
    {
     "name": "stdout",
     "output_type": "stream",
     "text": [
      "Elapsed time: 4.125002305954695e-06\n"
     ]
    },
    {
     "data": {
      "text/plain": [
       "True"
      ]
     },
     "execution_count": 22,
     "metadata": {},
     "output_type": "execute_result"
    }
   ],
   "source": [
    "time_it(in_set, s, element)"
   ]
  },
  {
   "cell_type": "code",
   "execution_count": 9,
   "id": "26e0c826-5322-4116-ab36-7fb6a11ea95a",
   "metadata": {},
   "outputs": [
    {
     "data": {
      "text/plain": [
       "[2, 3, 3]"
      ]
     },
     "execution_count": 9,
     "metadata": {},
     "output_type": "execute_result"
    }
   ],
   "source": [
    "list(map(len, ['ab', 'cde', 'fgh']))"
   ]
  },
  {
   "cell_type": "code",
   "execution_count": 1,
   "id": "584de6e2-2a2e-450a-9725-8230089adcb0",
   "metadata": {},
   "outputs": [],
   "source": [
    "# Closures"
   ]
  },
  {
   "cell_type": "code",
   "execution_count": 2,
   "id": "84b6b41c-d408-4751-97a6-0273c463aff3",
   "metadata": {},
   "outputs": [
    {
     "data": {
      "text/plain": [
       "<function __main__.power.<locals>.retu_po(x)>"
      ]
     },
     "execution_count": 2,
     "metadata": {},
     "output_type": "execute_result"
    }
   ],
   "source": [
    "def power(n):\n",
    "    def retu_po(x):\n",
    "        return x ** n\n",
    "    return retu_po\n",
    "\n",
    "f = power(2)\n",
    "f"
   ]
  },
  {
   "cell_type": "code",
   "execution_count": 3,
   "id": "63c4dd3f-b598-4a65-8375-10706d58d39b",
   "metadata": {},
   "outputs": [
    {
     "data": {
      "text/plain": [
       "9"
      ]
     },
     "execution_count": 3,
     "metadata": {},
     "output_type": "execute_result"
    }
   ],
   "source": [
    "f(3)"
   ]
  },
  {
   "cell_type": "code",
   "execution_count": 5,
   "id": "95a16158-26e2-45ea-b100-ea7c48b1f7dc",
   "metadata": {},
   "outputs": [
    {
     "data": {
      "text/plain": [
       "(<cell at 0x10937cc70: int object at 0x106615c48>,\n",
       " <cell at 0x108fd67a0: int object at 0x106615c68>,\n",
       " <cell at 0x10938e890: int object at 0x106615c88>)"
      ]
     },
     "execution_count": 5,
     "metadata": {},
     "output_type": "execute_result"
    }
   ],
   "source": [
    "def outer(a, b):\n",
    "    sum_ = a + b\n",
    "    def inner():\n",
    "        product_ = a*b\n",
    "        print(a, b, sum_, product_)\n",
    "        return 'you just called a closure'\n",
    "    return inner\n",
    "\n",
    "f= outer(1,2)\n",
    "\n",
    "f.__closure__"
   ]
  },
  {
   "cell_type": "code",
   "execution_count": 6,
   "id": "cca3bda1-b5f3-4b0d-996d-41c7f40c3d17",
   "metadata": {},
   "outputs": [
    {
     "name": "stdout",
     "output_type": "stream",
     "text": [
      "1 2 3 2\n"
     ]
    },
    {
     "data": {
      "text/plain": [
       "'you just called a closure'"
      ]
     },
     "execution_count": 6,
     "metadata": {},
     "output_type": "execute_result"
    }
   ],
   "source": [
    "f()"
   ]
  },
  {
   "cell_type": "code",
   "execution_count": 7,
   "id": "a6c7a163-2599-4c92-b428-4533b86eebae",
   "metadata": {},
   "outputs": [
    {
     "data": {
      "text/plain": [
       "4"
      ]
     },
     "execution_count": 7,
     "metadata": {},
     "output_type": "execute_result"
    }
   ],
   "source": [
    "# Closure happens only when an inner function looks for values in the outer function\n",
    "\n",
    "def outer(a,b):\n",
    "    def inner(c):\n",
    "        return c ** 2\n",
    "    return inner \n",
    "\n",
    "f = outer(2,3)\n",
    "\n",
    "f(2)"
   ]
  },
  {
   "cell_type": "code",
   "execution_count": 9,
   "id": "dac8cf1e-0ca7-4ea1-ad64-3687af145bdd",
   "metadata": {},
   "outputs": [],
   "source": [
    "f.__closure__ # It doesn't print anything as there were no variables or events captured by inner from outer. "
   ]
  },
  {
   "cell_type": "code",
   "execution_count": 10,
   "id": "8b82fe80-3f4d-4568-a432-6f25e7a9c6c7",
   "metadata": {},
   "outputs": [],
   "source": [
    "def outer(func):\n",
    "    def inner(a, b):\n",
    "        result = func(a,b)\n",
    "        return result\n",
    "    return inner\n",
    "\n",
    "f = outer(lambda a, b: a+b)"
   ]
  },
  {
   "cell_type": "code",
   "execution_count": 11,
   "id": "6a964837-0b59-485a-ba21-edfd37537d10",
   "metadata": {},
   "outputs": [
    {
     "ename": "TypeError",
     "evalue": "outer.<locals>.inner() missing 2 required positional arguments: 'a' and 'b'",
     "output_type": "error",
     "traceback": [
      "\u001b[0;31m---------------------------------------------------------------------------\u001b[0m",
      "\u001b[0;31mTypeError\u001b[0m                                 Traceback (most recent call last)",
      "Cell \u001b[0;32mIn[11], line 1\u001b[0m\n\u001b[0;32m----> 1\u001b[0m \u001b[43mf\u001b[49m\u001b[43m(\u001b[49m\u001b[43m)\u001b[49m\n",
      "\u001b[0;31mTypeError\u001b[0m: outer.<locals>.inner() missing 2 required positional arguments: 'a' and 'b'"
     ]
    }
   ],
   "source": [
    "f()"
   ]
  },
  {
   "cell_type": "code",
   "execution_count": 12,
   "id": "580b672e-43c2-4858-aafd-992d5c182846",
   "metadata": {},
   "outputs": [
    {
     "data": {
      "text/plain": [
       "5"
      ]
     },
     "execution_count": 12,
     "metadata": {},
     "output_type": "execute_result"
    }
   ],
   "source": [
    "f(2,3)"
   ]
  },
  {
   "cell_type": "code",
   "execution_count": 13,
   "id": "087456e4-c634-4b5d-9da3-7246192dbf96",
   "metadata": {},
   "outputs": [
    {
     "data": {
      "text/plain": [
       "(<cell at 0x10937e0b0: function object at 0x1093772e0>,)"
      ]
     },
     "execution_count": 13,
     "metadata": {},
     "output_type": "execute_result"
    }
   ],
   "source": [
    "f.__closure__"
   ]
  },
  {
   "cell_type": "code",
   "execution_count": 15,
   "id": "12a8b427-e0e2-4007-ae88-9f9ce87f139a",
   "metadata": {},
   "outputs": [
    {
     "data": {
      "text/plain": [
       "20"
      ]
     },
     "execution_count": 15,
     "metadata": {},
     "output_type": "execute_result"
    }
   ],
   "source": [
    "def execute(func):\n",
    "    def inner(*args, **kwargs):\n",
    "        result = func(*args, **kwargs) # unpacking \n",
    "        return result\n",
    "    return inner\n",
    "\n",
    "f = execute(lambda x,y: x*y)\n",
    "\n",
    "f(4,5)"
   ]
  },
  {
   "cell_type": "code",
   "execution_count": 17,
   "id": "1097eaae-5a56-48de-91fd-a83657e14b54",
   "metadata": {},
   "outputs": [],
   "source": [
    "def say_hello(name):\n",
    "    return f\"Hello, {name}\"\n",
    "\n",
    "f = execute(say_hello)"
   ]
  },
  {
   "cell_type": "code",
   "execution_count": 18,
   "id": "e64d9efd-0287-4993-9f10-279c9bee6ac5",
   "metadata": {},
   "outputs": [
    {
     "data": {
      "text/plain": [
       "'Hello, Harish'"
      ]
     },
     "execution_count": 18,
     "metadata": {},
     "output_type": "execute_result"
    }
   ],
   "source": [
    "f(\"Harish\")"
   ]
  },
  {
   "cell_type": "code",
   "execution_count": 1,
   "id": "a829c9f4-606f-47a0-ac4e-39ca48ff789b",
   "metadata": {},
   "outputs": [],
   "source": [
    "#Filtering "
   ]
  },
  {
   "cell_type": "code",
   "execution_count": 7,
   "id": "da7873dc-52b0-426b-aa98-a920f10dc612",
   "metadata": {},
   "outputs": [
    {
     "data": {
      "text/plain": [
       "[0, 2, 4, 6, 8, 10]"
      ]
     },
     "execution_count": 7,
     "metadata": {},
     "output_type": "execute_result"
    }
   ],
   "source": [
    "def is_even(x):\n",
    "    return x%2 == 0\n",
    "\n",
    "list(filter(is_even, range(11)))"
   ]
  },
  {
   "cell_type": "code",
   "execution_count": 8,
   "id": "a7f31b88-9211-48cc-88b4-f0fc51190a1b",
   "metadata": {},
   "outputs": [],
   "source": [
    "evens = list(filter(lambda n: n%2 ==0, range(11)))"
   ]
  },
  {
   "cell_type": "code",
   "execution_count": 9,
   "id": "7053bc85-bc7f-46d2-b146-8aad336ba115",
   "metadata": {},
   "outputs": [
    {
     "data": {
      "text/plain": [
       "[0, 2, 4, 6, 8, 10]"
      ]
     },
     "execution_count": 9,
     "metadata": {},
     "output_type": "execute_result"
    }
   ],
   "source": [
    "evens "
   ]
  },
  {
   "cell_type": "code",
   "execution_count": 1,
   "id": "3123b140-586b-430b-945c-1e6e0840fc0b",
   "metadata": {},
   "outputs": [],
   "source": [
    "#Sorting"
   ]
  },
  {
   "cell_type": "code",
   "execution_count": 2,
   "id": "74bb9142-7db4-49e4-a8b5-8c456f59e3d2",
   "metadata": {},
   "outputs": [
    {
     "data": {
      "text/plain": [
       "[1, 2, 3, 4, 7, 8, 9, 11]"
      ]
     },
     "execution_count": 2,
     "metadata": {},
     "output_type": "execute_result"
    }
   ],
   "source": [
    "sorted([8,1,3,2,9,4,11,7])"
   ]
  },
  {
   "cell_type": "code",
   "execution_count": 3,
   "id": "dcad4f4e-51ee-4543-891a-ea480085b664",
   "metadata": {},
   "outputs": [],
   "source": [
    "# Here we will discuss about sorting by what? "
   ]
  },
  {
   "cell_type": "code",
   "execution_count": 4,
   "id": "94558873-e871-4bf9-8e1b-d3030365411d",
   "metadata": {},
   "outputs": [
    {
     "data": {
      "text/plain": [
       "[1, 2, -3, -4, 5, -6]"
      ]
     },
     "execution_count": 4,
     "metadata": {},
     "output_type": "execute_result"
    }
   ],
   "source": [
    "data = [1,2,-6,-4,5,-3]\n",
    "\n",
    "sorted(data, key=abs)"
   ]
  },
  {
   "cell_type": "code",
   "execution_count": 8,
   "id": "173c359e-edd9-41b6-b721-a86520dc89fd",
   "metadata": {},
   "outputs": [
    {
     "data": {
      "text/plain": [
       "['b', 'c', 'a']"
      ]
     },
     "execution_count": 8,
     "metadata": {},
     "output_type": "execute_result"
    }
   ],
   "source": [
    "d = {'a': 100, 'b': 300, 'c': 200}\n",
    "\n",
    "sorted(d, key=lambda x: d[x], reverse=True)"
   ]
  },
  {
   "cell_type": "code",
   "execution_count": 9,
   "id": "1dfa7c5d-1397-46f8-869b-94e23877049a",
   "metadata": {},
   "outputs": [
    {
     "data": {
      "text/plain": [
       "False"
      ]
     },
     "execution_count": 9,
     "metadata": {},
     "output_type": "execute_result"
    }
   ],
   "source": [
    "'a' > 'z'"
   ]
  },
  {
   "cell_type": "code",
   "execution_count": 10,
   "id": "62e7c985-a2a3-4e85-8de2-ec99fe249214",
   "metadata": {},
   "outputs": [],
   "source": [
    "data = [\n",
    "    {'date': '2020-04-09', 'symbol': 'AAPL', 'open': 268.70, 'high': 270.04, 'low': 264.70, 'close': 267.99},\n",
    "    {'date': '2020-04-09', 'symbol': 'MSFT', 'open': 166.36, 'high': 167.37, 'low': 163.33, 'close': 165.14},\n",
    "    {'date': '2020-04-09', 'symbol': 'AMZN', 'open': 2_044.30, 'high': 2_053.00, 'low': 2_017.66, 'close': 2_042.76},\n",
    "    {'date': '2020-04-09', 'symbol': 'FB', 'open': 175.90, 'high': 177.08, 'low': 171.57, 'close': 175.19}\n",
    "]"
   ]
  },
  {
   "cell_type": "code",
   "execution_count": 11,
   "id": "e95132d1-2561-4935-acd9-b7cc8cf41288",
   "metadata": {},
   "outputs": [
    {
     "data": {
      "text/plain": [
       "[{'date': '2020-04-09',\n",
       "  'symbol': 'AAPL',\n",
       "  'open': 268.7,\n",
       "  'high': 270.04,\n",
       "  'low': 264.7,\n",
       "  'close': 267.99},\n",
       " {'date': '2020-04-09',\n",
       "  'symbol': 'AMZN',\n",
       "  'open': 2044.3,\n",
       "  'high': 2053.0,\n",
       "  'low': 2017.66,\n",
       "  'close': 2042.76},\n",
       " {'date': '2020-04-09',\n",
       "  'symbol': 'FB',\n",
       "  'open': 175.9,\n",
       "  'high': 177.08,\n",
       "  'low': 171.57,\n",
       "  'close': 175.19},\n",
       " {'date': '2020-04-09',\n",
       "  'symbol': 'MSFT',\n",
       "  'open': 166.36,\n",
       "  'high': 167.37,\n",
       "  'low': 163.33,\n",
       "  'close': 165.14}]"
      ]
     },
     "execution_count": 11,
     "metadata": {},
     "output_type": "execute_result"
    }
   ],
   "source": [
    "sorted(data, key=lambda x: x['symbol'])"
   ]
  },
  {
   "cell_type": "code",
   "execution_count": 13,
   "id": "222457f4-5bf0-4f82-8a3e-c97b421efa05",
   "metadata": {},
   "outputs": [
    {
     "data": {
      "text/plain": [
       "[{'date': '2020-04-09',\n",
       "  'symbol': 'AMZN',\n",
       "  'open': 2044.3,\n",
       "  'high': 2053.0,\n",
       "  'low': 2017.66,\n",
       "  'close': 2042.76},\n",
       " {'date': '2020-04-09',\n",
       "  'symbol': 'AAPL',\n",
       "  'open': 268.7,\n",
       "  'high': 270.04,\n",
       "  'low': 264.7,\n",
       "  'close': 267.99},\n",
       " {'date': '2020-04-09',\n",
       "  'symbol': 'FB',\n",
       "  'open': 175.9,\n",
       "  'high': 177.08,\n",
       "  'low': 171.57,\n",
       "  'close': 175.19},\n",
       " {'date': '2020-04-09',\n",
       "  'symbol': 'MSFT',\n",
       "  'open': 166.36,\n",
       "  'high': 167.37,\n",
       "  'low': 163.33,\n",
       "  'close': 165.14}]"
      ]
     },
     "execution_count": 13,
     "metadata": {},
     "output_type": "execute_result"
    }
   ],
   "source": [
    "sorted(data, key=lambda x: x['close'], reverse=True)"
   ]
  },
  {
   "cell_type": "code",
   "execution_count": 15,
   "id": "9089928b-e324-4940-b317-033226eb08a8",
   "metadata": {},
   "outputs": [
    {
     "data": {
      "text/plain": [
       "[{'date': '2020-04-09',\n",
       "  'symbol': 'FB',\n",
       "  'open': 175.9,\n",
       "  'high': 177.08,\n",
       "  'low': 171.57,\n",
       "  'close': 175.19},\n",
       " {'date': '2020-04-09',\n",
       "  'symbol': 'AAPL',\n",
       "  'open': 268.7,\n",
       "  'high': 270.04,\n",
       "  'low': 264.7,\n",
       "  'close': 267.99},\n",
       " {'date': '2020-04-09',\n",
       "  'symbol': 'MSFT',\n",
       "  'open': 166.36,\n",
       "  'high': 167.37,\n",
       "  'low': 163.33,\n",
       "  'close': 165.14},\n",
       " {'date': '2020-04-09',\n",
       "  'symbol': 'AMZN',\n",
       "  'open': 2044.3,\n",
       "  'high': 2053.0,\n",
       "  'low': 2017.66,\n",
       "  'close': 2042.76}]"
      ]
     },
     "execution_count": 15,
     "metadata": {},
     "output_type": "execute_result"
    }
   ],
   "source": [
    "sorted(data, key=lambda x: len(x['symbol']))"
   ]
  },
  {
   "cell_type": "code",
   "execution_count": 16,
   "id": "f64e14bf-f089-47dd-9bce-80eefcf8e7c2",
   "metadata": {},
   "outputs": [],
   "source": [
    "# min and max "
   ]
  },
  {
   "cell_type": "code",
   "execution_count": 17,
   "id": "1b8fbc8d-8311-4c06-bc59-55a8a2d1d65d",
   "metadata": {},
   "outputs": [
    {
     "data": {
      "text/plain": [
       "1"
      ]
     },
     "execution_count": 17,
     "metadata": {},
     "output_type": "execute_result"
    }
   ],
   "source": [
    "data = [1,2,-6,-4,5,-3]\n",
    "\n",
    "min(data, key=abs)"
   ]
  },
  {
   "cell_type": "code",
   "execution_count": 18,
   "id": "b5bde2ca-7ca6-4698-91d1-85b9d4f6e04e",
   "metadata": {},
   "outputs": [
    {
     "data": {
      "text/plain": [
       "-6"
      ]
     },
     "execution_count": 18,
     "metadata": {},
     "output_type": "execute_result"
    }
   ],
   "source": [
    "max(data, key=abs)"
   ]
  },
  {
   "cell_type": "code",
   "execution_count": 1,
   "id": "184092b2-2a79-4fee-9501-deaeb226cda3",
   "metadata": {},
   "outputs": [],
   "source": [
    "# Decorators"
   ]
  },
  {
   "cell_type": "code",
   "execution_count": null,
   "id": "fc36ea1c-2ed2-424d-97a9-f6a168bd8bd4",
   "metadata": {},
   "outputs": [],
   "source": []
  }
 ],
 "metadata": {
  "kernelspec": {
   "display_name": "Python 3 (ipykernel)",
   "language": "python",
   "name": "python3"
  },
  "language_info": {
   "codemirror_mode": {
    "name": "ipython",
    "version": 3
   },
   "file_extension": ".py",
   "mimetype": "text/x-python",
   "name": "python",
   "nbconvert_exporter": "python",
   "pygments_lexer": "ipython3",
   "version": "3.12.3"
  }
 },
 "nbformat": 4,
 "nbformat_minor": 5
}
