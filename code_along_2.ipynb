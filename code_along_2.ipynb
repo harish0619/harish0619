{
 "cells": [
  {
   "cell_type": "code",
   "execution_count": 1,
   "id": "61bc70a2-7b1b-44ff-8bbc-70ce1f3c4ed4",
   "metadata": {},
   "outputs": [],
   "source": [
    "#Keyword only arguments "
   ]
  },
  {
   "cell_type": "code",
   "execution_count": 4,
   "id": "0adbbc54-4561-43f3-abab-5a63eaa65ed4",
   "metadata": {},
   "outputs": [
    {
     "name": "stdout",
     "output_type": "stream",
     "text": [
      "1\n",
      "2\n",
      "(4, 5)\n",
      "1\n"
     ]
    }
   ],
   "source": [
    "# c becomes a keyword only argument as *args will scoop all positional arguments. \n",
    "def func(a,b,*args,c):\n",
    "    print(a)\n",
    "    print(b)\n",
    "    print(args)\n",
    "    print(c)\n",
    "\n",
    "func(1,2,4,5,c=1)"
   ]
  },
  {
   "cell_type": "code",
   "execution_count": 5,
   "id": "0166bbb1-d25c-4d30-9b9a-fcd77e71a0d5",
   "metadata": {},
   "outputs": [
    {
     "ename": "TypeError",
     "evalue": "func() missing 1 required keyword-only argument: 'c'",
     "output_type": "error",
     "traceback": [
      "\u001b[0;31m---------------------------------------------------------------------------\u001b[0m",
      "\u001b[0;31mTypeError\u001b[0m                                 Traceback (most recent call last)",
      "Cell \u001b[0;32mIn[5], line 1\u001b[0m\n\u001b[0;32m----> 1\u001b[0m \u001b[43mfunc\u001b[49m\u001b[43m(\u001b[49m\u001b[38;5;241;43m1\u001b[39;49m\u001b[43m,\u001b[49m\u001b[38;5;241;43m2\u001b[39;49m\u001b[43m,\u001b[49m\u001b[38;5;241;43m4\u001b[39;49m\u001b[43m,\u001b[49m\u001b[38;5;241;43m5\u001b[39;49m\u001b[43m,\u001b[49m\u001b[38;5;241;43m6\u001b[39;49m\u001b[43m)\u001b[49m\n",
      "\u001b[0;31mTypeError\u001b[0m: func() missing 1 required keyword-only argument: 'c'"
     ]
    }
   ],
   "source": [
    "func(1,2,4,5,6)"
   ]
  },
  {
   "cell_type": "code",
   "execution_count": 9,
   "id": "23f7cf72-ab9a-4d3e-9fa5-1757a169d2d0",
   "metadata": {},
   "outputs": [
    {
     "name": "stdout",
     "output_type": "stream",
     "text": [
      "10\n",
      "20\n",
      "10\n"
     ]
    }
   ],
   "source": [
    "# This means after a and b, we say there are no more positional arguments ( denoted by * ) and whatever follows it must be \n",
    "# a keyword only argument.\n",
    "def func(a,b,*,c):\n",
    "    print(a)\n",
    "    print(b)\n",
    "    print(c)\n",
    "\n",
    "func(10,20,c=10)"
   ]
  },
  {
   "cell_type": "code",
   "execution_count": 11,
   "id": "e4916ed6-aff9-4622-868d-524d26a97617",
   "metadata": {},
   "outputs": [
    {
     "name": "stdout",
     "output_type": "stream",
     "text": [
      "1 1 2 30 20 40\n"
     ]
    }
   ],
   "source": [
    "# This is also allowed \n",
    "\n",
    "def func(a, b=1, c=2, *, d=30, e, f=40):\n",
    "    print(a,b,c,d,e,f)\n",
    "\n",
    "func(1, e=20)"
   ]
  },
  {
   "cell_type": "code",
   "execution_count": 15,
   "id": "e867b779-0be2-4dc4-ad5b-dc4a60758044",
   "metadata": {},
   "outputs": [
    {
     "name": "stdout",
     "output_type": "stream",
     "text": [
      "2 3 4 20 60 70\n"
     ]
    }
   ],
   "source": [
    "func(2,3,4,d=20,e=60,f=70)"
   ]
  },
  {
   "cell_type": "code",
   "execution_count": 19,
   "id": "3c8f0da3-c677-40dd-b75a-ad03f0bc0a64",
   "metadata": {},
   "outputs": [],
   "source": [
    "# Forcing the users to pass the arguments as keyword arguments. No positional arguments are allowed. \n",
    "def coords_to_json(*, long, lat):\n",
    "    return f\"{{ 'long': {long}, 'lat': {lat} }}\"\n",
    "    "
   ]
  },
  {
   "cell_type": "code",
   "execution_count": 22,
   "id": "8b627a4a-2925-46e0-a411-c421742eefc3",
   "metadata": {},
   "outputs": [
    {
     "data": {
      "text/plain": [
       "\"{ 'long': 10, 'lat': 20 }\""
      ]
     },
     "execution_count": 22,
     "metadata": {},
     "output_type": "execute_result"
    }
   ],
   "source": [
    "coords_to_json(long=10,lat=20)"
   ]
  },
  {
   "cell_type": "code",
   "execution_count": 23,
   "id": "09306c42-ed0e-48b0-8e37-8e70ed71aa45",
   "metadata": {},
   "outputs": [
    {
     "name": "stdout",
     "output_type": "stream",
     "text": [
      "1\n",
      "2\n",
      "(3, 4, 5)\n",
      "7\n",
      "8\n",
      "{'x': 100, 'y': 200}\n"
     ]
    }
   ],
   "source": [
    "def func(a, b, *args, c, d, **kwargs):\n",
    "    print(a)\n",
    "    print(b)\n",
    "    print(args)\n",
    "    print(c)\n",
    "    print(d)\n",
    "    print(kwargs)\n",
    "\n",
    "func(1,2, 3,4,5, c=7, d=8, x=100, y=200)"
   ]
  },
  {
   "cell_type": "code",
   "execution_count": 24,
   "id": "be09400a-15dd-4c7d-9319-a247f05c3338",
   "metadata": {},
   "outputs": [
    {
     "ename": "TypeError",
     "evalue": "func() takes 0 positional arguments but 4 were given",
     "output_type": "error",
     "traceback": [
      "\u001b[0;31m---------------------------------------------------------------------------\u001b[0m",
      "\u001b[0;31mTypeError\u001b[0m                                 Traceback (most recent call last)",
      "Cell \u001b[0;32mIn[24], line 4\u001b[0m\n\u001b[1;32m      1\u001b[0m \u001b[38;5;28;01mdef\u001b[39;00m \u001b[38;5;21mfunc\u001b[39m(\u001b[38;5;241m*\u001b[39m\u001b[38;5;241m*\u001b[39mkwargs):\n\u001b[1;32m      2\u001b[0m     \u001b[38;5;28;01mreturn\u001b[39;00m kwargs\n\u001b[0;32m----> 4\u001b[0m \u001b[43mfunc\u001b[49m\u001b[43m(\u001b[49m\u001b[38;5;241;43m10\u001b[39;49m\u001b[43m,\u001b[49m\u001b[38;5;241;43m20\u001b[39;49m\u001b[43m,\u001b[49m\u001b[38;5;241;43m30\u001b[39;49m\u001b[43m,\u001b[49m\u001b[38;5;241;43m40\u001b[39;49m\u001b[43m)\u001b[49m\n",
      "\u001b[0;31mTypeError\u001b[0m: func() takes 0 positional arguments but 4 were given"
     ]
    }
   ],
   "source": [
    "def func(**kwargs):\n",
    "    return kwargs\n",
    "\n",
    "func(10,20,30,40)"
   ]
  },
  {
   "cell_type": "code",
   "execution_count": 1,
   "id": "6921555f-3028-4122-87a5-0f4f35cce3d1",
   "metadata": {},
   "outputs": [],
   "source": [
    "#lambda functions - They return a function object "
   ]
  },
  {
   "cell_type": "code",
   "execution_count": 2,
   "id": "73c34cef-8849-4c13-ab81-afe0eac587df",
   "metadata": {},
   "outputs": [
    {
     "data": {
      "text/plain": [
       "30"
      ]
     },
     "execution_count": 2,
     "metadata": {},
     "output_type": "execute_result"
    }
   ],
   "source": [
    "f = lambda a, b: a+b\n",
    "\n",
    "f(10,20)"
   ]
  },
  {
   "cell_type": "code",
   "execution_count": 3,
   "id": "10487114-4c30-43e0-b119-25ba5f7efe44",
   "metadata": {},
   "outputs": [
    {
     "data": {
      "text/plain": [
       "6"
      ]
     },
     "execution_count": 3,
     "metadata": {},
     "output_type": "execute_result"
    }
   ],
   "source": [
    "f2 = lambda a, b, c: max(a,b,c)\n",
    "\n",
    "f2(1,4,6)"
   ]
  },
  {
   "cell_type": "code",
   "execution_count": 4,
   "id": "c488caf3-ca22-4189-816e-a041531fa14d",
   "metadata": {},
   "outputs": [
    {
     "data": {
      "text/plain": [
       "[[1, 0, 0, 0, 0],\n",
       " [0, 1, 0, 0, 0],\n",
       " [0, 0, 1, 0, 0],\n",
       " [0, 0, 0, 1, 0],\n",
       " [0, 0, 0, 0, 1]]"
      ]
     },
     "execution_count": 4,
     "metadata": {},
     "output_type": "execute_result"
    }
   ],
   "source": [
    "f = lambda rows, cols: [\n",
    "    [1 if row == col else 0 for col in range(cols)] \n",
    "    for row in range(rows)\n",
    "  ]\n",
    "\n",
    "f(5,5)"
   ]
  },
  {
   "cell_type": "code",
   "execution_count": 6,
   "id": "55212741-7c5b-4639-a570-4b594b3ff401",
   "metadata": {},
   "outputs": [
    {
     "data": {
      "text/plain": [
       "[[1, 0], [0, 1]]"
      ]
     },
     "execution_count": 6,
     "metadata": {},
     "output_type": "execute_result"
    }
   ],
   "source": [
    "# With default values \n",
    "f = lambda rows=2, cols=2: [\n",
    "    [1 if row == col else 0 for col in range(cols)] \n",
    "    for row in range(rows)\n",
    "  ]\n",
    "f()"
   ]
  },
  {
   "cell_type": "code",
   "execution_count": null,
   "id": "48b130c8-d9e5-42f2-bf66-f244a1f4c938",
   "metadata": {},
   "outputs": [],
   "source": []
  }
 ],
 "metadata": {
  "kernelspec": {
   "display_name": "Python 3 (ipykernel)",
   "language": "python",
   "name": "python3"
  },
  "language_info": {
   "codemirror_mode": {
    "name": "ipython",
    "version": 3
   },
   "file_extension": ".py",
   "mimetype": "text/x-python",
   "name": "python",
   "nbconvert_exporter": "python",
   "pygments_lexer": "ipython3",
   "version": "3.12.3"
  }
 },
 "nbformat": 4,
 "nbformat_minor": 5
}
