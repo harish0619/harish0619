{
 "cells": [
  {
   "cell_type": "code",
   "execution_count": 1,
   "id": "6a1c62ed-845b-45ac-b5a4-0deb50800794",
   "metadata": {},
   "outputs": [],
   "source": [
    "# CSV exercises"
   ]
  },
  {
   "cell_type": "code",
   "execution_count": 5,
   "id": "d47a8b71-f8e7-4753-a3bc-2df82306f36b",
   "metadata": {},
   "outputs": [
    {
     "name": "stdout",
     "output_type": "stream",
     "text": [
      "['10', '20', '30']\n",
      "30 10\n",
      "['30', '40', '50']\n",
      "50 30\n",
      "['60', '70', '80']\n",
      "80 60\n"
     ]
    }
   ],
   "source": [
    "import csv \n",
    "\n",
    "with open(\"/Users/harishd/Documents/Learning Materials/python-fundamentals-main/22 - CSV Module/06 - Exercises/file1.csv\") as f:\n",
    "    reader = csv.reader(f)\n",
    "    next_row = next(reader)\n",
    "    for row in reader:\n",
    "        print(row)\n",
    "        print(max(row), min(row))"
   ]
  },
  {
   "cell_type": "code",
   "execution_count": 16,
   "id": "aad728c6-93c9-4df4-b714-ee2cb937db78",
   "metadata": {},
   "outputs": [
    {
     "name": "stdout",
     "output_type": "stream",
     "text": [
      "['20', ' 1', ' -2']\n",
      "20.0 -2.0\n",
      "['-1.1', ' -2.2', ' -3.3']\n",
      "-1.1 -3.3\n"
     ]
    }
   ],
   "source": [
    "with open(\"/Users/harishd/Documents/Learning Materials/python-fundamentals-main/22 - CSV Module/06 - Exercises/file2.csv\") as f:\n",
    "    reader = csv.reader(f)\n",
    "    next_row = next(reader)\n",
    "    for row in reader:\n",
    "        print(row)\n",
    "        row = [float(r) for r in row]\n",
    "        print(max(row), min(row))"
   ]
  },
  {
   "cell_type": "code",
   "execution_count": 19,
   "id": "0f7a54f2-bdbe-4eae-934b-2fb5c0a13094",
   "metadata": {},
   "outputs": [
    {
     "name": "stdout",
     "output_type": "stream",
     "text": [
      "['10', '20', '30']\n",
      "30 10\n",
      "['40', '50', '60']\n",
      "60 40\n",
      "['100', '200', '300']\n",
      "300 100\n"
     ]
    }
   ],
   "source": [
    "with open(\"/Users/harishd/Documents/Learning Materials/python-fundamentals-main/22 - CSV Module/06 - Exercises/file3.tsv\") as f:\n",
    "    reader = csv.reader(f, delimiter='\\t')\n",
    "    next_row = next(reader)\n",
    "    for row in reader:\n",
    "        print(row)\n",
    "        #row = [float(r) for r in row]\n",
    "        print(max(row), min(row))"
   ]
  },
  {
   "cell_type": "code",
   "execution_count": 24,
   "id": "49ba3ba3-0112-4a4e-b00f-766169904bfa",
   "metadata": {},
   "outputs": [
    {
     "name": "stdout",
     "output_type": "stream",
     "text": [
      "[10.0, 20.0, 30.0]\n",
      "30.0 10.0\n",
      "[3.14, 25.0, 100.0]\n",
      "100.0 3.14\n",
      "[3.14, 20.0, 30.0]\n",
      "30.0 3.14\n"
     ]
    }
   ],
   "source": [
    "with open(\"/Users/harishd/Documents/Learning Materials/python-fundamentals-main/22 - CSV Module/06 - Exercises/file4.csv\") as f:\n",
    "    reader = csv.reader(f, delimiter='|')\n",
    "    next_row = next(reader)\n",
    "    for row in reader:\n",
    "        row = [float(r.strip('-')) for r in row]\n",
    "        print(row)\n",
    "        #row = [float(r) for r in row]\n",
    "        print(max(row), min(row))"
   ]
  },
  {
   "cell_type": "code",
   "execution_count": 25,
   "id": "81309eed-d900-4af0-9fec-5c5201dd624b",
   "metadata": {},
   "outputs": [],
   "source": [
    "data = [\n",
    "    {'a': '1_a', 'b': '1_b', 'c': '1_c'},\n",
    "    {'c': '2_c', 'd': '2_d'},\n",
    "    {'a': '3_a', 'c': '3_c', 'e': '3_e'}\n",
    "]"
   ]
  },
  {
   "cell_type": "code",
   "execution_count": 40,
   "id": "93279e48-d966-4bf4-a0d3-a31cd6141523",
   "metadata": {},
   "outputs": [
    {
     "name": "stdout",
     "output_type": "stream",
     "text": [
      "a,b,c,d,e\n",
      "\n",
      "1_a,1_b,1_c,,\n",
      "\n",
      ",,2_c,2_d,\n",
      "\n",
      "3_a,,3_c,,3_e\n",
      "\n"
     ]
    }
   ],
   "source": [
    "keys = []\n",
    "for row in data:\n",
    "    for key in list(row.keys()):\n",
    "        if key in keys:\n",
    "            continue\n",
    "        else:\n",
    "            keys.append(key)\n",
    "\n",
    "flattened = [[d.get(key, '') for key in keys] for d in data]\n",
    "\n",
    "with open('file5.csv', 'w') as f:\n",
    "    writer = csv.writer(f)\n",
    "    writer.writerow(keys)\n",
    "    for row in flattened:\n",
    "            writer.writerow(row)\n",
    "\n",
    "\n",
    "with open('file5.csv') as f:\n",
    "    for row in f:\n",
    "        print(row)"
   ]
  },
  {
   "cell_type": "code",
   "execution_count": null,
   "id": "dce0fe95-2922-4011-a633-ffa68b312e5a",
   "metadata": {},
   "outputs": [],
   "source": []
  }
 ],
 "metadata": {
  "kernelspec": {
   "display_name": "Python 3 (ipykernel)",
   "language": "python",
   "name": "python3"
  },
  "language_info": {
   "codemirror_mode": {
    "name": "ipython",
    "version": 3
   },
   "file_extension": ".py",
   "mimetype": "text/x-python",
   "name": "python",
   "nbconvert_exporter": "python",
   "pygments_lexer": "ipython3",
   "version": "3.12.3"
  }
 },
 "nbformat": 4,
 "nbformat_minor": 5
}
