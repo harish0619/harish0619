{
 "cells": [
  {
   "cell_type": "code",
   "execution_count": 1,
   "id": "521df7cb-d5a8-4b6b-8119-2188a9375670",
   "metadata": {},
   "outputs": [],
   "source": [
    "# Reading csv file "
   ]
  },
  {
   "cell_type": "code",
   "execution_count": 6,
   "id": "273f1171-a567-4d8b-8c1e-ec9057169409",
   "metadata": {},
   "outputs": [
    {
     "name": "stdout",
     "output_type": "stream",
     "text": [
      "['l1', 'l2', 'l3', 'l4', 'l5']\n"
     ]
    }
   ],
   "source": [
    "import csv \n",
    "\n",
    "with open('text.csv') as f:\n",
    "    reader = csv.reader(f)\n",
    "    for val in reader:\n",
    "        print(val)"
   ]
  },
  {
   "cell_type": "code",
   "execution_count": 7,
   "id": "065b34f7-08d9-4f7d-999d-61de300df45e",
   "metadata": {},
   "outputs": [
    {
     "name": "stdout",
     "output_type": "stream",
     "text": [
      "First Name,Last Name,DOB,Sketches\n",
      "\n",
      "John,Cleese,10/27/39,\"The Cheese Shop, Ministry of Silly Walks, It's the Arts\"\n",
      "\n",
      "Eric,Idle,3/29/43,\"The Cheese Shop, Nudge Nudge, \"\"Spam\"\"\"\n",
      "\n",
      "Peter,O'Toole,8/2/32,Lawrence of Arabia\n"
     ]
    }
   ],
   "source": [
    "with open('actors.csv') as f:\n",
    "    for row in f:\n",
    "        print(row)"
   ]
  },
  {
   "cell_type": "code",
   "execution_count": 8,
   "id": "962660dd-bd5c-40fd-9cce-e184f0a8bbd5",
   "metadata": {},
   "outputs": [
    {
     "name": "stdout",
     "output_type": "stream",
     "text": [
      "['First Name', 'Last Name', 'DOB', 'Sketches']\n",
      "['John', 'Cleese', '10/27/39', '\"The Cheese Shop', ' Ministry of Silly Walks', ' It\\'s the Arts\"']\n",
      "['Eric', 'Idle', '3/29/43', '\"The Cheese Shop', ' Nudge Nudge', ' \"\"Spam\"\"\"']\n",
      "['Peter', \"O'Toole\", '8/2/32', 'Lawrence of Arabia']\n"
     ]
    }
   ],
   "source": [
    "with open('actors.csv') as f:\n",
    "    for row in f:\n",
    "        row = row.strip()\n",
    "        fields = row.split(\",\")\n",
    "        print(fields)"
   ]
  },
  {
   "cell_type": "code",
   "execution_count": 9,
   "id": "60861cc2-7413-4150-bec9-8380780cd17e",
   "metadata": {},
   "outputs": [],
   "source": [
    "# As you can see split doesn't work properly. "
   ]
  },
  {
   "cell_type": "code",
   "execution_count": 11,
   "id": "8b71c4fa-960c-44c5-a153-ac01e8962eef",
   "metadata": {},
   "outputs": [
    {
     "name": "stdout",
     "output_type": "stream",
     "text": [
      "['First Name', 'Last Name', 'DOB', 'Sketches']\n",
      "['John', 'Cleese', '10/27/39', \"The Cheese Shop, Ministry of Silly Walks, It's the Arts\"]\n",
      "['Eric', 'Idle', '3/29/43', 'The Cheese Shop, Nudge Nudge, \"Spam\"']\n",
      "['Peter', \"O'Toole\", '8/2/32', 'Lawrence of Arabia']\n"
     ]
    }
   ],
   "source": [
    "with open('actors.csv') as f:\n",
    "    reader = csv.reader(f, delimiter=',', quotechar='\"')\n",
    "    for row in reader:\n",
    "        print(row)"
   ]
  },
  {
   "cell_type": "code",
   "execution_count": 12,
   "id": "c3f5dfa5-0fd4-4c2f-b38d-97870666fb18",
   "metadata": {},
   "outputs": [],
   "source": [
    "# The above code uses the default excel dialect "
   ]
  },
  {
   "cell_type": "code",
   "execution_count": 1,
   "id": "8f754fbb-4d96-413e-a354-d4977d7e0842",
   "metadata": {},
   "outputs": [],
   "source": [
    "# Dialects"
   ]
  },
  {
   "cell_type": "code",
   "execution_count": 2,
   "id": "e6a04e85-6d5f-4882-ab72-7882af712e56",
   "metadata": {},
   "outputs": [],
   "source": [
    "import csv "
   ]
  },
  {
   "cell_type": "code",
   "execution_count": 5,
   "id": "8aabece6-668f-4c6b-b976-f21a06d3abc4",
   "metadata": {},
   "outputs": [
    {
     "data": {
      "text/plain": [
       "['excel', 'excel-tab', 'unix']"
      ]
     },
     "execution_count": 5,
     "metadata": {},
     "output_type": "execute_result"
    }
   ],
   "source": [
    "csv.list_dialects()"
   ]
  },
  {
   "cell_type": "code",
   "execution_count": 6,
   "id": "86dc51c4-52a5-4646-aa3e-02869074c556",
   "metadata": {},
   "outputs": [
    {
     "name": "stdout",
     "output_type": "stream",
     "text": [
      "First Name,Last Name,DOB,Sketches\n",
      "John,Cleese,10/27/39,\"The Cheese Shop, Ministry of Silly Walks, It's the Arts\"\n",
      "Eric,Idle,3/29/43,\"The Cheese Shop, Nudge Nudge, \"\"Spam\"\"\"\n",
      "Peter,O'Toole,8/2/32,Lawrence of Arabia\n"
     ]
    }
   ],
   "source": [
    "with open('actors.csv') as f:\n",
    "    for row in f:\n",
    "        print(row.strip())"
   ]
  },
  {
   "cell_type": "code",
   "execution_count": null,
   "id": "08a5df2d-1086-4ca5-ad39-02f2a05550ae",
   "metadata": {},
   "outputs": [],
   "source": []
  }
 ],
 "metadata": {
  "kernelspec": {
   "display_name": "Python 3 (ipykernel)",
   "language": "python",
   "name": "python3"
  },
  "language_info": {
   "codemirror_mode": {
    "name": "ipython",
    "version": 3
   },
   "file_extension": ".py",
   "mimetype": "text/x-python",
   "name": "python",
   "nbconvert_exporter": "python",
   "pygments_lexer": "ipython3",
   "version": "3.12.3"
  }
 },
 "nbformat": 4,
 "nbformat_minor": 5
}
