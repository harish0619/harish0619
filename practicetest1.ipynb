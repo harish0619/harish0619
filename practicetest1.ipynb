{
 "cells": [
  {
   "cell_type": "code",
   "execution_count": 5,
   "id": "3b3e9767-06ee-41b3-bb85-7493e954515f",
   "metadata": {},
   "outputs": [
    {
     "data": {
      "text/plain": [
       "'U+00E3'"
      ]
     },
     "execution_count": 5,
     "metadata": {},
     "output_type": "execute_result"
    }
   ],
   "source": [
    "'U+00E3'.upper()"
   ]
  },
  {
   "cell_type": "code",
   "execution_count": 11,
   "id": "e5881977-3aaf-4cb5-9fee-a54e6e3c7d40",
   "metadata": {},
   "outputs": [
    {
     "data": {
      "text/plain": [
       "227"
      ]
     },
     "execution_count": 11,
     "metadata": {},
     "output_type": "execute_result"
    }
   ],
   "source": [
    "int('00E3', 16)"
   ]
  },
  {
   "cell_type": "code",
   "execution_count": 12,
   "id": "f03d1d9c-d701-4df4-ab19-a398ab5bf9dc",
   "metadata": {},
   "outputs": [
    {
     "data": {
      "text/plain": [
       "'Ã'"
      ]
     },
     "execution_count": 12,
     "metadata": {},
     "output_type": "execute_result"
    }
   ],
   "source": [
    "'ã'.upper()"
   ]
  },
  {
   "cell_type": "code",
   "execution_count": 13,
   "id": "3bd61c3d-a3d6-44f0-bf48-18107f3403ad",
   "metadata": {},
   "outputs": [
    {
     "data": {
      "text/plain": [
       "195"
      ]
     },
     "execution_count": 13,
     "metadata": {},
     "output_type": "execute_result"
    }
   ],
   "source": [
    "ord('Ã')"
   ]
  },
  {
   "cell_type": "code",
   "execution_count": 14,
   "id": "906763c9-53a0-4593-95b1-f9342c344c4d",
   "metadata": {},
   "outputs": [
    {
     "data": {
      "text/plain": [
       "'0xc3'"
      ]
     },
     "execution_count": 14,
     "metadata": {},
     "output_type": "execute_result"
    }
   ],
   "source": [
    "hex(195)"
   ]
  },
  {
   "cell_type": "code",
   "execution_count": 17,
   "id": "cb86b925-b952-473f-b07f-d8ecbe2a5a63",
   "metadata": {},
   "outputs": [],
   "source": [
    "# Answer- 1: Hence it's U+00C3"
   ]
  },
  {
   "cell_type": "code",
   "execution_count": 18,
   "id": "800c1bde-27c1-411d-83da-a82f7ad1c4b4",
   "metadata": {},
   "outputs": [
    {
     "data": {
      "text/plain": [
       "4"
      ]
     },
     "execution_count": 18,
     "metadata": {},
     "output_type": "execute_result"
    }
   ],
   "source": [
    "s = '3.14/4.15/6.7/8.9'\n",
    "\n",
    "s.index('/')"
   ]
  },
  {
   "cell_type": "code",
   "execution_count": 19,
   "id": "709cb4f7-a3e8-4a7d-88be-5fc0f029b498",
   "metadata": {},
   "outputs": [
    {
     "ename": "ValueError",
     "evalue": "could not convert string to float: '3.14/4.15/6.7/8.9'",
     "output_type": "error",
     "traceback": [
      "\u001b[0;31m---------------------------------------------------------------------------\u001b[0m",
      "\u001b[0;31mValueError\u001b[0m                                Traceback (most recent call last)",
      "Cell \u001b[0;32mIn[19], line 1\u001b[0m\n\u001b[0;32m----> 1\u001b[0m \u001b[38;5;28;43mfloat\u001b[39;49m\u001b[43m(\u001b[49m\u001b[43ms\u001b[49m\u001b[43m)\u001b[49m\n",
      "\u001b[0;31mValueError\u001b[0m: could not convert string to float: '3.14/4.15/6.7/8.9'"
     ]
    }
   ],
   "source": [
    "float(s)"
   ]
  },
  {
   "cell_type": "code",
   "execution_count": 22,
   "id": "6e6e5999-d744-44f3-acf3-3d6a5b487386",
   "metadata": {},
   "outputs": [
    {
     "ename": "IndexError",
     "evalue": "list index out of range",
     "output_type": "error",
     "traceback": [
      "\u001b[0;31m---------------------------------------------------------------------------\u001b[0m",
      "\u001b[0;31mIndexError\u001b[0m                                Traceback (most recent call last)",
      "Cell \u001b[0;32mIn[22], line 7\u001b[0m\n\u001b[1;32m      4\u001b[0m         i \u001b[38;5;241m+\u001b[39m\u001b[38;5;241m=\u001b[39m \u001b[38;5;241m1\u001b[39m\n\u001b[1;32m      5\u001b[0m     \u001b[38;5;28;01mreturn\u001b[39;00m i \n\u001b[0;32m----> 7\u001b[0m \u001b[43mfind_first_negative\u001b[49m\u001b[43m(\u001b[49m\u001b[43m[\u001b[49m\u001b[38;5;241;43m4\u001b[39;49m\u001b[43m,\u001b[49m\u001b[38;5;241;43m2\u001b[39;49m\u001b[43m,\u001b[49m\u001b[38;5;241;43m3\u001b[39;49m\u001b[43m,\u001b[49m\u001b[38;5;241;43m1\u001b[39;49m\u001b[43m]\u001b[49m\u001b[43m)\u001b[49m\n",
      "Cell \u001b[0;32mIn[22], line 3\u001b[0m, in \u001b[0;36mfind_first_negative\u001b[0;34m(numbers)\u001b[0m\n\u001b[1;32m      1\u001b[0m \u001b[38;5;28;01mdef\u001b[39;00m \u001b[38;5;21mfind_first_negative\u001b[39m(numbers):\n\u001b[1;32m      2\u001b[0m     i \u001b[38;5;241m=\u001b[39m \u001b[38;5;241m0\u001b[39m\n\u001b[0;32m----> 3\u001b[0m     \u001b[38;5;28;01mwhile\u001b[39;00m \u001b[43mnumbers\u001b[49m\u001b[43m[\u001b[49m\u001b[43mi\u001b[49m\u001b[43m]\u001b[49m \u001b[38;5;241m>\u001b[39m\u001b[38;5;241m=\u001b[39m \u001b[38;5;241m0\u001b[39m:\n\u001b[1;32m      4\u001b[0m         i \u001b[38;5;241m+\u001b[39m\u001b[38;5;241m=\u001b[39m \u001b[38;5;241m1\u001b[39m\n\u001b[1;32m      5\u001b[0m     \u001b[38;5;28;01mreturn\u001b[39;00m i\n",
      "\u001b[0;31mIndexError\u001b[0m: list index out of range"
     ]
    }
   ],
   "source": [
    "def find_first_negative(numbers):\n",
    "    i = 0\n",
    "    while numbers[i] >= 0:\n",
    "        i += 1\n",
    "    return i \n",
    "\n",
    "find_first_negative([4,2,3,1])"
   ]
  },
  {
   "cell_type": "code",
   "execution_count": 23,
   "id": "79ac058b-bf55-4e6d-a720-bb2ca004cac8",
   "metadata": {},
   "outputs": [
    {
     "data": {
      "text/plain": [
       "'Isaac Newton'"
      ]
     },
     "execution_count": 23,
     "metadata": {},
     "output_type": "execute_result"
    }
   ],
   "source": [
    "def encrypt(s):\n",
    "    return ''.join(chr(ord(c) + 10) for c in s)\n",
    "\n",
    "def decrypt(s):\n",
    "    return ''.join(chr(ord(c) - 10) for c in s)\n",
    "\n",
    "decrypt('S}kkm*Xo\\x81~yx')"
   ]
  },
  {
   "cell_type": "code",
   "execution_count": null,
   "id": "db4170ac-ed82-4a9a-899c-4f835bd06efb",
   "metadata": {},
   "outputs": [],
   "source": []
  }
 ],
 "metadata": {
  "kernelspec": {
   "display_name": "Python 3 (ipykernel)",
   "language": "python",
   "name": "python3"
  },
  "language_info": {
   "codemirror_mode": {
    "name": "ipython",
    "version": 3
   },
   "file_extension": ".py",
   "mimetype": "text/x-python",
   "name": "python",
   "nbconvert_exporter": "python",
   "pygments_lexer": "ipython3",
   "version": "3.12.3"
  }
 },
 "nbformat": 4,
 "nbformat_minor": 5
}
