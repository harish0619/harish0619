{
 "cells": [
  {
   "cell_type": "code",
   "execution_count": 1,
   "id": "d55e4733-5b47-49e8-adb0-69524449396a",
   "metadata": {},
   "outputs": [],
   "source": [
    "#Exercises "
   ]
  },
  {
   "cell_type": "code",
   "execution_count": 2,
   "id": "7b59af7d-935a-49e5-87cf-fcaecbccb7da",
   "metadata": {},
   "outputs": [
    {
     "name": "stdout",
     "output_type": "stream",
     "text": [
      "Index: 0, Value: 10\n",
      "Index: 1, Value: abc\n",
      "Index: 2, Value: 3.14\n",
      "Index: 3, Value: True\n"
     ]
    }
   ],
   "source": [
    "l = [10, 'abc', 3.14, True]\n",
    "\n",
    "for index, value in enumerate(l):\n",
    "    print(f\"Index: {index}, Value: {value}\")"
   ]
  },
  {
   "cell_type": "code",
   "execution_count": 3,
   "id": "5fead929-1c99-4322-ad9c-924ce10e66b8",
   "metadata": {},
   "outputs": [],
   "source": [
    "#Create a generator expression that when iterated over will produce the integers from `1` to `10_000` raised to the power of `1`, `2`, `3`, etc."
   ]
  },
  {
   "cell_type": "code",
   "execution_count": 4,
   "id": "e46b7e62-178b-4031-b25c-55c4518e7159",
   "metadata": {},
   "outputs": [],
   "source": [
    "gen_exp = (i**i for i in range(1, 100_001))"
   ]
  },
  {
   "cell_type": "code",
   "execution_count": null,
   "id": "de658510-1009-409b-9708-86b00f029b40",
   "metadata": {},
   "outputs": [],
   "source": [
    "from time import perf_counter\n",
    "start = perf_counter()\n",
    "for _ in range(10):\n",
    "    gen_exp = (i**i for i in range(1, 100_001))\n",
    "    for _ in range(5):\n",
    "        print(next(gen_exp))\n",
    "end = perf_counter()\n",
    "print('elapsed:', end - start)"
   ]
  },
  {
   "cell_type": "code",
   "execution_count": null,
   "id": "b30a0ff8-cc6b-4f1a-a6a2-d17110c4be0c",
   "metadata": {},
   "outputs": [],
   "source": [
    "from time import perf_counter\n",
    "list_exp = [i**i for i in range(1, 100_001)]\n",
    "start = perf_counter()\n",
    "for _ in range(10):\n",
    "    for val in list_exp[:5]:\n",
    "        print(val)\n",
    "end = perf_counter()\n",
    "print('elapsed:', end - start)"
   ]
  },
  {
   "cell_type": "code",
   "execution_count": null,
   "id": "eb15256b-22b3-4a0c-a56f-59fda5ad3853",
   "metadata": {},
   "outputs": [],
   "source": []
  }
 ],
 "metadata": {
  "kernelspec": {
   "display_name": "Python 3 (ipykernel)",
   "language": "python",
   "name": "python3"
  },
  "language_info": {
   "codemirror_mode": {
    "name": "ipython",
    "version": 3
   },
   "file_extension": ".py",
   "mimetype": "text/x-python",
   "name": "python",
   "nbconvert_exporter": "python",
   "pygments_lexer": "ipython3",
   "version": "3.12.3"
  }
 },
 "nbformat": 4,
 "nbformat_minor": 5
}
