{
 "cells": [
  {
   "cell_type": "code",
   "execution_count": 1,
   "id": "413c7f3e-6c51-4685-961d-22357120083c",
   "metadata": {},
   "outputs": [],
   "source": [
    "import requests "
   ]
  },
  {
   "cell_type": "code",
   "execution_count": 2,
   "id": "36bed7e4-4be4-46b7-b23a-a76e68a34c9d",
   "metadata": {},
   "outputs": [
    {
     "data": {
      "text/plain": [
       "3"
      ]
     },
     "execution_count": 2,
     "metadata": {},
     "output_type": "execute_result"
    }
   ],
   "source": [
    "1+2"
   ]
  },
  {
   "cell_type": "code",
   "execution_count": 3,
   "id": "f54d2ad1-889e-43f6-9812-df99914ae223",
   "metadata": {},
   "outputs": [
    {
     "data": {
      "text/plain": [
       "True"
      ]
     },
     "execution_count": 3,
     "metadata": {},
     "output_type": "execute_result"
    }
   ],
   "source": [
    "a = 0.1 + 0.1 + 0.1 \n",
    "b = 0.3 \n",
    "\n",
    "tol = 0.0001\n",
    "\n",
    "abs(a - b ) < tol "
   ]
  },
  {
   "cell_type": "code",
   "execution_count": 6,
   "id": "06acd499-cfc9-4f98-acf6-f7439d28deaf",
   "metadata": {},
   "outputs": [
    {
     "name": "stdout",
     "output_type": "stream",
     "text": [
      "2 10 35\n"
     ]
    }
   ],
   "source": [
    "elapsed = 7835\n",
    "\n",
    "hours = elapsed // 3600 \n",
    "minutes = (elapsed % 3600 )//60\n",
    "seconds = elapsed - hours*3600 - minutes*60 \n",
    "\n",
    "print(hours, minutes, seconds)"
   ]
  },
  {
   "cell_type": "code",
   "execution_count": 10,
   "id": "571278c9-a714-4721-9877-53fa31db19ef",
   "metadata": {},
   "outputs": [
    {
     "name": "stdout",
     "output_type": "stream",
     "text": [
      "N/A\n"
     ]
    }
   ],
   "source": [
    "a = None\n",
    "\n",
    "if a is None:\n",
    "    a = \"N/A\"\n",
    "print(a)\n",
    "    "
   ]
  },
  {
   "cell_type": "code",
   "execution_count": 13,
   "id": "d2629666-fae2-4538-b799-20da597cc1bd",
   "metadata": {},
   "outputs": [
    {
     "data": {
      "text/plain": [
       "'N/A'"
      ]
     },
     "execution_count": 13,
     "metadata": {},
     "output_type": "execute_result"
    }
   ],
   "source": [
    "a = None\n",
    "\n",
    "a if a is not None else \"N/A\""
   ]
  },
  {
   "cell_type": "code",
   "execution_count": 14,
   "id": "866d92fa-651c-424c-b0f7-52a2d733be5a",
   "metadata": {},
   "outputs": [
    {
     "ename": "SyntaxError",
     "evalue": "closing parenthesis ')' does not match opening parenthesis '[' (183429980.py, line 1)",
     "output_type": "error",
     "traceback": [
      "\u001b[0;36m  Cell \u001b[0;32mIn[14], line 1\u001b[0;36m\u001b[0m\n\u001b[0;31m    [0, 580) --> Poor\u001b[0m\n\u001b[0m           ^\u001b[0m\n\u001b[0;31mSyntaxError\u001b[0m\u001b[0;31m:\u001b[0m closing parenthesis ')' does not match opening parenthesis '['\n"
     ]
    }
   ],
   "source": [
    "[0, 580) --> Poor\n",
    "- [580, 670) --> Fair\n",
    "- [670, 740) --> Good\n",
    "- [740, 800) --> Very Good\n",
    "- [800, 850] --> Excellent"
   ]
  },
  {
   "cell_type": "code",
   "execution_count": 20,
   "id": "4a3f7530-4dc1-48a9-969c-db52e4c831b2",
   "metadata": {},
   "outputs": [
    {
     "name": "stdout",
     "output_type": "stream",
     "text": [
      "Excellent\n"
     ]
    }
   ],
   "source": [
    "score = 820\n",
    "\n",
    "if score >= 800 and score < 850:\n",
    "    rating = \"Excellent\"\n",
    "elif score >= 740 and score < 800:\n",
    "    rating = \"Very Good\"\n",
    "elif score >= 670 and score < 740:\n",
    "    rating = \"Good\"\n",
    "elif score >= 580 and score < 670:\n",
    "    rating = \"Fair\"\n",
    "else:\n",
    "    rating = \"Poor\"\n",
    "\n",
    "print(rating)"
   ]
  },
  {
   "cell_type": "code",
   "execution_count": 27,
   "id": "bf604805-0732-4ca9-b3fd-fb10376f705b",
   "metadata": {},
   "outputs": [
    {
     "name": "stdout",
     "output_type": "stream",
     "text": [
      "days\n"
     ]
    }
   ],
   "source": [
    "elapsed = 123456\n",
    "\n",
    "seconds_in_minute = 60\n",
    "seconds_in_hour = 3600\n",
    "seconds_in_day = 3600 * 24\n",
    "seconds_in_week = 3600 * 24 * 7\n",
    "\n",
    "if elapsed < seconds_in_minute:\n",
    "    magnitude = 'seconds'\n",
    "elif elapsed < seconds_in_hour:\n",
    "    magnitude = 'minutes'\n",
    "elif elapsed < seconds_in_day:\n",
    "    magnitude = 'hours'\n",
    "elif elapsed < seconds_in_week:\n",
    "    magnitude = 'days'\n",
    "else: \n",
    "    magnitude = 'weeks'\n",
    "\n",
    "print(magnitude)"
   ]
  },
  {
   "cell_type": "code",
   "execution_count": null,
   "id": "58aef547-2a0f-4049-916f-1550a9adbed4",
   "metadata": {},
   "outputs": [],
   "source": []
  }
 ],
 "metadata": {
  "kernelspec": {
   "display_name": "Python 3 (ipykernel)",
   "language": "python",
   "name": "python3"
  },
  "language_info": {
   "codemirror_mode": {
    "name": "ipython",
    "version": 3
   },
   "file_extension": ".py",
   "mimetype": "text/x-python",
   "name": "python",
   "nbconvert_exporter": "python",
   "pygments_lexer": "ipython3",
   "version": "3.12.3"
  }
 },
 "nbformat": 4,
 "nbformat_minor": 5
}
