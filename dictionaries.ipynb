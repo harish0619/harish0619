{
 "cells": [
  {
   "cell_type": "code",
   "execution_count": 3,
   "id": "257325d3-dfd9-4dc5-a9b3-905db319bf8a",
   "metadata": {},
   "outputs": [],
   "source": [
    "# For example, if the given string is:\n",
    "\n",
    "# ```\n",
    "# s = 'Aa, Bb - A a B C'\n",
    "# ```\n",
    "\n",
    "# then your resulting dictionary should be:\n",
    "\n",
    "# ```\n",
    "# {\n",
    "#     'A': 2, \n",
    "#     'a': 2, \n",
    "#     'B': 2, \n",
    "#     'b': 1, \n",
    "#     'C': 1\n",
    "# }\n",
    "# ```\n",
    "\n",
    "# (Note that the order of the keys in the dictionary is not important)"
   ]
  },
  {
   "cell_type": "code",
   "execution_count": 21,
   "id": "1c42d044-d172-45b1-9886-6dd7be3f35fd",
   "metadata": {},
   "outputs": [
    {
     "data": {
      "text/plain": [
       "{'A': 0, 'a': 0, ',': 0, ' ': 0, 'B': 0, 'b': 0, '-': 0, 'C': 0}"
      ]
     },
     "execution_count": 21,
     "metadata": {},
     "output_type": "execute_result"
    }
   ],
   "source": [
    "s = 'Aa, Bb - A a B C'\n",
    "\n",
    "d1 = dict.fromkeys(s, 0)\n",
    "\n",
    "d1"
   ]
  },
  {
   "cell_type": "code",
   "execution_count": 24,
   "id": "85e115f7-9615-4443-a323-44e2dfb04cb5",
   "metadata": {},
   "outputs": [
    {
     "name": "stdout",
     "output_type": "stream",
     "text": [
      "{'A': 2, 'a': 2, 'B': 2, 'b': 1, 'C': 1}\n"
     ]
    }
   ],
   "source": [
    "s = 'Aa, Bb - A a B C'\n",
    "\n",
    "d1 = dict.fromkeys(s, 0)\n",
    "\n",
    "for loop in s:\n",
    "    if (ord(loop) >= 65 and ord(loop) <= 90) or (ord(loop) >= 97 and ord(loop) <= 122):\n",
    "        if loop in d1:\n",
    "            d1[loop] += 1\n",
    "    else:\n",
    "        if loop in d1:\n",
    "            del d1[loop]\n",
    "\n",
    "print(d1)\n"
   ]
  },
  {
   "cell_type": "code",
   "execution_count": 25,
   "id": "0f99eb58-c166-48e3-854e-5e85e116c5e7",
   "metadata": {},
   "outputs": [
    {
     "name": "stdout",
     "output_type": "stream",
     "text": [
      "{'A': 1, 'n': 20, 'd': 4, 'a': 23, 'o': 31, 'r': 12, 'e': 27, 't': 21, 'h': 11, 'b': 7, 's': 9, 'i': 17, 'c': 10, 'p': 7, 'f': 4, 'l': 12, 'g': 6, 'T': 2, 'w': 2, 'y': 2, 'm': 6, 'x': 1, 'u': 3, 'J': 1, 'v': 1, 'N': 1, 'C': 1, 'B': 1}\n"
     ]
    }
   ],
   "source": [
    "s1 = \"\"\"\n",
    "“'And' and 'or' are the basic operations of logic. Together with 'no' (the logical operation \n",
    "of negation) they are a complete set of basic logical operations — all other logical \n",
    "operations, no matter how complex, can be obtained by suitable combinations of these.” \n",
    "― John von Neumann, The Computer and the Brain\n",
    "\"\"\"\n",
    "\n",
    "d1 = dict.fromkeys(s1, 0)\n",
    "\n",
    "for loop in s1:\n",
    "    if (ord(loop) >= 65 and ord(loop) <= 90) or (ord(loop) >= 97 and ord(loop) <= 122):\n",
    "        if loop in d1:\n",
    "            d1[loop] += 1\n",
    "    else:\n",
    "        if loop in d1:\n",
    "            del d1[loop]\n",
    "\n",
    "print(d1)"
   ]
  },
  {
   "cell_type": "code",
   "execution_count": 51,
   "id": "5a319e97-e67e-461d-ba92-e9f8ef8deeac",
   "metadata": {},
   "outputs": [
    {
     "name": "stdout",
     "output_type": "stream",
     "text": [
      "['a', 'b', 'c', 'd', 'e', 'f', 'f', 'g']\n",
      "[10, 20, 30, 100, 200, 300, 30, 40]\n"
     ]
    }
   ],
   "source": [
    "d1 = {'a': 10, 'b': 20, 'c': 30}\n",
    "d2 = {'d': 100, 'e': 200, 'f': 300}\n",
    "d3 = {'f': 30, 'g': 40}\n",
    "\n",
    "keys1 = list(d1)\n",
    "keys2 = list(d2)\n",
    "keys3 = list(d3)\n",
    "\n",
    "keys1.extend(keys2)\n",
    "\n",
    "keys1.extend(keys3)\n",
    "\n",
    "print(keys1)\n",
    "\n",
    "print(list(d1.values()) + list(d2.values()) + list(d3.values()))\n"
   ]
  },
  {
   "cell_type": "code",
   "execution_count": 59,
   "id": "bfb0371a-5a04-4bec-b2df-1c1147c1c50e",
   "metadata": {},
   "outputs": [
    {
     "name": "stdout",
     "output_type": "stream",
     "text": [
      "{'John': [100, 90, 95, 98], 'Eric': [99, 86, 84, 92], 'Michael': [None, 90, 89, 85]}\n"
     ]
    }
   ],
   "source": [
    "grades = {\n",
    "    'John': [90, 95, 98],\n",
    "    'Eric': [86, 84, 92],\n",
    "    'Michael': [90, 89, 85]\n",
    "}\n",
    "\n",
    "exam = {\n",
    "    'Eric': 99,\n",
    "    'John': 100\n",
    "}\n",
    "\n",
    "for key in grades:\n",
    "    if key in exam.keys():\n",
    "        grade_value = exam[key]\n",
    "        grades[key].insert(0, grade_value)\n",
    "    else:\n",
    "        grades[key].insert(0, None)\n",
    "\n",
    "print(grades)"
   ]
  },
  {
   "cell_type": "code",
   "execution_count": null,
   "id": "af276609-d836-4fd7-bb3f-ec4c3b9650fa",
   "metadata": {},
   "outputs": [],
   "source": [
    "\n"
   ]
  }
 ],
 "metadata": {
  "kernelspec": {
   "display_name": "Python 3 (ipykernel)",
   "language": "python",
   "name": "python3"
  },
  "language_info": {
   "codemirror_mode": {
    "name": "ipython",
    "version": 3
   },
   "file_extension": ".py",
   "mimetype": "text/x-python",
   "name": "python",
   "nbconvert_exporter": "python",
   "pygments_lexer": "ipython3",
   "version": "3.12.3"
  }
 },
 "nbformat": 4,
 "nbformat_minor": 5
}
