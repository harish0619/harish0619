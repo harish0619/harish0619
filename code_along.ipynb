{
 "cells": [
  {
   "cell_type": "code",
   "execution_count": 1,
   "id": "453d970d-4c80-403f-8999-ed4cbd95692f",
   "metadata": {},
   "outputs": [
    {
     "data": {
      "text/plain": [
       "[0, 1, 2, 3, 4, 5, 6, 7, 8]"
      ]
     },
     "execution_count": 1,
     "metadata": {},
     "output_type": "execute_result"
    }
   ],
   "source": [
    "list(range(0,9))"
   ]
  },
  {
   "cell_type": "code",
   "execution_count": 2,
   "id": "44eedc82-3101-4f5a-91e5-14c4b704ab19",
   "metadata": {},
   "outputs": [
    {
     "data": {
      "text/plain": [
       "range(0, 5)"
      ]
     },
     "execution_count": 2,
     "metadata": {},
     "output_type": "execute_result"
    }
   ],
   "source": [
    "range(5)"
   ]
  },
  {
   "cell_type": "code",
   "execution_count": 3,
   "id": "725a9e24-63b0-4229-999b-b15e61151c86",
   "metadata": {},
   "outputs": [
    {
     "data": {
      "text/plain": [
       "range"
      ]
     },
     "execution_count": 3,
     "metadata": {},
     "output_type": "execute_result"
    }
   ],
   "source": [
    "type(range(0,5))"
   ]
  },
  {
   "cell_type": "code",
   "execution_count": 4,
   "id": "b5351046-c8b2-465d-b0c8-7fb248ad8178",
   "metadata": {},
   "outputs": [
    {
     "data": {
      "text/plain": [
       "3"
      ]
     },
     "execution_count": 4,
     "metadata": {},
     "output_type": "execute_result"
    }
   ],
   "source": [
    "len(range(4,7))"
   ]
  },
  {
   "cell_type": "code",
   "execution_count": 5,
   "id": "a31bc125-d526-4cf5-8076-f2d0a6dd989e",
   "metadata": {},
   "outputs": [
    {
     "data": {
      "text/plain": [
       "range(2, 10, 2)"
      ]
     },
     "execution_count": 5,
     "metadata": {},
     "output_type": "execute_result"
    }
   ],
   "source": [
    "range(2,10,2)"
   ]
  },
  {
   "cell_type": "code",
   "execution_count": 7,
   "id": "5e5094ac-e545-4df3-a259-3df2f5016289",
   "metadata": {},
   "outputs": [
    {
     "data": {
      "text/plain": [
       "[2, 4, 6, 8, 10]"
      ]
     },
     "execution_count": 7,
     "metadata": {},
     "output_type": "execute_result"
    }
   ],
   "source": [
    "list(range(2,11,2))"
   ]
  },
  {
   "cell_type": "code",
   "execution_count": 1,
   "id": "1aec03eb-6f5e-442a-9ce5-9315fff803d1",
   "metadata": {},
   "outputs": [],
   "source": [
    "# For loops - Runs over an iterable "
   ]
  },
  {
   "cell_type": "code",
   "execution_count": 5,
   "id": "4b3fa0a2-c29e-4b05-a359-79e0ba1c0f4d",
   "metadata": {},
   "outputs": [
    {
     "name": "stdout",
     "output_type": "stream",
     "text": [
      "aa\n",
      "bb\n",
      "done\n"
     ]
    }
   ],
   "source": [
    "for x in ['a', 'b']:\n",
    "    y = x + x\n",
    "    print(y)\n",
    "print(\"done\")"
   ]
  },
  {
   "cell_type": "code",
   "execution_count": 6,
   "id": "3354af2d-4310-49d5-a5a1-2704ca216c1f",
   "metadata": {},
   "outputs": [
    {
     "data": {
      "text/plain": [
       "<enumerate at 0x104696d90>"
      ]
     },
     "execution_count": 6,
     "metadata": {},
     "output_type": "execute_result"
    }
   ],
   "source": [
    "enumerate([1,2,3])"
   ]
  },
  {
   "cell_type": "code",
   "execution_count": 7,
   "id": "67018dfd-5090-48aa-b07a-3ffdf11628e5",
   "metadata": {},
   "outputs": [
    {
     "name": "stdout",
     "output_type": "stream",
     "text": [
      "<enumerate object at 0x1046ec360>\n"
     ]
    }
   ],
   "source": [
    "print(enumerate([1,2,3]))"
   ]
  },
  {
   "cell_type": "code",
   "execution_count": 8,
   "id": "7340d30b-d9ee-4180-bbe9-1879531a451c",
   "metadata": {},
   "outputs": [
    {
     "name": "stdout",
     "output_type": "stream",
     "text": [
      "(0, 1)\n",
      "(1, 2)\n",
      "(2, 3)\n"
     ]
    }
   ],
   "source": [
    "for val in enumerate([1,2,3]):\n",
    "    print(val)"
   ]
  },
  {
   "cell_type": "code",
   "execution_count": 10,
   "id": "8d4be04c-0bbb-450a-b683-1376548f1c44",
   "metadata": {},
   "outputs": [
    {
     "name": "stdout",
     "output_type": "stream",
     "text": [
      "[10, 20, 30, 0]\n"
     ]
    }
   ],
   "source": [
    "mylist = [10,20,30, -1]\n",
    "for index, data in enumerate(mylist):\n",
    "    if data < 0:\n",
    "        mylist[index] = 0\n",
    "\n",
    "print(mylist)\n",
    "        "
   ]
  },
  {
   "cell_type": "code",
   "execution_count": 13,
   "id": "2bc8592f-1a1b-4df4-84a7-fff3966d6e5e",
   "metadata": {},
   "outputs": [
    {
     "name": "stdout",
     "output_type": "stream",
     "text": [
      "2\n",
      "4\n",
      "6\n",
      "8\n",
      "10\n",
      "2\n",
      "4\n",
      "6\n",
      "8\n",
      "10\n",
      "2\n",
      "4\n",
      "6\n",
      "8\n",
      "10\n",
      "2\n",
      "4\n",
      "6\n",
      "8\n",
      "10\n",
      "2\n",
      "4\n",
      "6\n",
      "8\n",
      "10\n",
      "2\n",
      "4\n",
      "6\n",
      "8\n",
      "10\n",
      "2\n",
      "4\n",
      "6\n",
      "8\n",
      "10\n",
      "2\n",
      "4\n",
      "6\n",
      "8\n",
      "10\n",
      "2\n",
      "4\n",
      "6\n",
      "8\n",
      "10\n",
      "2\n",
      "4\n",
      "6\n",
      "8\n",
      "10\n",
      "2\n",
      "4\n",
      "6\n",
      "8\n",
      "10\n",
      "2\n",
      "4\n",
      "6\n",
      "8\n",
      "10\n",
      "2\n",
      "4\n",
      "6\n",
      "8\n",
      "10\n",
      "2\n",
      "4\n",
      "6\n",
      "8\n",
      "10\n",
      "2\n",
      "4\n",
      "6\n",
      "8\n",
      "10\n",
      "2\n",
      "4\n",
      "6\n",
      "8\n",
      "10\n",
      "2\n",
      "4\n",
      "6\n",
      "8\n",
      "10\n",
      "2\n",
      "4\n",
      "6\n",
      "8\n",
      "10\n",
      "2\n",
      "4\n",
      "6\n",
      "8\n",
      "10\n",
      "2\n",
      "4\n",
      "6\n",
      "8\n",
      "10\n",
      "2\n",
      "4\n",
      "6\n",
      "8\n",
      "10\n",
      "2\n",
      "4\n",
      "6\n",
      "8\n",
      "10\n",
      "2\n",
      "4\n",
      "6\n",
      "8\n",
      "10\n",
      "2\n",
      "4\n",
      "6\n",
      "8\n",
      "10\n",
      "2\n",
      "4\n",
      "6\n",
      "8\n",
      "10\n",
      "2\n",
      "4\n",
      "6\n",
      "8\n",
      "10\n",
      "2\n",
      "4\n",
      "6\n",
      "8\n",
      "10\n",
      "2\n",
      "4\n",
      "6\n",
      "8\n",
      "10\n",
      "2\n",
      "4\n",
      "6\n",
      "8\n",
      "10\n",
      "2\n",
      "4\n",
      "6\n",
      "8\n",
      "10\n",
      "2\n",
      "4\n",
      "6\n",
      "8\n",
      "10\n",
      "2\n",
      "4\n",
      "6\n",
      "8\n",
      "10\n",
      "2\n",
      "4\n",
      "6\n",
      "8\n",
      "10\n",
      "2\n",
      "4\n",
      "6\n",
      "8\n",
      "10\n",
      "2\n",
      "4\n",
      "6\n",
      "8\n",
      "10\n",
      "2\n",
      "4\n",
      "6\n",
      "8\n",
      "10\n",
      "2\n",
      "4\n",
      "6\n",
      "8\n",
      "10\n",
      "2\n",
      "4\n",
      "6\n",
      "8\n",
      "10\n",
      "2\n",
      "4\n",
      "6\n",
      "8\n",
      "10\n",
      "2\n",
      "4\n",
      "6\n",
      "8\n",
      "10\n",
      "2\n",
      "4\n",
      "6\n",
      "8\n",
      "10\n",
      "2\n",
      "4\n",
      "6\n",
      "8\n",
      "10\n",
      "2\n",
      "4\n",
      "6\n",
      "8\n",
      "10\n",
      "2\n",
      "4\n",
      "6\n",
      "8\n",
      "10\n",
      "2\n",
      "4\n",
      "6\n",
      "8\n",
      "10\n",
      "2\n",
      "4\n",
      "6\n",
      "8\n",
      "10\n",
      "2\n",
      "4\n",
      "6\n",
      "8\n",
      "10\n",
      "2\n",
      "4\n",
      "6\n",
      "8\n",
      "10\n",
      "2\n",
      "4\n",
      "6\n",
      "8\n",
      "10\n",
      "2\n",
      "4\n",
      "6\n",
      "8\n",
      "10\n"
     ]
    },
    {
     "data": {
      "text/plain": [
       "0.0033618750021560118"
      ]
     },
     "execution_count": 13,
     "metadata": {},
     "output_type": "execute_result"
    }
   ],
   "source": [
    "import timeit\n",
    "\n",
    "timeit.timeit('for i in range(2,11,2): print(i)', number=50)"
   ]
  },
  {
   "cell_type": "code",
   "execution_count": 14,
   "id": "89847ed0-764b-423d-9aba-19d7713da846",
   "metadata": {},
   "outputs": [
    {
     "name": "stdout",
     "output_type": "stream",
     "text": [
      "2\n",
      "4\n",
      "6\n",
      "8\n",
      "10\n",
      "2\n",
      "4\n",
      "6\n",
      "8\n",
      "10\n",
      "2\n",
      "4\n",
      "6\n",
      "8\n",
      "10\n",
      "2\n",
      "4\n",
      "6\n",
      "8\n",
      "10\n",
      "2\n",
      "4\n",
      "6\n",
      "8\n",
      "10\n",
      "2\n",
      "4\n",
      "6\n",
      "8\n",
      "10\n",
      "2\n",
      "4\n",
      "6\n",
      "8\n",
      "10\n",
      "2\n",
      "4\n",
      "6\n",
      "8\n",
      "10\n",
      "2\n",
      "4\n",
      "6\n",
      "8\n",
      "10\n",
      "2\n",
      "4\n",
      "6\n",
      "8\n",
      "10\n",
      "2\n",
      "4\n",
      "6\n",
      "8\n",
      "10\n",
      "2\n",
      "4\n",
      "6\n",
      "8\n",
      "10\n",
      "2\n",
      "4\n",
      "6\n",
      "8\n",
      "10\n",
      "2\n",
      "4\n",
      "6\n",
      "8\n",
      "10\n",
      "2\n",
      "4\n",
      "6\n",
      "8\n",
      "10\n",
      "2\n",
      "4\n",
      "6\n",
      "8\n",
      "10\n",
      "2\n",
      "4\n",
      "6\n",
      "8\n",
      "10\n",
      "2\n",
      "4\n",
      "6\n",
      "8\n",
      "10\n",
      "2\n",
      "4\n",
      "6\n",
      "8\n",
      "10\n",
      "2\n",
      "4\n",
      "6\n",
      "8\n",
      "10\n",
      "2\n",
      "4\n",
      "6\n",
      "8\n",
      "10\n",
      "2\n",
      "4\n",
      "6\n",
      "8\n",
      "10\n",
      "2\n",
      "4\n",
      "6\n",
      "8\n",
      "10\n",
      "2\n",
      "4\n",
      "6\n",
      "8\n",
      "10\n",
      "2\n",
      "4\n",
      "6\n",
      "8\n",
      "10\n",
      "2\n",
      "4\n",
      "6\n",
      "8\n",
      "10\n",
      "2\n",
      "4\n",
      "6\n",
      "8\n",
      "10\n",
      "2\n",
      "4\n",
      "6\n",
      "8\n",
      "10\n",
      "2\n",
      "4\n",
      "6\n",
      "8\n",
      "10\n",
      "2\n",
      "4\n",
      "6\n",
      "8\n",
      "10\n",
      "2\n",
      "4\n",
      "6\n",
      "8\n",
      "10\n",
      "2\n",
      "4\n",
      "6\n",
      "8\n",
      "10\n",
      "2\n",
      "4\n",
      "6\n",
      "8\n",
      "10\n",
      "2\n",
      "4\n",
      "6\n",
      "8\n",
      "10\n",
      "2\n",
      "4\n",
      "6\n",
      "8\n",
      "10\n",
      "2\n",
      "4\n",
      "6\n",
      "8\n",
      "10\n",
      "2\n",
      "4\n",
      "6\n",
      "8\n",
      "10\n",
      "2\n",
      "4\n",
      "6\n",
      "8\n",
      "10\n",
      "2\n",
      "4\n",
      "6\n",
      "8\n",
      "10\n",
      "2\n",
      "4\n",
      "6\n",
      "8\n",
      "10\n",
      "2\n",
      "4\n",
      "6\n",
      "8\n",
      "10\n",
      "2\n",
      "4\n",
      "6\n",
      "8\n",
      "10\n",
      "2\n",
      "4\n",
      "6\n",
      "8\n",
      "10\n",
      "2\n",
      "4\n",
      "6\n",
      "8\n",
      "10\n",
      "2\n",
      "4\n",
      "6\n",
      "8\n",
      "10\n",
      "2\n",
      "4\n",
      "6\n",
      "8\n",
      "10\n",
      "2\n",
      "4\n",
      "6\n",
      "8\n",
      "10\n",
      "2\n",
      "4\n",
      "6\n",
      "8\n",
      "10\n",
      "2\n",
      "4\n",
      "6\n",
      "8\n",
      "10\n",
      "2\n",
      "4\n",
      "6\n",
      "8\n",
      "10\n"
     ]
    },
    {
     "data": {
      "text/plain": [
       "0.0013216670049587265"
      ]
     },
     "execution_count": 14,
     "metadata": {},
     "output_type": "execute_result"
    }
   ],
   "source": [
    "import timeit\n",
    "\n",
    "timeit.timeit('for i in list(range(2,11,2)): print(i)', number=50)"
   ]
  },
  {
   "cell_type": "code",
   "execution_count": 23,
   "id": "fad3bfe5-a451-4c87-83bb-1e1ff7be1215",
   "metadata": {},
   "outputs": [
    {
     "name": "stdout",
     "output_type": "stream",
     "text": [
      "10.75\n"
     ]
    }
   ],
   "source": [
    "data = [10.5, 11.2, 9.8, None, 11.5, None]\n",
    "\n",
    "total = 0\n",
    "count = 0\n",
    "for value in data: \n",
    "    if value is not None:\n",
    "        total += value\n",
    "        count += 1\n",
    "\n",
    "average = total/count\n",
    "print(average)\n"
   ]
  },
  {
   "cell_type": "code",
   "execution_count": 32,
   "id": "32756c2d-c6d4-439b-b2be-80c08227dfa2",
   "metadata": {},
   "outputs": [
    {
     "data": {
      "text/plain": [
       "[10, 11, 9, 10.75, 11, 10.75]"
      ]
     },
     "execution_count": 32,
     "metadata": {},
     "output_type": "execute_result"
    }
   ],
   "source": [
    "for index, val in enumerate(data):\n",
    "    if val is None:\n",
    "        data[index] = average\n",
    "\n",
    "data"
   ]
  },
  {
   "cell_type": "code",
   "execution_count": 1,
   "id": "661be962-0c32-463c-8458-97809d853c53",
   "metadata": {},
   "outputs": [
    {
     "ename": "NameError",
     "evalue": "name 'data' is not defined",
     "output_type": "error",
     "traceback": [
      "\u001b[0;31m---------------------------------------------------------------------------\u001b[0m",
      "\u001b[0;31mNameError\u001b[0m                                 Traceback (most recent call last)",
      "Cell \u001b[0;32mIn[1], line 1\u001b[0m\n\u001b[0;32m----> 1\u001b[0m \u001b[43mdata\u001b[49m\n",
      "\u001b[0;31mNameError\u001b[0m: name 'data' is not defined"
     ]
    }
   ],
   "source": [
    "data"
   ]
  },
  {
   "cell_type": "code",
   "execution_count": 2,
   "id": "d6bf5f0a-305d-4a6f-a758-be47f7daad63",
   "metadata": {},
   "outputs": [
    {
     "name": "stdout",
     "output_type": "stream",
     "text": [
      "Price = 100 - Waiting for price to come down\n",
      "Price = 99 - Waiting for price to come down\n",
      "Price = 98 - Waiting for price to come down\n",
      "Price = 97 - Waiting for price to come down\n",
      "Price = 96 - Waiting for price to come down\n",
      "Price = 95 - Waiting for price to come down\n",
      "Price = 94 - Waiting for price to come down\n",
      "Price = 93 - Waiting for price to come down\n",
      "Price = 92 - Waiting for price to come down\n",
      "Price = 91 - Waiting for price to come down\n",
      "buying at 90\n"
     ]
    }
   ],
   "source": [
    "price = 100 \n",
    "\n",
    "while price > 90:\n",
    "    print(f\"Price = {price} - Waiting for price to come down\")\n",
    "    price -= 1\n",
    "\n",
    "print(f\"buying at {price}\")"
   ]
  },
  {
   "cell_type": "code",
   "execution_count": 1,
   "id": "ca679eb0-1b25-4d40-8efb-69e9a906c51c",
   "metadata": {},
   "outputs": [],
   "source": [
    "# Continue, break and else! "
   ]
  },
  {
   "cell_type": "code",
   "execution_count": 4,
   "id": "e10484d4-f921-492a-8784-6c1a889d163e",
   "metadata": {},
   "outputs": [
    {
     "name": "stdout",
     "output_type": "stream",
     "text": [
      "1\n",
      "2\n",
      "3\n",
      "4\n",
      "5\n",
      "done\n"
     ]
    }
   ],
   "source": [
    "# Continue\n",
    "\n",
    "mylist = [1,2,3,100,4,5]\n",
    "\n",
    "for i in mylist:\n",
    "    if i > 50:\n",
    "        continue\n",
    "    print(i)\n",
    "print('done')\n",
    "        "
   ]
  },
  {
   "cell_type": "code",
   "execution_count": 5,
   "id": "529ea6f2-60b2-4b73-a8f4-2ec7ae029cab",
   "metadata": {},
   "outputs": [
    {
     "name": "stdout",
     "output_type": "stream",
     "text": [
      "1\n",
      "2\n",
      "3\n",
      "done\n"
     ]
    }
   ],
   "source": [
    "# Break\n",
    "for i in mylist:\n",
    "    if i > 50:\n",
    "        break\n",
    "    print(i)\n",
    "print('done')\n"
   ]
  },
  {
   "cell_type": "code",
   "execution_count": 7,
   "id": "fe86aa79-2449-4bee-8c75-e1e57ab96266",
   "metadata": {},
   "outputs": [
    {
     "name": "stdout",
     "output_type": "stream",
     "text": [
      "Not found\n"
     ]
    }
   ],
   "source": [
    "found = False\n",
    "for char in 'Python':\n",
    "    if char == 'k':\n",
    "        found = True\n",
    "        print('Found')\n",
    "        break\n",
    "\n",
    "if not found:\n",
    "    print('Not found')\n",
    "    "
   ]
  },
  {
   "cell_type": "code",
   "execution_count": 10,
   "id": "33bd06a3-e035-4be9-90ac-ff2985b1a629",
   "metadata": {},
   "outputs": [
    {
     "name": "stdout",
     "output_type": "stream",
     "text": [
      "Not found\n"
     ]
    }
   ],
   "source": [
    "# Above code with for and else clause.. 'Else if not break'\n",
    "\n",
    "found = False\n",
    "for char in 'Python':\n",
    "    if char == 'p':\n",
    "        found = True\n",
    "        print('Found')\n",
    "        break\n",
    "else:\n",
    "    print('Not found')"
   ]
  },
  {
   "cell_type": "code",
   "execution_count": 14,
   "id": "5df519dc-4df2-419f-84d9-37355226695b",
   "metadata": {},
   "outputs": [
    {
     "name": "stdout",
     "output_type": "stream",
     "text": [
      "adding numbers 1 + 1 = 2\n",
      "1 + 2 is odd, skipping... \n",
      "adding numbers 1 + 3 = 4\n",
      "1 + 4 is odd, skipping... \n",
      "----------\n",
      "2 + 1 is odd, skipping... \n",
      "adding numbers 2 + 2 = 4\n",
      "2 + 3 is odd, skipping... \n",
      "adding numbers 2 + 4 = 6\n",
      "----------\n",
      "adding numbers 3 + 1 = 4\n",
      "3 + 2 is odd, skipping... \n",
      "adding numbers 3 + 3 = 6\n",
      "3 + 4 is odd, skipping... \n",
      "----------\n",
      "4 + 1 is odd, skipping... \n",
      "adding numbers 4 + 2 = 6\n",
      "4 + 3 is odd, skipping... \n",
      "adding numbers 4 + 4 = 8\n",
      "----------\n",
      "done\n"
     ]
    }
   ],
   "source": [
    "for i in range(1,5):\n",
    "    for j in range(1,5):\n",
    "        if ((i+j) % 2 ) == 1:\n",
    "            print(f\"{i} + {j} is odd, skipping... \")\n",
    "            continue\n",
    "        print(f\"adding numbers {i} + {j} = {i + j}\")\n",
    "    print('-' * 10)\n",
    "print('done')"
   ]
  },
  {
   "cell_type": "code",
   "execution_count": 15,
   "id": "3b52f28c-213d-4c08-9ca3-ed1fb38c2407",
   "metadata": {},
   "outputs": [
    {
     "name": "stdout",
     "output_type": "stream",
     "text": [
      "1\n",
      "2\n",
      "3\n",
      "4\n",
      "5\n"
     ]
    }
   ],
   "source": [
    "i = 0\n",
    "\n",
    "while True:\n",
    "    i += 1\n",
    "    if i > 5:\n",
    "        break\n",
    "    print(i)"
   ]
  },
  {
   "cell_type": "code",
   "execution_count": 1,
   "id": "a9f4e365-31a6-444e-b32b-9e4136a5bc16",
   "metadata": {},
   "outputs": [
    {
     "data": {
      "text/plain": [
       "{'a': 1, 'b': 2, 'c': 3}"
      ]
     },
     "execution_count": 1,
     "metadata": {},
     "output_type": "execute_result"
    }
   ],
   "source": [
    "# Associative arrays - Dictionaries/hash maps\n",
    "\n",
    "d = {'a': 1, 'b': 2, 'c': 3}\n",
    "d"
   ]
  },
  {
   "cell_type": "code",
   "execution_count": 3,
   "id": "d4f95c24-8542-4737-af91-a9b7093ce0ac",
   "metadata": {},
   "outputs": [
    {
     "data": {
      "text/plain": [
       "'Harish'"
      ]
     },
     "execution_count": 3,
     "metadata": {},
     "output_type": "execute_result"
    }
   ],
   "source": [
    "person = {\n",
    "    'first_name' : 'Harish',\n",
    "    'last_name': 'Dhandapani',\n",
    "    'year_born': 1990\n",
    "}\n",
    "\n",
    "person['first_name']\n",
    "\n"
   ]
  },
  {
   "cell_type": "code",
   "execution_count": 4,
   "id": "a8ef1e14-bbcc-4f48-88fb-5dd64b411b72",
   "metadata": {},
   "outputs": [],
   "source": [
    "person['last_name'] = 'D'"
   ]
  },
  {
   "cell_type": "code",
   "execution_count": 5,
   "id": "7d664996-8ba8-4c4c-9bae-b1693addb167",
   "metadata": {},
   "outputs": [
    {
     "data": {
      "text/plain": [
       "{'first_name': 'Harish', 'last_name': 'D', 'year_born': 1990}"
      ]
     },
     "execution_count": 5,
     "metadata": {},
     "output_type": "execute_result"
    }
   ],
   "source": [
    "person"
   ]
  },
  {
   "cell_type": "code",
   "execution_count": 6,
   "id": "d12f1027-7437-4506-b30b-df179f3d0ca7",
   "metadata": {},
   "outputs": [],
   "source": [
    "person['month_born'] = 'June'"
   ]
  },
  {
   "cell_type": "code",
   "execution_count": 7,
   "id": "5452c605-8b12-45ac-a850-fe9373034707",
   "metadata": {},
   "outputs": [
    {
     "data": {
      "text/plain": [
       "{'first_name': 'Harish',\n",
       " 'last_name': 'D',\n",
       " 'year_born': 1990,\n",
       " 'month_born': 'June'}"
      ]
     },
     "execution_count": 7,
     "metadata": {},
     "output_type": "execute_result"
    }
   ],
   "source": [
    "person"
   ]
  },
  {
   "cell_type": "code",
   "execution_count": 8,
   "id": "bc1755fd-8151-497a-b722-31e1ab29f577",
   "metadata": {},
   "outputs": [],
   "source": [
    "d = {3.14: 'a', 2: 'b'}"
   ]
  },
  {
   "cell_type": "code",
   "execution_count": 9,
   "id": "b96fba38-6cd6-4b3b-98d6-890c53fc4468",
   "metadata": {},
   "outputs": [
    {
     "data": {
      "text/plain": [
       "{3.14: 'a', 2: 'b'}"
      ]
     },
     "execution_count": 9,
     "metadata": {},
     "output_type": "execute_result"
    }
   ],
   "source": [
    "d"
   ]
  },
  {
   "cell_type": "code",
   "execution_count": 10,
   "id": "9b0f52fe-7290-41e2-a757-ea4f6b1e967b",
   "metadata": {},
   "outputs": [
    {
     "ename": "TypeError",
     "evalue": "unhashable type: 'list'",
     "output_type": "error",
     "traceback": [
      "\u001b[0;31m---------------------------------------------------------------------------\u001b[0m",
      "\u001b[0;31mTypeError\u001b[0m                                 Traceback (most recent call last)",
      "Cell \u001b[0;32mIn[10], line 3\u001b[0m\n\u001b[1;32m      1\u001b[0m \u001b[38;5;66;03m#Can't use a list object as key\u001b[39;00m\n\u001b[0;32m----> 3\u001b[0m d \u001b[38;5;241m=\u001b[39m {[\u001b[38;5;241m1\u001b[39m,\u001b[38;5;241m2\u001b[39m]: \u001b[38;5;124m'\u001b[39m\u001b[38;5;124ma\u001b[39m\u001b[38;5;124m'\u001b[39m}\n",
      "\u001b[0;31mTypeError\u001b[0m: unhashable type: 'list'"
     ]
    }
   ],
   "source": [
    "#Can't use a list object as key\n",
    "\n",
    "d = {[1,2]: 'a'}"
   ]
  },
  {
   "cell_type": "code",
   "execution_count": 13,
   "id": "4bb34793-ea73-481c-954b-53ac45860141",
   "metadata": {},
   "outputs": [
    {
     "data": {
      "text/plain": [
       "322818021289917443"
      ]
     },
     "execution_count": 13,
     "metadata": {},
     "output_type": "execute_result"
    }
   ],
   "source": [
    "# To check if a object is hashable or not\n",
    "\n",
    "hash(100)\n",
    "hash(3.14)"
   ]
  },
  {
   "cell_type": "code",
   "execution_count": 12,
   "id": "f7007de5-b668-47ef-b4b9-0d79a363ef40",
   "metadata": {},
   "outputs": [
    {
     "ename": "TypeError",
     "evalue": "unhashable type: 'list'",
     "output_type": "error",
     "traceback": [
      "\u001b[0;31m---------------------------------------------------------------------------\u001b[0m",
      "\u001b[0;31mTypeError\u001b[0m                                 Traceback (most recent call last)",
      "Cell \u001b[0;32mIn[12], line 1\u001b[0m\n\u001b[0;32m----> 1\u001b[0m \u001b[38;5;28;43mhash\u001b[39;49m\u001b[43m(\u001b[49m\u001b[43m[\u001b[49m\u001b[38;5;241;43m1\u001b[39;49m\u001b[43m,\u001b[49m\u001b[38;5;241;43m2\u001b[39;49m\u001b[43m]\u001b[49m\u001b[43m)\u001b[49m\n",
      "\u001b[0;31mTypeError\u001b[0m: unhashable type: 'list'"
     ]
    }
   ],
   "source": [
    "hash([1,2])"
   ]
  },
  {
   "cell_type": "code",
   "execution_count": 14,
   "id": "89916dc6-775d-4fed-8f09-62eaf12a554c",
   "metadata": {},
   "outputs": [
    {
     "data": {
      "text/plain": [
       "590899387183067792"
      ]
     },
     "execution_count": 14,
     "metadata": {},
     "output_type": "execute_result"
    }
   ],
   "source": [
    "t = (1,2,3,4)\n",
    "\n",
    "hash(t)"
   ]
  },
  {
   "cell_type": "code",
   "execution_count": 15,
   "id": "beb1510b-9605-4fbb-be8a-d1b1b101f8b6",
   "metadata": {},
   "outputs": [
    {
     "ename": "TypeError",
     "evalue": "unhashable type: 'list'",
     "output_type": "error",
     "traceback": [
      "\u001b[0;31m---------------------------------------------------------------------------\u001b[0m",
      "\u001b[0;31mTypeError\u001b[0m                                 Traceback (most recent call last)",
      "Cell \u001b[0;32mIn[15], line 3\u001b[0m\n\u001b[1;32m      1\u001b[0m t \u001b[38;5;241m=\u001b[39m ([\u001b[38;5;241m1\u001b[39m,\u001b[38;5;241m2\u001b[39m], \u001b[38;5;241m3\u001b[39m,\u001b[38;5;241m4\u001b[39m)\n\u001b[0;32m----> 3\u001b[0m \u001b[38;5;28;43mhash\u001b[39;49m\u001b[43m(\u001b[49m\u001b[43mt\u001b[49m\u001b[43m)\u001b[49m\n",
      "\u001b[0;31mTypeError\u001b[0m: unhashable type: 'list'"
     ]
    }
   ],
   "source": [
    "t = ([1,2], 3,4)\n",
    "\n",
    "hash(t)"
   ]
  },
  {
   "cell_type": "code",
   "execution_count": 16,
   "id": "543a11ae-f4d6-46a8-be0c-9c5e1648f749",
   "metadata": {},
   "outputs": [
    {
     "data": {
      "text/plain": [
       "4631057152"
      ]
     },
     "execution_count": 16,
     "metadata": {},
     "output_type": "execute_result"
    }
   ],
   "source": [
    "d = {'a': 1, 'b': 2, 'c': 3}\n",
    "\n",
    "id(d)"
   ]
  },
  {
   "cell_type": "code",
   "execution_count": 17,
   "id": "34c5c26b-a9cc-4893-a16d-1e10b495dc72",
   "metadata": {},
   "outputs": [],
   "source": [
    "del d['b']"
   ]
  },
  {
   "cell_type": "code",
   "execution_count": 18,
   "id": "27fe590f-f026-4db0-a6e9-4f2a7aa2a40b",
   "metadata": {},
   "outputs": [
    {
     "data": {
      "text/plain": [
       "{'a': 1, 'c': 3}"
      ]
     },
     "execution_count": 18,
     "metadata": {},
     "output_type": "execute_result"
    }
   ],
   "source": [
    "d"
   ]
  },
  {
   "cell_type": "code",
   "execution_count": 19,
   "id": "8e5cf92a-3a55-4a43-a3be-b694d0f2d0cc",
   "metadata": {},
   "outputs": [
    {
     "data": {
      "text/plain": [
       "4631057152"
      ]
     },
     "execution_count": 19,
     "metadata": {},
     "output_type": "execute_result"
    }
   ],
   "source": [
    "id(d)"
   ]
  },
  {
   "cell_type": "code",
   "execution_count": 20,
   "id": "c29d47f3-a906-4faa-a450-29ccd3f21bdc",
   "metadata": {},
   "outputs": [
    {
     "ename": "KeyError",
     "evalue": "'x'",
     "output_type": "error",
     "traceback": [
      "\u001b[0;31m---------------------------------------------------------------------------\u001b[0m",
      "\u001b[0;31mKeyError\u001b[0m                                  Traceback (most recent call last)",
      "Cell \u001b[0;32mIn[20], line 1\u001b[0m\n\u001b[0;32m----> 1\u001b[0m \u001b[38;5;28;01mdel\u001b[39;00m \u001b[43md\u001b[49m\u001b[43m[\u001b[49m\u001b[38;5;124;43m'\u001b[39;49m\u001b[38;5;124;43mx\u001b[39;49m\u001b[38;5;124;43m'\u001b[39;49m\u001b[43m]\u001b[49m\n",
      "\u001b[0;31mKeyError\u001b[0m: 'x'"
     ]
    }
   ],
   "source": [
    "del d['x']"
   ]
  },
  {
   "cell_type": "code",
   "execution_count": 21,
   "id": "6c570e6b-1039-405d-b5f4-d65f26f988a0",
   "metadata": {},
   "outputs": [],
   "source": [
    "# when we declare d = {'a': 1, 'b': 2, 'c': 3}, python stores this whole thing as a dictionary! "
   ]
  },
  {
   "cell_type": "code",
   "execution_count": 22,
   "id": "4104b352-49f6-42cf-8c5d-b6ccfc16ef5e",
   "metadata": {},
   "outputs": [
    {
     "data": {
      "text/plain": [
       "{'__name__': '__main__',\n",
       " '__doc__': 'Automatically created module for IPython interactive environment',\n",
       " '__package__': None,\n",
       " '__loader__': None,\n",
       " '__spec__': None,\n",
       " '__builtin__': <module 'builtins' (built-in)>,\n",
       " '__builtins__': <module 'builtins' (built-in)>,\n",
       " '_ih': ['',\n",
       "  \"# Associative arrays - Dictionaries/hash maps\\n\\nd = {'a': 1, 'b': 2, 'c': 3}\\nd\",\n",
       "  \"person = {\\n    'firstname' : 'Harish',\\n    'lastname': 'Dhandapani',\\n    'year': 1990\\n}\\n\\nperson['firstname']\",\n",
       "  \"person = {\\n    'first_name' : 'Harish',\\n    'last_name': 'Dhandapani',\\n    'year_born': 1990\\n}\\n\\nperson['first_name']\",\n",
       "  \"person['last_name'] = 'D'\",\n",
       "  'person',\n",
       "  \"person['month_born'] = 'June'\",\n",
       "  'person',\n",
       "  \"d = {3.14: 'a', 2: 'b'}\",\n",
       "  'd',\n",
       "  \"#Can't use a list object as key\\n\\nd = {[1,2]: 'a'}\",\n",
       "  '# To check if a object is hashable or not\\n\\nhash(100)',\n",
       "  'hash([1,2])',\n",
       "  '# To check if a object is hashable or not\\n\\nhash(100)\\nhash(3.14)',\n",
       "  't = (1,2,3,4)\\n\\nhash(t)',\n",
       "  't = ([1,2], 3,4)\\n\\nhash(t)',\n",
       "  \"d = {'a': 1, 'b': 2, 'c': 3}\\n\\nid(d)\",\n",
       "  \"del d['b']\",\n",
       "  'd',\n",
       "  'id(d)',\n",
       "  \"del d['x']\",\n",
       "  \"# when we declare d = {'a': 1, 'b': 2, 'c': 3}, python stores this whole thing as a dictionary! \",\n",
       "  'globals()'],\n",
       " '_oh': {1: {'a': 1, 'b': 2, 'c': 3},\n",
       "  2: 'Harish',\n",
       "  3: 'Harish',\n",
       "  5: {'first_name': 'Harish',\n",
       "   'last_name': 'D',\n",
       "   'year_born': 1990,\n",
       "   'month_born': 'June'},\n",
       "  7: {'first_name': 'Harish',\n",
       "   'last_name': 'D',\n",
       "   'year_born': 1990,\n",
       "   'month_born': 'June'},\n",
       "  9: {3.14: 'a', 2: 'b'},\n",
       "  11: 100,\n",
       "  13: 322818021289917443,\n",
       "  14: 590899387183067792,\n",
       "  16: 4631057152,\n",
       "  18: {'a': 1, 'c': 3},\n",
       "  19: 4631057152},\n",
       " '_dh': [PosixPath('/Users/harishd/Documents/code/python')],\n",
       " 'In': ['',\n",
       "  \"# Associative arrays - Dictionaries/hash maps\\n\\nd = {'a': 1, 'b': 2, 'c': 3}\\nd\",\n",
       "  \"person = {\\n    'firstname' : 'Harish',\\n    'lastname': 'Dhandapani',\\n    'year': 1990\\n}\\n\\nperson['firstname']\",\n",
       "  \"person = {\\n    'first_name' : 'Harish',\\n    'last_name': 'Dhandapani',\\n    'year_born': 1990\\n}\\n\\nperson['first_name']\",\n",
       "  \"person['last_name'] = 'D'\",\n",
       "  'person',\n",
       "  \"person['month_born'] = 'June'\",\n",
       "  'person',\n",
       "  \"d = {3.14: 'a', 2: 'b'}\",\n",
       "  'd',\n",
       "  \"#Can't use a list object as key\\n\\nd = {[1,2]: 'a'}\",\n",
       "  '# To check if a object is hashable or not\\n\\nhash(100)',\n",
       "  'hash([1,2])',\n",
       "  '# To check if a object is hashable or not\\n\\nhash(100)\\nhash(3.14)',\n",
       "  't = (1,2,3,4)\\n\\nhash(t)',\n",
       "  't = ([1,2], 3,4)\\n\\nhash(t)',\n",
       "  \"d = {'a': 1, 'b': 2, 'c': 3}\\n\\nid(d)\",\n",
       "  \"del d['b']\",\n",
       "  'd',\n",
       "  'id(d)',\n",
       "  \"del d['x']\",\n",
       "  \"# when we declare d = {'a': 1, 'b': 2, 'c': 3}, python stores this whole thing as a dictionary! \",\n",
       "  'globals()'],\n",
       " 'Out': {1: {'a': 1, 'b': 2, 'c': 3},\n",
       "  2: 'Harish',\n",
       "  3: 'Harish',\n",
       "  5: {'first_name': 'Harish',\n",
       "   'last_name': 'D',\n",
       "   'year_born': 1990,\n",
       "   'month_born': 'June'},\n",
       "  7: {'first_name': 'Harish',\n",
       "   'last_name': 'D',\n",
       "   'year_born': 1990,\n",
       "   'month_born': 'June'},\n",
       "  9: {3.14: 'a', 2: 'b'},\n",
       "  11: 100,\n",
       "  13: 322818021289917443,\n",
       "  14: 590899387183067792,\n",
       "  16: 4631057152,\n",
       "  18: {'a': 1, 'c': 3},\n",
       "  19: 4631057152},\n",
       " 'get_ipython': <bound method InteractiveShell.get_ipython of <ipykernel.zmqshell.ZMQInteractiveShell object at 0x11312a600>>,\n",
       " 'exit': <IPython.core.autocall.ZMQExitAutocall at 0x1130fa210>,\n",
       " 'quit': <IPython.core.autocall.ZMQExitAutocall at 0x1130fa210>,\n",
       " 'open': <function _io.open(file, mode='r', buffering=-1, encoding=None, errors=None, newline=None, closefd=True, opener=None)>,\n",
       " '_': 4631057152,\n",
       " '__': {'a': 1, 'c': 3},\n",
       " '___': 4631057152,\n",
       " '__session__': '/Users/harishd/Documents/code/python/code_along.ipynb',\n",
       " '_i': \"# when we declare d = {'a': 1, 'b': 2, 'c': 3}, python stores this whole thing as a dictionary! \",\n",
       " '_ii': \"del d['x']\",\n",
       " '_iii': 'id(d)',\n",
       " '_i1': \"# Associative arrays - Dictionaries/hash maps\\n\\nd = {'a': 1, 'b': 2, 'c': 3}\\nd\",\n",
       " 'd': {'a': 1, 'c': 3},\n",
       " '_1': {'a': 1, 'b': 2, 'c': 3},\n",
       " '_i2': \"person = {\\n    'firstname' : 'Harish',\\n    'lastname': 'Dhandapani',\\n    'year': 1990\\n}\\n\\nperson['firstname']\",\n",
       " 'person': {'first_name': 'Harish',\n",
       "  'last_name': 'D',\n",
       "  'year_born': 1990,\n",
       "  'month_born': 'June'},\n",
       " '_2': 'Harish',\n",
       " '_i3': \"person = {\\n    'first_name' : 'Harish',\\n    'last_name': 'Dhandapani',\\n    'year_born': 1990\\n}\\n\\nperson['first_name']\",\n",
       " '_3': 'Harish',\n",
       " '_i4': \"person['last_name'] = 'D'\",\n",
       " '_i5': 'person',\n",
       " '_5': {'first_name': 'Harish',\n",
       "  'last_name': 'D',\n",
       "  'year_born': 1990,\n",
       "  'month_born': 'June'},\n",
       " '_i6': \"person['month_born'] = 'June'\",\n",
       " '_i7': 'person',\n",
       " '_7': {'first_name': 'Harish',\n",
       "  'last_name': 'D',\n",
       "  'year_born': 1990,\n",
       "  'month_born': 'June'},\n",
       " '_i8': \"d = {3.14: 'a', 2: 'b'}\",\n",
       " '_i9': 'd',\n",
       " '_9': {3.14: 'a', 2: 'b'},\n",
       " '_i10': \"#Can't use a list object as key\\n\\nd = {[1,2]: 'a'}\",\n",
       " '_i11': '# To check if a object is hashable or not\\n\\nhash(100)',\n",
       " '_11': 100,\n",
       " '_i12': 'hash([1,2])',\n",
       " '_i13': '# To check if a object is hashable or not\\n\\nhash(100)\\nhash(3.14)',\n",
       " '_13': 322818021289917443,\n",
       " '_i14': 't = (1,2,3,4)\\n\\nhash(t)',\n",
       " 't': ([1, 2], 3, 4),\n",
       " '_14': 590899387183067792,\n",
       " '_i15': 't = ([1,2], 3,4)\\n\\nhash(t)',\n",
       " '_i16': \"d = {'a': 1, 'b': 2, 'c': 3}\\n\\nid(d)\",\n",
       " '_16': 4631057152,\n",
       " '_i17': \"del d['b']\",\n",
       " '_i18': 'd',\n",
       " '_18': {'a': 1, 'c': 3},\n",
       " '_i19': 'id(d)',\n",
       " '_19': 4631057152,\n",
       " '_i20': \"del d['x']\",\n",
       " '_i21': \"# when we declare d = {'a': 1, 'b': 2, 'c': 3}, python stores this whole thing as a dictionary! \",\n",
       " '_i22': 'globals()'}"
      ]
     },
     "execution_count": 22,
     "metadata": {},
     "output_type": "execute_result"
    }
   ],
   "source": [
    "globals()"
   ]
  },
  {
   "cell_type": "code",
   "execution_count": 23,
   "id": "6f57f282-6afe-4a5a-806b-858618b0630a",
   "metadata": {},
   "outputs": [
    {
     "data": {
      "text/plain": [
       "dict"
      ]
     },
     "execution_count": 23,
     "metadata": {},
     "output_type": "execute_result"
    }
   ],
   "source": [
    "type(globals())"
   ]
  },
  {
   "cell_type": "code",
   "execution_count": 24,
   "id": "ed90afb0-ef1c-4a3d-9d8b-91a56b5fb4d8",
   "metadata": {},
   "outputs": [
    {
     "data": {
      "text/plain": [
       "{'first_name': 'Harish',\n",
       " 'last_name': 'D',\n",
       " 'year_born': 1990,\n",
       " 'month_born': 'June'}"
      ]
     },
     "execution_count": 24,
     "metadata": {},
     "output_type": "execute_result"
    }
   ],
   "source": [
    "globals()['person']"
   ]
  },
  {
   "cell_type": "code",
   "execution_count": 1,
   "id": "1cdd041f-0248-44a2-b92e-b4c158084bc4",
   "metadata": {},
   "outputs": [
    {
     "name": "stdout",
     "output_type": "stream",
     "text": [
      "key 1\n",
      "key 2\n",
      "3.14\n"
     ]
    }
   ],
   "source": [
    "# Iterating Dictionaries\n",
    "\n",
    "d = {\n",
    "    'key 1': 1,\n",
    "    'key 2': 2,\n",
    "    3.14: 'pi'\n",
    "}\n",
    "\n",
    "for k in d:\n",
    "    print(k)"
   ]
  },
  {
   "cell_type": "code",
   "execution_count": 2,
   "id": "bc7de426-18e2-4ab3-b5ef-ae96957a229f",
   "metadata": {},
   "outputs": [
    {
     "name": "stdout",
     "output_type": "stream",
     "text": [
      "d[key 1]=1\n",
      "d[key 2]=2\n",
      "d[3.14]=pi\n"
     ]
    }
   ],
   "source": [
    "for k in d:\n",
    "    print(f'd[{k}]={d[k]}')"
   ]
  },
  {
   "cell_type": "code",
   "execution_count": 3,
   "id": "46e14696-e77e-484b-9b19-f8e12c9ee1b6",
   "metadata": {},
   "outputs": [
    {
     "name": "stdout",
     "output_type": "stream",
     "text": [
      "1\n",
      "2\n",
      "pi\n"
     ]
    }
   ],
   "source": [
    "for v in d.values():\n",
    "    print(v)"
   ]
  },
  {
   "cell_type": "code",
   "execution_count": 4,
   "id": "70230a99-fd17-4246-a3f7-a8bedabe60a0",
   "metadata": {},
   "outputs": [
    {
     "name": "stdout",
     "output_type": "stream",
     "text": [
      "('key 1', 1)\n",
      "('key 2', 2)\n",
      "(3.14, 'pi')\n"
     ]
    }
   ],
   "source": [
    "for t in d.items():\n",
    "    print(t)"
   ]
  },
  {
   "cell_type": "code",
   "execution_count": 5,
   "id": "d0e7d3f4-88cc-4ba1-b04a-f250e5411125",
   "metadata": {},
   "outputs": [
    {
     "name": "stdout",
     "output_type": "stream",
     "text": [
      "key 1 1\n",
      "key 2 2\n",
      "3.14 pi\n"
     ]
    }
   ],
   "source": [
    "for key, value in d.items():\n",
    "    print(key, value)"
   ]
  },
  {
   "cell_type": "code",
   "execution_count": 6,
   "id": "b0362da1-fbc2-4673-acc1-f4cca0fdd76f",
   "metadata": {},
   "outputs": [],
   "source": [
    "d['x'] = 100\n"
   ]
  },
  {
   "cell_type": "code",
   "execution_count": 7,
   "id": "b9355148-71fb-4176-91aa-8e079279045a",
   "metadata": {},
   "outputs": [
    {
     "data": {
      "text/plain": [
       "{'key 1': 1, 'key 2': 2, 3.14: 'pi', 'x': 100}"
      ]
     },
     "execution_count": 7,
     "metadata": {},
     "output_type": "execute_result"
    }
   ],
   "source": [
    "d"
   ]
  },
  {
   "cell_type": "code",
   "execution_count": 8,
   "id": "cf161fe4-5a51-4b2a-84f3-8cebcef7c845",
   "metadata": {},
   "outputs": [
    {
     "name": "stdout",
     "output_type": "stream",
     "text": [
      "key 1\n",
      "key 2\n",
      "3.14\n",
      "x\n"
     ]
    }
   ],
   "source": [
    "# Note the order.. Iteration order is same as insertion order\n",
    "for key in d.keys():\n",
    "    print(key)"
   ]
  },
  {
   "cell_type": "code",
   "execution_count": 9,
   "id": "101f8cdb-722f-45f4-87cf-6796f13ca7ae",
   "metadata": {},
   "outputs": [],
   "source": [
    "del d['key 1']"
   ]
  },
  {
   "cell_type": "code",
   "execution_count": 10,
   "id": "2c08334a-a03c-40ee-8858-8c3e9c006282",
   "metadata": {},
   "outputs": [
    {
     "data": {
      "text/plain": [
       "{'key 2': 2, 3.14: 'pi', 'x': 100}"
      ]
     },
     "execution_count": 10,
     "metadata": {},
     "output_type": "execute_result"
    }
   ],
   "source": [
    "d"
   ]
  },
  {
   "cell_type": "code",
   "execution_count": 11,
   "id": "bfdc7db2-d8a0-43de-8d08-68c6c55ff70e",
   "metadata": {},
   "outputs": [],
   "source": [
    "d['key 1'] = 100"
   ]
  },
  {
   "cell_type": "code",
   "execution_count": 13,
   "id": "b874dc64-ad46-4959-897b-22703f254414",
   "metadata": {},
   "outputs": [
    {
     "data": {
      "text/plain": [
       "{'key 2': 2, 3.14: 'pi', 'x': 100, 'key 1': 100}"
      ]
     },
     "execution_count": 13,
     "metadata": {},
     "output_type": "execute_result"
    }
   ],
   "source": [
    "# Note the order now for key 1\n",
    "d"
   ]
  },
  {
   "cell_type": "code",
   "execution_count": 1,
   "id": "8e7d8bb3-6d45-4e5d-a8b7-29ea52663c58",
   "metadata": {},
   "outputs": [],
   "source": [
    "# Working with dictionaries"
   ]
  },
  {
   "cell_type": "code",
   "execution_count": 2,
   "id": "667b41be-07ae-40a6-9a7c-3e7b48c97b55",
   "metadata": {},
   "outputs": [
    {
     "data": {
      "text/plain": [
       "True"
      ]
     },
     "execution_count": 2,
     "metadata": {},
     "output_type": "execute_result"
    }
   ],
   "source": [
    "data = {\n",
    "    'open': 100, \n",
    "    'high': 110,\n",
    "    'low': 95,\n",
    "    'close': 110\n",
    "}\n",
    "\n",
    "'open' in data"
   ]
  },
  {
   "cell_type": "code",
   "execution_count": 3,
   "id": "b0e1d7be-694e-4192-b038-f68f8335334e",
   "metadata": {},
   "outputs": [
    {
     "data": {
      "text/plain": [
       "False"
      ]
     },
     "execution_count": 3,
     "metadata": {},
     "output_type": "execute_result"
    }
   ],
   "source": [
    "'open' not in data"
   ]
  },
  {
   "cell_type": "code",
   "execution_count": 4,
   "id": "8b2b016f-d7e5-4bc9-a316-d6029cb27939",
   "metadata": {},
   "outputs": [
    {
     "data": {
      "text/plain": [
       "True"
      ]
     },
     "execution_count": 4,
     "metadata": {},
     "output_type": "execute_result"
    }
   ],
   "source": [
    "'x' not in data"
   ]
  },
  {
   "cell_type": "code",
   "execution_count": 5,
   "id": "67230857-bc89-4000-87db-9f3e3c301f47",
   "metadata": {},
   "outputs": [],
   "source": [
    "# Checking for membership in a dict is super fast"
   ]
  },
  {
   "cell_type": "code",
   "execution_count": 6,
   "id": "fac386ff-b2e0-455b-b659-ce960e06e427",
   "metadata": {},
   "outputs": [],
   "source": [
    "data.clear()"
   ]
  },
  {
   "cell_type": "code",
   "execution_count": 7,
   "id": "c495bd5e-abbc-4d38-a4df-5f536d7bb1e7",
   "metadata": {},
   "outputs": [
    {
     "data": {
      "text/plain": [
       "{}"
      ]
     },
     "execution_count": 7,
     "metadata": {},
     "output_type": "execute_result"
    }
   ],
   "source": [
    "data"
   ]
  },
  {
   "cell_type": "code",
   "execution_count": 8,
   "id": "112207c7-900e-4c8b-b830-99d742dba806",
   "metadata": {},
   "outputs": [
    {
     "data": {
      "text/plain": [
       "0"
      ]
     },
     "execution_count": 8,
     "metadata": {},
     "output_type": "execute_result"
    }
   ],
   "source": [
    "len(data)"
   ]
  },
  {
   "cell_type": "code",
   "execution_count": 9,
   "id": "e3dfcb42-59ed-43d8-aea5-01ab9983e7f8",
   "metadata": {},
   "outputs": [
    {
     "data": {
      "text/plain": [
       "4"
      ]
     },
     "execution_count": 9,
     "metadata": {},
     "output_type": "execute_result"
    }
   ],
   "source": [
    "data = {\n",
    "    'open': 100, \n",
    "    'high': 110,\n",
    "    'low': 95,\n",
    "    'close': 110\n",
    "}\n",
    "\n",
    "len(data)"
   ]
  },
  {
   "cell_type": "code",
   "execution_count": 12,
   "id": "cd8db3a0-b57b-4b36-b2fe-52377b6f7f4d",
   "metadata": {},
   "outputs": [
    {
     "data": {
      "text/plain": [
       "4419464000"
      ]
     },
     "execution_count": 12,
     "metadata": {},
     "output_type": "execute_result"
    }
   ],
   "source": [
    "data_copy = data.copy()\n",
    "id(data_copy)"
   ]
  },
  {
   "cell_type": "code",
   "execution_count": 11,
   "id": "d57706ca-640d-408e-b4ce-8507fb654dde",
   "metadata": {},
   "outputs": [
    {
     "data": {
      "text/plain": [
       "4419350400"
      ]
     },
     "execution_count": 11,
     "metadata": {},
     "output_type": "execute_result"
    }
   ],
   "source": [
    "\n",
    "id(data)"
   ]
  },
  {
   "cell_type": "code",
   "execution_count": 13,
   "id": "dba53543-5e69-47f0-a947-0919685840ec",
   "metadata": {},
   "outputs": [],
   "source": [
    "data_copy['x'] = 100"
   ]
  },
  {
   "cell_type": "code",
   "execution_count": 14,
   "id": "f54c43fb-53b1-4f86-b234-dd8ed5bfb186",
   "metadata": {},
   "outputs": [
    {
     "data": {
      "text/plain": [
       "{'open': 100, 'high': 110, 'low': 95, 'close': 110, 'x': 100}"
      ]
     },
     "execution_count": 14,
     "metadata": {},
     "output_type": "execute_result"
    }
   ],
   "source": [
    "data_copy"
   ]
  },
  {
   "cell_type": "code",
   "execution_count": 15,
   "id": "30d4edc7-0e2d-43d1-a86c-5c9fee0677fb",
   "metadata": {},
   "outputs": [
    {
     "data": {
      "text/plain": [
       "{'open': 100, 'high': 110, 'low': 95, 'close': 110}"
      ]
     },
     "execution_count": 15,
     "metadata": {},
     "output_type": "execute_result"
    }
   ],
   "source": [
    "data"
   ]
  },
  {
   "cell_type": "code",
   "execution_count": 16,
   "id": "c0f61d06-99a4-4125-99f6-ef0436c7febe",
   "metadata": {},
   "outputs": [],
   "source": [
    "data_copy['open'] = 98"
   ]
  },
  {
   "cell_type": "code",
   "execution_count": 17,
   "id": "923555c5-2b96-4b8f-b4ee-feb80e390b9f",
   "metadata": {},
   "outputs": [
    {
     "data": {
      "text/plain": [
       "{'open': 98, 'high': 110, 'low': 95, 'close': 110, 'x': 100}"
      ]
     },
     "execution_count": 17,
     "metadata": {},
     "output_type": "execute_result"
    }
   ],
   "source": [
    "data_copy"
   ]
  },
  {
   "cell_type": "code",
   "execution_count": 18,
   "id": "3be14444-4e51-4b94-94ab-a25fb2e2ca78",
   "metadata": {},
   "outputs": [
    {
     "data": {
      "text/plain": [
       "{'open': 100, 'high': 110, 'low': 95, 'close': 110}"
      ]
     },
     "execution_count": 18,
     "metadata": {},
     "output_type": "execute_result"
    }
   ],
   "source": [
    "data"
   ]
  },
  {
   "cell_type": "code",
   "execution_count": 19,
   "id": "b09c9c1e-6516-4b3b-ac70-8e89568b0b70",
   "metadata": {},
   "outputs": [
    {
     "data": {
      "text/plain": [
       "{'a': 1, 'b': 2}"
      ]
     },
     "execution_count": 19,
     "metadata": {},
     "output_type": "execute_result"
    }
   ],
   "source": [
    "# Creating dictionaries\n",
    "\n",
    "d = dict(a=1, b=2)\n",
    "d"
   ]
  },
  {
   "cell_type": "code",
   "execution_count": 22,
   "id": "93c688a9-a7a4-402a-89f3-8da8a4c309c0",
   "metadata": {},
   "outputs": [],
   "source": [
    "# Initialize dict with same values for all keys\n",
    "\n",
    "d = dict.fromkeys('abc', 10)"
   ]
  },
  {
   "cell_type": "code",
   "execution_count": 23,
   "id": "88915d8d-64fd-4c29-ab7d-8292f64c79c9",
   "metadata": {},
   "outputs": [
    {
     "data": {
      "text/plain": [
       "{'a': 10, 'b': 10, 'c': 10}"
      ]
     },
     "execution_count": 23,
     "metadata": {},
     "output_type": "execute_result"
    }
   ],
   "source": [
    "d"
   ]
  },
  {
   "cell_type": "markdown",
   "id": "8d329e5d-368c-4188-bd02-1644bd9bd22e",
   "metadata": {},
   "source": [
    "symbols = ['AAPL', 'MSFT', 'AAPL', 'MSFT']"
   ]
  },
  {
   "cell_type": "code",
   "execution_count": 24,
   "id": "a24a35a3-0938-4133-a916-c5616aab230b",
   "metadata": {},
   "outputs": [
    {
     "ename": "NameError",
     "evalue": "name 'symbols' is not defined",
     "output_type": "error",
     "traceback": [
      "\u001b[0;31m---------------------------------------------------------------------------\u001b[0m",
      "\u001b[0;31mNameError\u001b[0m                                 Traceback (most recent call last)",
      "Cell \u001b[0;32mIn[24], line 1\u001b[0m\n\u001b[0;32m----> 1\u001b[0m \u001b[43msymbols\u001b[49m \n",
      "\u001b[0;31mNameError\u001b[0m: name 'symbols' is not defined"
     ]
    }
   ],
   "source": [
    "symbols "
   ]
  },
  {
   "cell_type": "code",
   "execution_count": 25,
   "id": "ad4589f7-223a-4ac7-9fab-06279533840e",
   "metadata": {},
   "outputs": [],
   "source": [
    "symbols = ['AAPL', 'MSFT', 'AAPL', 'MSFT']"
   ]
  },
  {
   "cell_type": "code",
   "execution_count": 26,
   "id": "533e547c-6fc1-440e-a18a-7537eb37b6c4",
   "metadata": {},
   "outputs": [
    {
     "data": {
      "text/plain": [
       "{'AAPL': 0, 'MSFT': 0}"
      ]
     },
     "execution_count": 26,
     "metadata": {},
     "output_type": "execute_result"
    }
   ],
   "source": [
    "d = dict.fromkeys(symbols, 0)\n",
    "\n",
    "d"
   ]
  },
  {
   "cell_type": "code",
   "execution_count": 27,
   "id": "061b086c-c288-4c85-8b35-cb116cf43eca",
   "metadata": {},
   "outputs": [],
   "source": [
    "d1 = {}\n"
   ]
  },
  {
   "cell_type": "code",
   "execution_count": 28,
   "id": "c75c32c0-078a-492b-998e-cc8d913f7368",
   "metadata": {},
   "outputs": [],
   "source": [
    "d1 = dict()"
   ]
  },
  {
   "cell_type": "code",
   "execution_count": 29,
   "id": "1c359c31-11c0-47da-b6b4-6e52c666b0c4",
   "metadata": {},
   "outputs": [
    {
     "data": {
      "text/plain": [
       "{}"
      ]
     },
     "execution_count": 29,
     "metadata": {},
     "output_type": "execute_result"
    }
   ],
   "source": [
    "d1"
   ]
  },
  {
   "cell_type": "code",
   "execution_count": 1,
   "id": "37beb12e-7362-4ab4-8fa4-5da46b971388",
   "metadata": {},
   "outputs": [],
   "source": [
    "d1 = dict(a=1, b=2)\n",
    "\n",
    "d2 = dict(c=3, d=4)"
   ]
  },
  {
   "cell_type": "code",
   "execution_count": 2,
   "id": "39c28ed8-5a13-46cd-8c2f-739f7b83336a",
   "metadata": {},
   "outputs": [],
   "source": [
    "d1.update(d2)"
   ]
  },
  {
   "cell_type": "code",
   "execution_count": 3,
   "id": "8dcc636a-9c7e-49e0-9b9e-2ba0f7850202",
   "metadata": {},
   "outputs": [
    {
     "data": {
      "text/plain": [
       "{'a': 1, 'b': 2, 'c': 3, 'd': 4}"
      ]
     },
     "execution_count": 3,
     "metadata": {},
     "output_type": "execute_result"
    }
   ],
   "source": [
    "d1"
   ]
  },
  {
   "cell_type": "code",
   "execution_count": 4,
   "id": "0e0e0ff3-6df9-4d03-8610-92d848ca5aeb",
   "metadata": {},
   "outputs": [],
   "source": [
    "d2.update(d1)"
   ]
  },
  {
   "cell_type": "code",
   "execution_count": 5,
   "id": "d11a2e23-ad0a-47b3-b226-2515d09f3c75",
   "metadata": {},
   "outputs": [
    {
     "data": {
      "text/plain": [
       "{'c': 3, 'd': 4, 'a': 1, 'b': 2}"
      ]
     },
     "execution_count": 5,
     "metadata": {},
     "output_type": "execute_result"
    }
   ],
   "source": [
    "d2"
   ]
  },
  {
   "cell_type": "code",
   "execution_count": 6,
   "id": "550ed9c1-d9bc-472f-a7d7-671ca252336f",
   "metadata": {},
   "outputs": [
    {
     "data": {
      "text/plain": [
       "{'c': 3, 'd': 4, 'a': 1, 'b': 2}"
      ]
     },
     "execution_count": 6,
     "metadata": {},
     "output_type": "execute_result"
    }
   ],
   "source": [
    "d2"
   ]
  },
  {
   "cell_type": "code",
   "execution_count": 7,
   "id": "59b58176-7699-4460-a47d-256798ac5897",
   "metadata": {},
   "outputs": [
    {
     "data": {
      "text/plain": [
       "{'a': 1, 'b': 2, 'c': 3, 'd': 4}"
      ]
     },
     "execution_count": 7,
     "metadata": {},
     "output_type": "execute_result"
    }
   ],
   "source": [
    "d1"
   ]
  },
  {
   "cell_type": "code",
   "execution_count": 1,
   "id": "8272e38d-97b4-4638-9824-dfe8e85a643e",
   "metadata": {},
   "outputs": [],
   "source": [
    "# Sets in python"
   ]
  },
  {
   "cell_type": "code",
   "execution_count": 2,
   "id": "99f39b03-c747-4390-92fd-108479158026",
   "metadata": {},
   "outputs": [
    {
     "data": {
      "text/plain": [
       "set"
      ]
     },
     "execution_count": 2,
     "metadata": {},
     "output_type": "execute_result"
    }
   ],
   "source": [
    "type({1, 'a', True})"
   ]
  },
  {
   "cell_type": "code",
   "execution_count": 3,
   "id": "23590f9e-f4ff-4521-ae64-8117a26dfabe",
   "metadata": {},
   "outputs": [
    {
     "data": {
      "text/plain": [
       "{1, 2, 3, 4, 5}"
      ]
     },
     "execution_count": 3,
     "metadata": {},
     "output_type": "execute_result"
    }
   ],
   "source": [
    "set([1,2,3,4,3,4,5])"
   ]
  },
  {
   "cell_type": "code",
   "execution_count": 4,
   "id": "ff8bc1dc-ea3b-4e2f-84a5-00dfc1c03db2",
   "metadata": {},
   "outputs": [],
   "source": [
    "d = dict.fromkeys('hello', 0)"
   ]
  },
  {
   "cell_type": "code",
   "execution_count": 5,
   "id": "2135ef74-1fd0-4c6e-96b9-d548564bd745",
   "metadata": {},
   "outputs": [
    {
     "data": {
      "text/plain": [
       "{'h': 0, 'e': 0, 'l': 0, 'o': 0}"
      ]
     },
     "execution_count": 5,
     "metadata": {},
     "output_type": "execute_result"
    }
   ],
   "source": [
    "d"
   ]
  },
  {
   "cell_type": "code",
   "execution_count": 6,
   "id": "2d332a4d-c13b-43dc-968d-a1c3a3d34816",
   "metadata": {},
   "outputs": [],
   "source": [
    "s = {'a', 'b', 'c'}"
   ]
  },
  {
   "cell_type": "code",
   "execution_count": 7,
   "id": "02053f4d-2deb-48d6-a064-62fcf42b099d",
   "metadata": {},
   "outputs": [
    {
     "data": {
      "text/plain": [
       "set"
      ]
     },
     "execution_count": 7,
     "metadata": {},
     "output_type": "execute_result"
    }
   ],
   "source": [
    "type(s)"
   ]
  },
  {
   "cell_type": "code",
   "execution_count": 8,
   "id": "7cf6a78d-7ae8-4a0f-8189-e507daa3e25c",
   "metadata": {},
   "outputs": [],
   "source": [
    "s = set()"
   ]
  },
  {
   "cell_type": "code",
   "execution_count": 9,
   "id": "48addf07-7ccf-4f14-aa0e-c14ce00d02ef",
   "metadata": {},
   "outputs": [
    {
     "data": {
      "text/plain": [
       "set()"
      ]
     },
     "execution_count": 9,
     "metadata": {},
     "output_type": "execute_result"
    }
   ],
   "source": [
    "s "
   ]
  },
  {
   "cell_type": "code",
   "execution_count": 10,
   "id": "7223a3b3-9f6c-4e04-acef-adc4bbf6fafd",
   "metadata": {},
   "outputs": [
    {
     "data": {
      "text/plain": [
       "{'e', 'h', 'l', 'o'}"
      ]
     },
     "execution_count": 10,
     "metadata": {},
     "output_type": "execute_result"
    }
   ],
   "source": [
    "set('hello')"
   ]
  },
  {
   "cell_type": "code",
   "execution_count": 11,
   "id": "11104c9b-2b8f-421b-9284-59d27914dae3",
   "metadata": {},
   "outputs": [
    {
     "data": {
      "text/plain": [
       "{'e', 'h', 'l', 'o'}"
      ]
     },
     "execution_count": 11,
     "metadata": {},
     "output_type": "execute_result"
    }
   ],
   "source": [
    "set('hello')"
   ]
  },
  {
   "cell_type": "code",
   "execution_count": 13,
   "id": "83966fae-6377-49a8-9c16-7c0c1b8d1be8",
   "metadata": {},
   "outputs": [
    {
     "data": {
      "text/plain": [
       "{'e', 'h', 'l', 'o'}"
      ]
     },
     "execution_count": 13,
     "metadata": {},
     "output_type": "execute_result"
    }
   ],
   "source": [
    "s = set('hello')\n",
    "s"
   ]
  },
  {
   "cell_type": "code",
   "execution_count": 14,
   "id": "37c581e7-5b49-4281-9089-eb2e7b3407fe",
   "metadata": {},
   "outputs": [
    {
     "name": "stdout",
     "output_type": "stream",
     "text": [
      "l\n",
      "o\n",
      "e\n",
      "h\n"
     ]
    }
   ],
   "source": [
    "for val in s:\n",
    "    print(val)"
   ]
  },
  {
   "cell_type": "code",
   "execution_count": 1,
   "id": "46011761-7bfc-4627-b3d1-2976a7662ef2",
   "metadata": {},
   "outputs": [
    {
     "data": {
      "text/plain": [
       "True"
      ]
     },
     "execution_count": 1,
     "metadata": {},
     "output_type": "execute_result"
    }
   ],
   "source": [
    "s1 = set('abc')\n",
    "s2 = { True, False}\n",
    "s3 = {'a', 100, 200}\n",
    "\n",
    "s1.isdisjoint(s2)"
   ]
  },
  {
   "cell_type": "code",
   "execution_count": 2,
   "id": "db3a4df7-103a-4859-a93a-c00da536cc03",
   "metadata": {},
   "outputs": [
    {
     "data": {
      "text/plain": [
       "False"
      ]
     },
     "execution_count": 2,
     "metadata": {},
     "output_type": "execute_result"
    }
   ],
   "source": [
    "s1.isdisjoint(s3)"
   ]
  },
  {
   "cell_type": "code",
   "execution_count": 4,
   "id": "635b35ca-8826-463b-81d4-e7a02e18d9f5",
   "metadata": {},
   "outputs": [
    {
     "data": {
      "text/plain": [
       "{100, 200}"
      ]
     },
     "execution_count": 4,
     "metadata": {},
     "output_type": "execute_result"
    }
   ],
   "source": [
    "s = set()\n",
    "\n",
    "s.add(100)\n",
    "\n",
    "s.add(200)\n",
    "\n",
    "s"
   ]
  },
  {
   "cell_type": "code",
   "execution_count": 5,
   "id": "0cc1d8d1-d6db-4276-96b5-72f25c1d70f0",
   "metadata": {},
   "outputs": [
    {
     "data": {
      "text/plain": [
       "{100, 200}"
      ]
     },
     "execution_count": 5,
     "metadata": {},
     "output_type": "execute_result"
    }
   ],
   "source": [
    "s.add(200)\n",
    "\n",
    "s"
   ]
  },
  {
   "cell_type": "code",
   "execution_count": 6,
   "id": "fa15f4ee-8f51-4e8b-a7da-688ef25d0e73",
   "metadata": {},
   "outputs": [
    {
     "data": {
      "text/plain": [
       "{200}"
      ]
     },
     "execution_count": 6,
     "metadata": {},
     "output_type": "execute_result"
    }
   ],
   "source": [
    "s.remove(100)\n",
    "\n",
    "s"
   ]
  },
  {
   "cell_type": "code",
   "execution_count": 7,
   "id": "1c655360-503d-4914-8e2d-d5b884d13178",
   "metadata": {},
   "outputs": [
    {
     "ename": "KeyError",
     "evalue": "100",
     "output_type": "error",
     "traceback": [
      "\u001b[0;31m---------------------------------------------------------------------------\u001b[0m",
      "\u001b[0;31mKeyError\u001b[0m                                  Traceback (most recent call last)",
      "Cell \u001b[0;32mIn[7], line 1\u001b[0m\n\u001b[0;32m----> 1\u001b[0m \u001b[43ms\u001b[49m\u001b[38;5;241;43m.\u001b[39;49m\u001b[43mremove\u001b[49m\u001b[43m(\u001b[49m\u001b[38;5;241;43m100\u001b[39;49m\u001b[43m)\u001b[49m\n",
      "\u001b[0;31mKeyError\u001b[0m: 100"
     ]
    }
   ],
   "source": [
    "s.remove(100)"
   ]
  },
  {
   "cell_type": "code",
   "execution_count": 8,
   "id": "a81e5217-0e56-4818-a05f-1607fb782770",
   "metadata": {},
   "outputs": [
    {
     "data": {
      "text/plain": [
       "set()"
      ]
     },
     "execution_count": 8,
     "metadata": {},
     "output_type": "execute_result"
    }
   ],
   "source": [
    "s.discard(200)\n",
    "\n",
    "s"
   ]
  },
  {
   "cell_type": "code",
   "execution_count": 9,
   "id": "a17c69e8-4908-4f1f-9db4-fe826c8c232c",
   "metadata": {},
   "outputs": [],
   "source": [
    "s.discard(4)"
   ]
  },
  {
   "cell_type": "code",
   "execution_count": 10,
   "id": "c93bf8c1-efae-4665-8632-df186c59a6a0",
   "metadata": {},
   "outputs": [
    {
     "data": {
      "text/plain": [
       "True"
      ]
     },
     "execution_count": 10,
     "metadata": {},
     "output_type": "execute_result"
    }
   ],
   "source": [
    "s1 = set('abc')\n",
    "\n",
    "s2 = set('abcd')\n",
    "\n",
    "# Strict subset \n",
    "s1 < s2"
   ]
  },
  {
   "cell_type": "code",
   "execution_count": 11,
   "id": "101bba7d-b97b-4650-a3f8-3c13dfd83770",
   "metadata": {},
   "outputs": [
    {
     "data": {
      "text/plain": [
       "True"
      ]
     },
     "execution_count": 11,
     "metadata": {},
     "output_type": "execute_result"
    }
   ],
   "source": [
    "s2 > s1"
   ]
  },
  {
   "cell_type": "code",
   "execution_count": 13,
   "id": "9b4f968b-9510-42ae-9f9e-64cb7704ff28",
   "metadata": {},
   "outputs": [
    {
     "data": {
      "text/plain": [
       "True"
      ]
     },
     "execution_count": 13,
     "metadata": {},
     "output_type": "execute_result"
    }
   ],
   "source": [
    "s3 = set('abc')\n",
    "\n",
    "#Subset\n",
    "s1 <= s3"
   ]
  },
  {
   "cell_type": "code",
   "execution_count": 14,
   "id": "dd711a64-15c8-4d34-8ac3-5130f618c551",
   "metadata": {},
   "outputs": [
    {
     "data": {
      "text/plain": [
       "{'a', 'b', 'c', 'd'}"
      ]
     },
     "execution_count": 14,
     "metadata": {},
     "output_type": "execute_result"
    }
   ],
   "source": [
    "s1 = set('abc')\n",
    "\n",
    "s2 = set('bcd')\n",
    "\n",
    "#Union - All these return a new set \n",
    "s1 | s2 "
   ]
  },
  {
   "cell_type": "code",
   "execution_count": 15,
   "id": "204475d0-d2f3-4e4e-8529-6f3eb8c459d1",
   "metadata": {},
   "outputs": [
    {
     "data": {
      "text/plain": [
       "{'b', 'c'}"
      ]
     },
     "execution_count": 15,
     "metadata": {},
     "output_type": "execute_result"
    }
   ],
   "source": [
    "#Intersection\n",
    "s1 & s2"
   ]
  },
  {
   "cell_type": "code",
   "execution_count": 16,
   "id": "3561f6d5-f6e7-4412-a9e4-d85a79c66aed",
   "metadata": {},
   "outputs": [
    {
     "data": {
      "text/plain": [
       "{'a'}"
      ]
     },
     "execution_count": 16,
     "metadata": {},
     "output_type": "execute_result"
    }
   ],
   "source": [
    "#Difference\n",
    "s1 - s2 "
   ]
  },
  {
   "cell_type": "code",
   "execution_count": 17,
   "id": "edb732f2-f0f0-4d27-8ae5-e3ecedbd7d46",
   "metadata": {},
   "outputs": [
    {
     "data": {
      "text/plain": [
       "({'a', 'b', 'c'}, {'b', 'c', 'd'})"
      ]
     },
     "execution_count": 17,
     "metadata": {},
     "output_type": "execute_result"
    }
   ],
   "source": [
    "s1, s2 "
   ]
  },
  {
   "cell_type": "code",
   "execution_count": 18,
   "id": "467a4e8d-c46b-4cfe-bb70-24d2fa311d0f",
   "metadata": {},
   "outputs": [
    {
     "data": {
      "text/plain": [
       "'abcdefghijklmnopqrstuvwxyz'"
      ]
     },
     "execution_count": 18,
     "metadata": {},
     "output_type": "execute_result"
    }
   ],
   "source": [
    "s = set('abcdefghijklmnopqrstuvwxyz')\n",
    "\n",
    "import string\n",
    "\n",
    "string.ascii_lowercase"
   ]
  },
  {
   "cell_type": "code",
   "execution_count": 19,
   "id": "3bb7e0b9-a70d-4f5f-b879-6f94ea6f55f9",
   "metadata": {},
   "outputs": [
    {
     "data": {
      "text/plain": [
       "\u001b[0;31mType:\u001b[0m        module\n",
       "\u001b[0;31mString form:\u001b[0m <module 'string' from '/Library/Frameworks/Python.framework/Versions/3.12/lib/python3.12/string.py'>\n",
       "\u001b[0;31mFile:\u001b[0m        /Library/Frameworks/Python.framework/Versions/3.12/lib/python3.12/string.py\n",
       "\u001b[0;31mDocstring:\u001b[0m  \n",
       "A collection of string constants.\n",
       "\n",
       "Public module variables:\n",
       "\n",
       "whitespace -- a string containing all ASCII whitespace\n",
       "ascii_lowercase -- a string containing all ASCII lowercase letters\n",
       "ascii_uppercase -- a string containing all ASCII uppercase letters\n",
       "ascii_letters -- a string containing all ASCII letters\n",
       "digits -- a string containing all ASCII decimal digits\n",
       "hexdigits -- a string containing all ASCII hexadecimal digits\n",
       "octdigits -- a string containing all ASCII octal digits\n",
       "punctuation -- a string containing all ASCII punctuation characters\n",
       "printable -- a string containing all ASCII characters considered printable"
      ]
     },
     "metadata": {},
     "output_type": "display_data"
    }
   ],
   "source": [
    "?string "
   ]
  },
  {
   "cell_type": "code",
   "execution_count": 20,
   "id": "13ed7479-d7a4-4876-8572-c1c81d9d19d0",
   "metadata": {},
   "outputs": [],
   "source": [
    "alphabet = set(string.ascii_letters)"
   ]
  },
  {
   "cell_type": "code",
   "execution_count": 21,
   "id": "4141d8f9-a95d-46be-91fc-204b51245223",
   "metadata": {},
   "outputs": [
    {
     "data": {
      "text/plain": [
       "{'A',\n",
       " 'B',\n",
       " 'C',\n",
       " 'D',\n",
       " 'E',\n",
       " 'F',\n",
       " 'G',\n",
       " 'H',\n",
       " 'I',\n",
       " 'J',\n",
       " 'K',\n",
       " 'L',\n",
       " 'M',\n",
       " 'N',\n",
       " 'O',\n",
       " 'P',\n",
       " 'Q',\n",
       " 'R',\n",
       " 'S',\n",
       " 'T',\n",
       " 'U',\n",
       " 'V',\n",
       " 'W',\n",
       " 'X',\n",
       " 'Y',\n",
       " 'Z',\n",
       " 'a',\n",
       " 'b',\n",
       " 'c',\n",
       " 'd',\n",
       " 'e',\n",
       " 'f',\n",
       " 'g',\n",
       " 'h',\n",
       " 'i',\n",
       " 'j',\n",
       " 'k',\n",
       " 'l',\n",
       " 'm',\n",
       " 'n',\n",
       " 'o',\n",
       " 'p',\n",
       " 'q',\n",
       " 'r',\n",
       " 's',\n",
       " 't',\n",
       " 'u',\n",
       " 'v',\n",
       " 'w',\n",
       " 'x',\n",
       " 'y',\n",
       " 'z'}"
      ]
     },
     "execution_count": 21,
     "metadata": {},
     "output_type": "execute_result"
    }
   ],
   "source": [
    "alphabet"
   ]
  },
  {
   "cell_type": "code",
   "execution_count": 24,
   "id": "615acdb7-ef20-407b-bf1b-891110dea900",
   "metadata": {},
   "outputs": [
    {
     "data": {
      "text/plain": [
       "{'A',\n",
       " 'B',\n",
       " 'C',\n",
       " 'D',\n",
       " 'E',\n",
       " 'F',\n",
       " 'G',\n",
       " 'H',\n",
       " 'I',\n",
       " 'J',\n",
       " 'K',\n",
       " 'L',\n",
       " 'M',\n",
       " 'N',\n",
       " 'O',\n",
       " 'P',\n",
       " 'Q',\n",
       " 'R',\n",
       " 'S',\n",
       " 'U',\n",
       " 'V',\n",
       " 'W',\n",
       " 'X',\n",
       " 'Y',\n",
       " 'Z'}"
      ]
     },
     "execution_count": 24,
     "metadata": {},
     "output_type": "execute_result"
    }
   ],
   "source": [
    "text = \"The quick brown fox jumps over the lazy dog\"\n",
    "\n",
    "alphabet - set(text) "
   ]
  },
  {
   "cell_type": "code",
   "execution_count": 25,
   "id": "dbb73cda-3af1-4885-8f27-ee9a35745860",
   "metadata": {},
   "outputs": [
    {
     "data": {
      "text/plain": [
       "set()"
      ]
     },
     "execution_count": 25,
     "metadata": {},
     "output_type": "execute_result"
    }
   ],
   "source": [
    "set(string.ascii_letters.casefold()) - set(text.casefold())"
   ]
  },
  {
   "cell_type": "code",
   "execution_count": 1,
   "id": "4cb6f06f-d074-4a57-b502-6e199f361548",
   "metadata": {},
   "outputs": [],
   "source": [
    "#List comprehension"
   ]
  },
  {
   "cell_type": "code",
   "execution_count": 2,
   "id": "d53d6cd5-04e0-48d8-b2af-c638b097b5e9",
   "metadata": {},
   "outputs": [
    {
     "data": {
      "text/plain": [
       "['python', 'is', 'a', 'strong', 'language']"
      ]
     },
     "execution_count": 2,
     "metadata": {},
     "output_type": "execute_result"
    }
   ],
   "source": [
    "strings = \"python is a strong language\".split()\n",
    "\n",
    "strings "
   ]
  },
  {
   "cell_type": "code",
   "execution_count": 4,
   "id": "b9d68bdb-7714-4aec-883b-809001cb74c6",
   "metadata": {},
   "outputs": [
    {
     "data": {
      "text/plain": [
       "[0, 1, 1, 2]"
      ]
     },
     "execution_count": 4,
     "metadata": {},
     "output_type": "execute_result"
    }
   ],
   "source": [
    "vectors = [(0,0), (0,1), (1,0), (1,1)]\n",
    "\n",
    "magnitudes = [vec[0]**2 + vec[1]**2 for vec in vectors ]\n",
    "\n",
    "magnitudes"
   ]
  },
  {
   "cell_type": "code",
   "execution_count": 3,
   "id": "af38abf6-fc18-49b7-9298-101cd0bd7575",
   "metadata": {},
   "outputs": [
    {
     "name": "stdout",
     "output_type": "stream",
     "text": [
      "0.049427917001594324\n"
     ]
    }
   ],
   "source": [
    "from math import sqrt\n",
    "vectors = [(0,0), (0,1), (1,0), (1,1)]\n",
    "\n",
    "from time import perf_counter\n",
    "\n",
    "start = perf_counter()\n",
    "\n",
    "for i in range(100_000):\n",
    "    magnitudes = [sqrt(vec[0]**2 + vec[1]**2) for vec in vectors ]\n",
    "\n",
    "end = perf_counter()\n",
    "\n",
    "print(end - start)\n",
    "        "
   ]
  },
  {
   "cell_type": "code",
   "execution_count": 5,
   "id": "e3cefad7-11c8-4609-af14-10eaa30e12f2",
   "metadata": {},
   "outputs": [
    {
     "data": {
      "text/plain": [
       "['python', 'strong', 'language']"
      ]
     },
     "execution_count": 5,
     "metadata": {},
     "output_type": "execute_result"
    }
   ],
   "source": [
    "strings = \"python is a strong language\".split()\n",
    "\n",
    "filtered = [item for item in strings if len(item) >= 5]\n",
    "\n",
    "filtered"
   ]
  },
  {
   "cell_type": "code",
   "execution_count": 6,
   "id": "b9e39a47-af4e-499d-b9f4-181fef5d71ad",
   "metadata": {},
   "outputs": [
    {
     "data": {
      "text/plain": [
       "[[0, 0, 0], [0, 0, 0], [0, 0, 0]]"
      ]
     },
     "execution_count": 6,
     "metadata": {},
     "output_type": "execute_result"
    }
   ],
   "source": [
    "m = [[0]*3 ]*3\n",
    "\n",
    "m"
   ]
  },
  {
   "cell_type": "code",
   "execution_count": 7,
   "id": "a45b0885-3e64-48e0-8b4e-8e11b8440878",
   "metadata": {},
   "outputs": [
    {
     "data": {
      "text/plain": [
       "True"
      ]
     },
     "execution_count": 7,
     "metadata": {},
     "output_type": "execute_result"
    }
   ],
   "source": [
    "m[0] is m[1]"
   ]
  },
  {
   "cell_type": "code",
   "execution_count": 8,
   "id": "b6417531-39be-4ae7-a8ca-e68c0cd576b6",
   "metadata": {},
   "outputs": [
    {
     "data": {
      "text/plain": [
       "False"
      ]
     },
     "execution_count": 8,
     "metadata": {},
     "output_type": "execute_result"
    }
   ],
   "source": [
    "p = [[0,0,0] for _ in range(3)]\n",
    "\n",
    "p[0] is p[1]"
   ]
  },
  {
   "cell_type": "code",
   "execution_count": 12,
   "id": "6a73c1b1-89f8-449c-b08e-43701ec2213d",
   "metadata": {},
   "outputs": [
    {
     "data": {
      "text/plain": [
       "[[1, 0, 0], [0, 1, 0], [0, 0, 1]]"
      ]
     },
     "execution_count": 12,
     "metadata": {},
     "output_type": "execute_result"
    }
   ],
   "source": [
    "m = [\n",
    "    [1 if row == col else 0 for col in range(3) ] \n",
    "    for row in range(3)\n",
    "]\n",
    "\n",
    "m"
   ]
  },
  {
   "cell_type": "code",
   "execution_count": 1,
   "id": "f970187d-217e-43f4-b343-05bc9df69f32",
   "metadata": {},
   "outputs": [],
   "source": [
    "#Dictionary and set comprehensions"
   ]
  },
  {
   "cell_type": "code",
   "execution_count": 2,
   "id": "6017b34f-3991-4a60-8b3d-96718bff9bdd",
   "metadata": {},
   "outputs": [],
   "source": [
    "widget_sales = [\n",
    "    {'name': 'widget 1', 'sales': 10},\n",
    "    {'name': 'widget 2', 'sales': 5},\n",
    "    {'name': 'widget 3', 'sales': 0}\n",
    "]"
   ]
  },
  {
   "cell_type": "code",
   "execution_count": 6,
   "id": "e8d88c9d-e64c-4588-b434-b04c91519e08",
   "metadata": {},
   "outputs": [
    {
     "data": {
      "text/plain": [
       "{'widget 1': 10, 'widget 2': 5, 'widget 3': 0}"
      ]
     },
     "execution_count": 6,
     "metadata": {},
     "output_type": "execute_result"
    }
   ],
   "source": [
    "#traditionally\n",
    "\n",
    "sales_by_widget = {}\n",
    "\n",
    "for wi in widget_sales:\n",
    "    sales_by_widget[wi['name']] = wi['sales']\n",
    "\n",
    "sales_by_widget"
   ]
  },
  {
   "cell_type": "code",
   "execution_count": 7,
   "id": "2c8a2903-ea68-455f-a73e-4ab39164a4fb",
   "metadata": {},
   "outputs": [
    {
     "data": {
      "text/plain": [
       "{'widget 1': 10, 'widget 2': 5, 'widget 3': 0}"
      ]
     },
     "execution_count": 7,
     "metadata": {},
     "output_type": "execute_result"
    }
   ],
   "source": [
    "sales_by_widget = {wi['name']:wi['sales'] for wi in widget_sales}\n",
    "\n",
    "sales_by_widget"
   ]
  },
  {
   "cell_type": "code",
   "execution_count": 8,
   "id": "55b0b0bb-90f9-4773-9bf0-8ea3a1ead16f",
   "metadata": {},
   "outputs": [
    {
     "data": {
      "text/plain": [
       "{'widget 1': 10, 'widget 2': 5}"
      ]
     },
     "execution_count": 8,
     "metadata": {},
     "output_type": "execute_result"
    }
   ],
   "source": [
    "sales_by_widget = {wi['name']:wi['sales'] for wi in widget_sales if wi['sales'] > 0}\n",
    "\n",
    "sales_by_widget"
   ]
  },
  {
   "cell_type": "code",
   "execution_count": 9,
   "id": "52b730e9-39d6-4313-a0dc-71022ed37a0d",
   "metadata": {},
   "outputs": [],
   "source": [
    "data = ['a', 'a', 'a', 'b', 'b', 'c', 'c', 'c', 'd']"
   ]
  },
  {
   "cell_type": "code",
   "execution_count": 13,
   "id": "febb3d1c-b8ac-4485-9967-4da1e14aa01b",
   "metadata": {},
   "outputs": [
    {
     "data": {
      "text/plain": [
       "{'d': 1, 'a': 3, 'c': 3, 'b': 2}"
      ]
     },
     "execution_count": 13,
     "metadata": {},
     "output_type": "execute_result"
    }
   ],
   "source": [
    "freq = {}\n",
    "for d in set(data):\n",
    "    count = len([char for char in data if char == d])\n",
    "    freq[d] = count\n",
    "\n",
    "freq"
   ]
  },
  {
   "cell_type": "code",
   "execution_count": 3,
   "id": "51f66da9-6127-4ef3-877f-f826204e8de4",
   "metadata": {},
   "outputs": [],
   "source": [
    "#Exceptions"
   ]
  },
  {
   "cell_type": "code",
   "execution_count": 4,
   "id": "b5beeb90-5b35-440e-96ef-8f549be98b21",
   "metadata": {},
   "outputs": [
    {
     "ename": "ZeroDivisionError",
     "evalue": "division by zero",
     "output_type": "error",
     "traceback": [
      "\u001b[0;31m---------------------------------------------------------------------------\u001b[0m",
      "\u001b[0;31mZeroDivisionError\u001b[0m                         Traceback (most recent call last)",
      "Cell \u001b[0;32mIn[4], line 4\u001b[0m\n\u001b[1;32m      1\u001b[0m a \u001b[38;5;241m=\u001b[39m \u001b[38;5;241m1\u001b[39m\n\u001b[1;32m      2\u001b[0m b \u001b[38;5;241m=\u001b[39m \u001b[38;5;241m0\u001b[39m\n\u001b[0;32m----> 4\u001b[0m result \u001b[38;5;241m=\u001b[39m \u001b[43ma\u001b[49m\u001b[38;5;241;43m/\u001b[39;49m\u001b[43mb\u001b[49m\n\u001b[1;32m      6\u001b[0m \u001b[38;5;28mprint\u001b[39m(result)\n",
      "\u001b[0;31mZeroDivisionError\u001b[0m: division by zero"
     ]
    }
   ],
   "source": [
    "a = 1\n",
    "b = 0\n",
    "\n",
    "result = a/b\n",
    "\n",
    "print(result)"
   ]
  },
  {
   "cell_type": "code",
   "execution_count": 5,
   "id": "1ff4d0ed-2e67-4022-8d10-24c45e27b876",
   "metadata": {},
   "outputs": [],
   "source": [
    "ex = ValueError(\"Name must be atleast 5 characters long\")"
   ]
  },
  {
   "cell_type": "code",
   "execution_count": 6,
   "id": "32699331-5cbf-4f4e-b133-c20ec2b55370",
   "metadata": {},
   "outputs": [
    {
     "data": {
      "text/plain": [
       "ValueError"
      ]
     },
     "execution_count": 6,
     "metadata": {},
     "output_type": "execute_result"
    }
   ],
   "source": [
    "type(ex)"
   ]
  },
  {
   "cell_type": "code",
   "execution_count": 7,
   "id": "80db5003-9b42-4b06-ae42-1cbb52c1cc19",
   "metadata": {},
   "outputs": [
    {
     "data": {
      "text/plain": [
       "\"ValueError('Name must be atleast 5 characters long')\""
      ]
     },
     "execution_count": 7,
     "metadata": {},
     "output_type": "execute_result"
    }
   ],
   "source": [
    "repr(ex)"
   ]
  },
  {
   "cell_type": "code",
   "execution_count": 8,
   "id": "69454a04-c30a-4710-bc09-431e045b912e",
   "metadata": {},
   "outputs": [
    {
     "name": "stdout",
     "output_type": "stream",
     "text": [
      "Name must be atleast 5 characters long\n"
     ]
    }
   ],
   "source": [
    "print(ex)"
   ]
  },
  {
   "cell_type": "code",
   "execution_count": 9,
   "id": "92c185a1-f3ce-4e56-8a78-502c603197d8",
   "metadata": {},
   "outputs": [
    {
     "ename": "ValueError",
     "evalue": "Name must be atleast 5 characters long",
     "output_type": "error",
     "traceback": [
      "\u001b[0;31m---------------------------------------------------------------------------\u001b[0m",
      "\u001b[0;31mValueError\u001b[0m                                Traceback (most recent call last)",
      "Cell \u001b[0;32mIn[9], line 1\u001b[0m\n\u001b[0;32m----> 1\u001b[0m \u001b[38;5;28;01mraise\u001b[39;00m ex\n",
      "\u001b[0;31mValueError\u001b[0m: Name must be atleast 5 characters long"
     ]
    }
   ],
   "source": [
    "raise ex"
   ]
  },
  {
   "cell_type": "code",
   "execution_count": 12,
   "id": "110c86ea-d1fe-4696-81aa-9e8c34594cb5",
   "metadata": {},
   "outputs": [
    {
     "name": "stdin",
     "output_type": "stream",
     "text": [
      "Enter name:  Anj\n"
     ]
    },
    {
     "ename": "ValueError",
     "evalue": "Anj is not 5 characters or more",
     "output_type": "error",
     "traceback": [
      "\u001b[0;31m---------------------------------------------------------------------------\u001b[0m",
      "\u001b[0;31mValueError\u001b[0m                                Traceback (most recent call last)",
      "Cell \u001b[0;32mIn[12], line 4\u001b[0m\n\u001b[1;32m      1\u001b[0m name \u001b[38;5;241m=\u001b[39m \u001b[38;5;28minput\u001b[39m(\u001b[38;5;124m'\u001b[39m\u001b[38;5;124mEnter name: \u001b[39m\u001b[38;5;124m'\u001b[39m)\n\u001b[1;32m      3\u001b[0m \u001b[38;5;28;01mif\u001b[39;00m \u001b[38;5;28mlen\u001b[39m(name) \u001b[38;5;241m<\u001b[39m \u001b[38;5;241m5\u001b[39m:\n\u001b[0;32m----> 4\u001b[0m     \u001b[38;5;28;01mraise\u001b[39;00m \u001b[38;5;167;01mValueError\u001b[39;00m(\u001b[38;5;124mf\u001b[39m\u001b[38;5;124m'\u001b[39m\u001b[38;5;132;01m{\u001b[39;00mname\u001b[38;5;132;01m}\u001b[39;00m\u001b[38;5;124m is not 5 characters or more\u001b[39m\u001b[38;5;124m'\u001b[39m)\n\u001b[1;32m      5\u001b[0m \u001b[38;5;28;01melse\u001b[39;00m:\n\u001b[1;32m      6\u001b[0m     \u001b[38;5;28mprint\u001b[39m(\u001b[38;5;124mf\u001b[39m\u001b[38;5;124m'\u001b[39m\u001b[38;5;124mHello, \u001b[39m\u001b[38;5;132;01m{\u001b[39;00mname\u001b[38;5;132;01m}\u001b[39;00m\u001b[38;5;124m'\u001b[39m)\n",
      "\u001b[0;31mValueError\u001b[0m: Anj is not 5 characters or more"
     ]
    }
   ],
   "source": [
    "name = input('Enter name: ')\n",
    "\n",
    "if len(name) < 5:\n",
    "    raise ValueError(f'{name} is not 5 characters or more')\n",
    "else:\n",
    "    print(f'Hello, {name}')"
   ]
  },
  {
   "cell_type": "code",
   "execution_count": 14,
   "id": "b881721c-7819-4d11-8e92-9314fed51363",
   "metadata": {},
   "outputs": [
    {
     "data": {
      "text/plain": [
       "True"
      ]
     },
     "execution_count": 14,
     "metadata": {},
     "output_type": "execute_result"
    }
   ],
   "source": [
    "issubclass(KeyError, LookupError)"
   ]
  },
  {
   "cell_type": "code",
   "execution_count": 15,
   "id": "09cb163e-e5f9-4727-bbe5-af7dfca72990",
   "metadata": {},
   "outputs": [
    {
     "data": {
      "text/plain": [
       "ValueError('Name must be atleast 5 characters long')"
      ]
     },
     "execution_count": 15,
     "metadata": {},
     "output_type": "execute_result"
    }
   ],
   "source": [
    "ex"
   ]
  },
  {
   "cell_type": "code",
   "execution_count": 6,
   "id": "2cd79409-4220-4817-b53c-7fc96119bae4",
   "metadata": {},
   "outputs": [
    {
     "name": "stdout",
     "output_type": "stream",
     "text": [
      "Uh oh zero division error occured division by zero\n",
      "0\n"
     ]
    }
   ],
   "source": [
    "try:\n",
    "    result = 1/0\n",
    "except ZeroDivisionError as ex:\n",
    "    print(f\"Uh oh zero division error occured {ex}\")\n",
    "    result = 0\n",
    "\n",
    "print(result)\n"
   ]
  },
  {
   "cell_type": "code",
   "execution_count": 1,
   "id": "66a2ca29-5704-42f6-94c8-4bd0abe24b37",
   "metadata": {},
   "outputs": [],
   "source": [
    "# Exception handling "
   ]
  },
  {
   "cell_type": "code",
   "execution_count": 2,
   "id": "5781550b-3b4d-4b31-86ca-45fcb3d0d40a",
   "metadata": {},
   "outputs": [],
   "source": [
    "# Make your code very specific and less broad "
   ]
  },
  {
   "cell_type": "code",
   "execution_count": 4,
   "id": "5a52d4e2-8c3b-44cb-9917-8d4f798a4260",
   "metadata": {},
   "outputs": [
    {
     "name": "stdout",
     "output_type": "stream",
     "text": [
      "5\n",
      "4\n",
      "3\n",
      "2\n",
      "1\n",
      "all done\n"
     ]
    }
   ],
   "source": [
    "l = [1,2,3,4,5]\n",
    "\n",
    "while len(l) > 0:\n",
    "    print(l.pop())\n",
    "\n",
    "print('all done')"
   ]
  },
  {
   "cell_type": "code",
   "execution_count": 6,
   "id": "7567da8f-fa48-473e-98b0-2ddb918fad58",
   "metadata": {},
   "outputs": [
    {
     "name": "stdout",
     "output_type": "stream",
     "text": [
      "5\n",
      "4\n",
      "3\n",
      "2\n",
      "1\n",
      "All elements have been popped\n",
      "all done\n"
     ]
    }
   ],
   "source": [
    "l = [1,2,3,4,5]\n",
    "\n",
    "try:\n",
    "    while True:\n",
    "        print(l.pop())\n",
    "except IndexError: \n",
    "    # Index error means list is now empty and this was expected behaviour\n",
    "    print('All elements have been popped')\n",
    "    \n",
    "print('all done')"
   ]
  },
  {
   "cell_type": "code",
   "execution_count": 9,
   "id": "f6d72a5a-c62a-4b56-8f7b-554fa5a0b7b0",
   "metadata": {},
   "outputs": [
    {
     "name": "stdout",
     "output_type": "stream",
     "text": [
      "5\n",
      "4\n",
      "3\n",
      "2\n",
      "1\n",
      "Something unexpected happened\n",
      "all done\n"
     ]
    }
   ],
   "source": [
    "l = [1,2,3,4,5]\n",
    "\n",
    "try:\n",
    "    while True:\n",
    "        print(l.pop())\n",
    "except Exception: \n",
    "    # What exactly happened? index error? lookup error? \n",
    "    print('Something unexpected happened')\n",
    "    \n",
    "print('all done')"
   ]
  },
  {
   "cell_type": "code",
   "execution_count": 10,
   "id": "6e549656-bc05-458b-bd24-7083c4c6cf43",
   "metadata": {},
   "outputs": [
    {
     "name": "stdout",
     "output_type": "stream",
     "text": [
      "Something unexpected happened\n",
      "all done\n"
     ]
    }
   ],
   "source": [
    "l = (1,2,3,4,5)\n",
    "\n",
    "try:\n",
    "    while True:\n",
    "        print(l.pop())\n",
    "except Exception: \n",
    "    # this is why we need to make exceptions specific \n",
    "    print('Something unexpected happened')\n",
    "    \n",
    "print('all done')"
   ]
  },
  {
   "cell_type": "code",
   "execution_count": 11,
   "id": "b6513c1b-76a6-44cb-b15b-8e9dc6de56ba",
   "metadata": {},
   "outputs": [
    {
     "data": {
      "text/plain": [
       "(1, 2, 3, 4, 5)"
      ]
     },
     "execution_count": 11,
     "metadata": {},
     "output_type": "execute_result"
    }
   ],
   "source": [
    "l"
   ]
  },
  {
   "cell_type": "code",
   "execution_count": 22,
   "id": "653c80fd-a16a-40ae-9bb5-6342cb3e024e",
   "metadata": {},
   "outputs": [
    {
     "name": "stdout",
     "output_type": "stream",
     "text": [
      "0\n"
     ]
    }
   ],
   "source": [
    "data = []\n",
    "\n",
    "sum = 0\n",
    "average = 0\n",
    "try:\n",
    "    for element in data:\n",
    "        sum += element\n",
    "    average = sum/len(data)\n",
    "except TypeError:\n",
    "        sum += 0\n",
    "except ZeroDivisionError:\n",
    "        average = 0\n",
    "\n",
    "print(average)"
   ]
  },
  {
   "cell_type": "code",
   "execution_count": 24,
   "id": "9569eae8-7ecd-4ea5-abfc-39cd5945bc8a",
   "metadata": {},
   "outputs": [
    {
     "name": "stdout",
     "output_type": "stream",
     "text": [
      "logging error: division by zero\n"
     ]
    },
    {
     "ename": "ZeroDivisionError",
     "evalue": "division by zero",
     "output_type": "error",
     "traceback": [
      "\u001b[0;31m---------------------------------------------------------------------------\u001b[0m",
      "\u001b[0;31mZeroDivisionError\u001b[0m                         Traceback (most recent call last)",
      "Cell \u001b[0;32mIn[24], line 2\u001b[0m\n\u001b[1;32m      1\u001b[0m \u001b[38;5;28;01mtry\u001b[39;00m:\n\u001b[0;32m----> 2\u001b[0m     \u001b[38;5;241;43m1\u001b[39;49m\u001b[38;5;241;43m/\u001b[39;49m\u001b[38;5;241;43m0\u001b[39;49m\n\u001b[1;32m      3\u001b[0m \u001b[38;5;28;01mexcept\u001b[39;00m \u001b[38;5;167;01mException\u001b[39;00m \u001b[38;5;28;01mas\u001b[39;00m ex:\n\u001b[1;32m      4\u001b[0m     \u001b[38;5;28mprint\u001b[39m(\u001b[38;5;124mf\u001b[39m\u001b[38;5;124m'\u001b[39m\u001b[38;5;124mlogging error: \u001b[39m\u001b[38;5;132;01m{\u001b[39;00mex\u001b[38;5;132;01m}\u001b[39;00m\u001b[38;5;124m'\u001b[39m)\n",
      "\u001b[0;31mZeroDivisionError\u001b[0m: division by zero"
     ]
    }
   ],
   "source": [
    "try:\n",
    "    1/0\n",
    "except Exception as ex:\n",
    "    print(f'logging error: {ex}')\n",
    "    raise\n",
    "\n",
    "print('program is still running')"
   ]
  },
  {
   "cell_type": "code",
   "execution_count": 25,
   "id": "a1766163-5b0e-44ec-b33c-94a1d1c9a790",
   "metadata": {},
   "outputs": [
    {
     "name": "stdout",
     "output_type": "stream",
     "text": [
      "Value error received and handled it Oops, value error\n",
      "This is always executed\n",
      "Code resumes... \n"
     ]
    }
   ],
   "source": [
    "# Finally always executes\n",
    "\n",
    "try:\n",
    "    raise ValueError('Oops, value error')\n",
    "except ValueError as ex:\n",
    "    print(f'Value error received and handled it {ex}')\n",
    "finally:\n",
    "    print(\"This is always executed\")\n",
    "\n",
    "print(\"Code resumes... \")"
   ]
  },
  {
   "cell_type": "code",
   "execution_count": 26,
   "id": "2c300a34-b4dc-487e-8b29-268130f5ba3a",
   "metadata": {},
   "outputs": [
    {
     "name": "stdout",
     "output_type": "stream",
     "text": [
      "This is always executed\n"
     ]
    },
    {
     "ename": "ValueError",
     "evalue": "Oops, value error",
     "output_type": "error",
     "traceback": [
      "\u001b[0;31m---------------------------------------------------------------------------\u001b[0m",
      "\u001b[0;31mValueError\u001b[0m                                Traceback (most recent call last)",
      "Cell \u001b[0;32mIn[26], line 4\u001b[0m\n\u001b[1;32m      1\u001b[0m \u001b[38;5;66;03m# Finally always executes\u001b[39;00m\n\u001b[1;32m      3\u001b[0m \u001b[38;5;28;01mtry\u001b[39;00m:\n\u001b[0;32m----> 4\u001b[0m     \u001b[38;5;28;01mraise\u001b[39;00m \u001b[38;5;167;01mValueError\u001b[39;00m(\u001b[38;5;124m'\u001b[39m\u001b[38;5;124mOops, value error\u001b[39m\u001b[38;5;124m'\u001b[39m)\n\u001b[1;32m      5\u001b[0m \u001b[38;5;28;01mexcept\u001b[39;00m \u001b[38;5;167;01mTypeError\u001b[39;00m \u001b[38;5;28;01mas\u001b[39;00m ex:\n\u001b[1;32m      6\u001b[0m     \u001b[38;5;28mprint\u001b[39m(\u001b[38;5;124mf\u001b[39m\u001b[38;5;124m'\u001b[39m\u001b[38;5;124mValue error received and handled it \u001b[39m\u001b[38;5;132;01m{\u001b[39;00mex\u001b[38;5;132;01m}\u001b[39;00m\u001b[38;5;124m'\u001b[39m)\n",
      "\u001b[0;31mValueError\u001b[0m: Oops, value error"
     ]
    }
   ],
   "source": [
    "# Finally always executes\n",
    "\n",
    "try:\n",
    "    raise ValueError('Oops, value error')\n",
    "except TypeError as ex:\n",
    "    print(f'Value error received and handled it {ex}')\n",
    "finally:\n",
    "    print(\"This is always executed\")\n",
    "\n",
    "print(\"Code resumes... \")"
   ]
  },
  {
   "cell_type": "code",
   "execution_count": 27,
   "id": "337f73f3-9d55-412d-aed0-ce50b51f32bd",
   "metadata": {},
   "outputs": [
    {
     "name": "stdout",
     "output_type": "stream",
     "text": [
      "Value error received and handled it Oops, value error\n",
      "This is always executed\n"
     ]
    },
    {
     "ename": "TypeError",
     "evalue": "Changing the error type",
     "output_type": "error",
     "traceback": [
      "\u001b[0;31m---------------------------------------------------------------------------\u001b[0m",
      "\u001b[0;31mValueError\u001b[0m                                Traceback (most recent call last)",
      "Cell \u001b[0;32mIn[27], line 4\u001b[0m\n\u001b[1;32m      3\u001b[0m \u001b[38;5;28;01mtry\u001b[39;00m:\n\u001b[0;32m----> 4\u001b[0m     \u001b[38;5;28;01mraise\u001b[39;00m \u001b[38;5;167;01mValueError\u001b[39;00m(\u001b[38;5;124m'\u001b[39m\u001b[38;5;124mOops, value error\u001b[39m\u001b[38;5;124m'\u001b[39m)\n\u001b[1;32m      5\u001b[0m \u001b[38;5;28;01mexcept\u001b[39;00m \u001b[38;5;167;01mValueError\u001b[39;00m \u001b[38;5;28;01mas\u001b[39;00m ex:\n",
      "\u001b[0;31mValueError\u001b[0m: Oops, value error",
      "\nDuring handling of the above exception, another exception occurred:\n",
      "\u001b[0;31mTypeError\u001b[0m                                 Traceback (most recent call last)",
      "Cell \u001b[0;32mIn[27], line 7\u001b[0m\n\u001b[1;32m      5\u001b[0m \u001b[38;5;28;01mexcept\u001b[39;00m \u001b[38;5;167;01mValueError\u001b[39;00m \u001b[38;5;28;01mas\u001b[39;00m ex:\n\u001b[1;32m      6\u001b[0m     \u001b[38;5;28mprint\u001b[39m(\u001b[38;5;124mf\u001b[39m\u001b[38;5;124m'\u001b[39m\u001b[38;5;124mValue error received and handled it \u001b[39m\u001b[38;5;132;01m{\u001b[39;00mex\u001b[38;5;132;01m}\u001b[39;00m\u001b[38;5;124m'\u001b[39m)\n\u001b[0;32m----> 7\u001b[0m     \u001b[38;5;28;01mraise\u001b[39;00m \u001b[38;5;167;01mTypeError\u001b[39;00m(\u001b[38;5;124m\"\u001b[39m\u001b[38;5;124mChanging the error type\u001b[39m\u001b[38;5;124m\"\u001b[39m)\n\u001b[1;32m      8\u001b[0m \u001b[38;5;28;01mfinally\u001b[39;00m:\n\u001b[1;32m      9\u001b[0m     \u001b[38;5;28mprint\u001b[39m(\u001b[38;5;124m\"\u001b[39m\u001b[38;5;124mThis is always executed\u001b[39m\u001b[38;5;124m\"\u001b[39m)\n",
      "\u001b[0;31mTypeError\u001b[0m: Changing the error type"
     ]
    }
   ],
   "source": [
    "# Finally always executes\n",
    "\n",
    "try:\n",
    "    raise ValueError('Oops, value error')\n",
    "except ValueError as ex:\n",
    "    print(f'Value error received and handled it {ex}')\n",
    "    raise TypeError(\"Changing the error type\")\n",
    "finally:\n",
    "    print(\"This is always executed\")\n",
    "\n",
    "print(\"Code resumes... \")"
   ]
  },
  {
   "cell_type": "code",
   "execution_count": 28,
   "id": "50fd4d26-88d5-4312-98c3-83f0eaa7569f",
   "metadata": {},
   "outputs": [
    {
     "name": "stdout",
     "output_type": "stream",
     "text": [
      "hello\n",
      "I always execute\n"
     ]
    }
   ],
   "source": [
    "# When finally is there, except is not needed\n",
    "\n",
    "try:\n",
    "    print(\"hello\")\n",
    "finally:\n",
    "    print(\"I always execute\")"
   ]
  },
  {
   "cell_type": "code",
   "execution_count": 29,
   "id": "76a64094-fc3d-4eb5-b01a-974a8eb27dd8",
   "metadata": {},
   "outputs": [
    {
     "name": "stdout",
     "output_type": "stream",
     "text": [
      "I always execute\n"
     ]
    },
    {
     "ename": "ZeroDivisionError",
     "evalue": "division by zero",
     "output_type": "error",
     "traceback": [
      "\u001b[0;31m---------------------------------------------------------------------------\u001b[0m",
      "\u001b[0;31mZeroDivisionError\u001b[0m                         Traceback (most recent call last)",
      "Cell \u001b[0;32mIn[29], line 4\u001b[0m\n\u001b[1;32m      1\u001b[0m \u001b[38;5;66;03m# When finally is there, except is not needed\u001b[39;00m\n\u001b[1;32m      3\u001b[0m \u001b[38;5;28;01mtry\u001b[39;00m:\n\u001b[0;32m----> 4\u001b[0m     \u001b[38;5;241;43m1\u001b[39;49m\u001b[38;5;241;43m/\u001b[39;49m\u001b[38;5;241;43m0\u001b[39;49m\n\u001b[1;32m      5\u001b[0m \u001b[38;5;28;01mfinally\u001b[39;00m:\n\u001b[1;32m      6\u001b[0m     \u001b[38;5;28mprint\u001b[39m(\u001b[38;5;124m\"\u001b[39m\u001b[38;5;124mI always execute\u001b[39m\u001b[38;5;124m\"\u001b[39m)\n",
      "\u001b[0;31mZeroDivisionError\u001b[0m: division by zero"
     ]
    }
   ],
   "source": [
    "# When finally is there, except is not needed\n",
    "\n",
    "try:\n",
    "    1/0\n",
    "finally:\n",
    "    print(\"I always execute\")"
   ]
  },
  {
   "cell_type": "code",
   "execution_count": null,
   "id": "23eb6d08-07b3-4f4b-8579-7682ee1a9364",
   "metadata": {},
   "outputs": [],
   "source": []
  }
 ],
 "metadata": {
  "kernelspec": {
   "display_name": "Python 3 (ipykernel)",
   "language": "python",
   "name": "python3"
  },
  "language_info": {
   "codemirror_mode": {
    "name": "ipython",
    "version": 3
   },
   "file_extension": ".py",
   "mimetype": "text/x-python",
   "name": "python",
   "nbconvert_exporter": "python",
   "pygments_lexer": "ipython3",
   "version": "3.12.3"
  }
 },
 "nbformat": 4,
 "nbformat_minor": 5
}
