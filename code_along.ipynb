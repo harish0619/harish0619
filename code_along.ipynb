{
 "cells": [
  {
   "cell_type": "code",
   "execution_count": 1,
   "id": "453d970d-4c80-403f-8999-ed4cbd95692f",
   "metadata": {},
   "outputs": [
    {
     "data": {
      "text/plain": [
       "[0, 1, 2, 3, 4, 5, 6, 7, 8]"
      ]
     },
     "execution_count": 1,
     "metadata": {},
     "output_type": "execute_result"
    }
   ],
   "source": [
    "list(range(0,9))"
   ]
  },
  {
   "cell_type": "code",
   "execution_count": 2,
   "id": "44eedc82-3101-4f5a-91e5-14c4b704ab19",
   "metadata": {},
   "outputs": [
    {
     "data": {
      "text/plain": [
       "range(0, 5)"
      ]
     },
     "execution_count": 2,
     "metadata": {},
     "output_type": "execute_result"
    }
   ],
   "source": [
    "range(5)"
   ]
  },
  {
   "cell_type": "code",
   "execution_count": 3,
   "id": "725a9e24-63b0-4229-999b-b15e61151c86",
   "metadata": {},
   "outputs": [
    {
     "data": {
      "text/plain": [
       "range"
      ]
     },
     "execution_count": 3,
     "metadata": {},
     "output_type": "execute_result"
    }
   ],
   "source": [
    "type(range(0,5))"
   ]
  },
  {
   "cell_type": "code",
   "execution_count": 4,
   "id": "b5351046-c8b2-465d-b0c8-7fb248ad8178",
   "metadata": {},
   "outputs": [
    {
     "data": {
      "text/plain": [
       "3"
      ]
     },
     "execution_count": 4,
     "metadata": {},
     "output_type": "execute_result"
    }
   ],
   "source": [
    "len(range(4,7))"
   ]
  },
  {
   "cell_type": "code",
   "execution_count": 5,
   "id": "a31bc125-d526-4cf5-8076-f2d0a6dd989e",
   "metadata": {},
   "outputs": [
    {
     "data": {
      "text/plain": [
       "range(2, 10, 2)"
      ]
     },
     "execution_count": 5,
     "metadata": {},
     "output_type": "execute_result"
    }
   ],
   "source": [
    "range(2,10,2)"
   ]
  },
  {
   "cell_type": "code",
   "execution_count": 7,
   "id": "5e5094ac-e545-4df3-a259-3df2f5016289",
   "metadata": {},
   "outputs": [
    {
     "data": {
      "text/plain": [
       "[2, 4, 6, 8, 10]"
      ]
     },
     "execution_count": 7,
     "metadata": {},
     "output_type": "execute_result"
    }
   ],
   "source": [
    "list(range(2,11,2))"
   ]
  },
  {
   "cell_type": "code",
   "execution_count": 1,
   "id": "1aec03eb-6f5e-442a-9ce5-9315fff803d1",
   "metadata": {},
   "outputs": [],
   "source": [
    "# For loops - Runs over an iterable "
   ]
  },
  {
   "cell_type": "code",
   "execution_count": 5,
   "id": "4b3fa0a2-c29e-4b05-a359-79e0ba1c0f4d",
   "metadata": {},
   "outputs": [
    {
     "name": "stdout",
     "output_type": "stream",
     "text": [
      "aa\n",
      "bb\n",
      "done\n"
     ]
    }
   ],
   "source": [
    "for x in ['a', 'b']:\n",
    "    y = x + x\n",
    "    print(y)\n",
    "print(\"done\")"
   ]
  },
  {
   "cell_type": "code",
   "execution_count": 6,
   "id": "3354af2d-4310-49d5-a5a1-2704ca216c1f",
   "metadata": {},
   "outputs": [
    {
     "data": {
      "text/plain": [
       "<enumerate at 0x104696d90>"
      ]
     },
     "execution_count": 6,
     "metadata": {},
     "output_type": "execute_result"
    }
   ],
   "source": [
    "enumerate([1,2,3])"
   ]
  },
  {
   "cell_type": "code",
   "execution_count": 7,
   "id": "67018dfd-5090-48aa-b07a-3ffdf11628e5",
   "metadata": {},
   "outputs": [
    {
     "name": "stdout",
     "output_type": "stream",
     "text": [
      "<enumerate object at 0x1046ec360>\n"
     ]
    }
   ],
   "source": [
    "print(enumerate([1,2,3]))"
   ]
  },
  {
   "cell_type": "code",
   "execution_count": 8,
   "id": "7340d30b-d9ee-4180-bbe9-1879531a451c",
   "metadata": {},
   "outputs": [
    {
     "name": "stdout",
     "output_type": "stream",
     "text": [
      "(0, 1)\n",
      "(1, 2)\n",
      "(2, 3)\n"
     ]
    }
   ],
   "source": [
    "for val in enumerate([1,2,3]):\n",
    "    print(val)"
   ]
  },
  {
   "cell_type": "code",
   "execution_count": 10,
   "id": "8d4be04c-0bbb-450a-b683-1376548f1c44",
   "metadata": {},
   "outputs": [
    {
     "name": "stdout",
     "output_type": "stream",
     "text": [
      "[10, 20, 30, 0]\n"
     ]
    }
   ],
   "source": [
    "mylist = [10,20,30, -1]\n",
    "for index, data in enumerate(mylist):\n",
    "    if data < 0:\n",
    "        mylist[index] = 0\n",
    "\n",
    "print(mylist)\n",
    "        "
   ]
  },
  {
   "cell_type": "code",
   "execution_count": 13,
   "id": "2bc8592f-1a1b-4df4-84a7-fff3966d6e5e",
   "metadata": {},
   "outputs": [
    {
     "name": "stdout",
     "output_type": "stream",
     "text": [
      "2\n",
      "4\n",
      "6\n",
      "8\n",
      "10\n",
      "2\n",
      "4\n",
      "6\n",
      "8\n",
      "10\n",
      "2\n",
      "4\n",
      "6\n",
      "8\n",
      "10\n",
      "2\n",
      "4\n",
      "6\n",
      "8\n",
      "10\n",
      "2\n",
      "4\n",
      "6\n",
      "8\n",
      "10\n",
      "2\n",
      "4\n",
      "6\n",
      "8\n",
      "10\n",
      "2\n",
      "4\n",
      "6\n",
      "8\n",
      "10\n",
      "2\n",
      "4\n",
      "6\n",
      "8\n",
      "10\n",
      "2\n",
      "4\n",
      "6\n",
      "8\n",
      "10\n",
      "2\n",
      "4\n",
      "6\n",
      "8\n",
      "10\n",
      "2\n",
      "4\n",
      "6\n",
      "8\n",
      "10\n",
      "2\n",
      "4\n",
      "6\n",
      "8\n",
      "10\n",
      "2\n",
      "4\n",
      "6\n",
      "8\n",
      "10\n",
      "2\n",
      "4\n",
      "6\n",
      "8\n",
      "10\n",
      "2\n",
      "4\n",
      "6\n",
      "8\n",
      "10\n",
      "2\n",
      "4\n",
      "6\n",
      "8\n",
      "10\n",
      "2\n",
      "4\n",
      "6\n",
      "8\n",
      "10\n",
      "2\n",
      "4\n",
      "6\n",
      "8\n",
      "10\n",
      "2\n",
      "4\n",
      "6\n",
      "8\n",
      "10\n",
      "2\n",
      "4\n",
      "6\n",
      "8\n",
      "10\n",
      "2\n",
      "4\n",
      "6\n",
      "8\n",
      "10\n",
      "2\n",
      "4\n",
      "6\n",
      "8\n",
      "10\n",
      "2\n",
      "4\n",
      "6\n",
      "8\n",
      "10\n",
      "2\n",
      "4\n",
      "6\n",
      "8\n",
      "10\n",
      "2\n",
      "4\n",
      "6\n",
      "8\n",
      "10\n",
      "2\n",
      "4\n",
      "6\n",
      "8\n",
      "10\n",
      "2\n",
      "4\n",
      "6\n",
      "8\n",
      "10\n",
      "2\n",
      "4\n",
      "6\n",
      "8\n",
      "10\n",
      "2\n",
      "4\n",
      "6\n",
      "8\n",
      "10\n",
      "2\n",
      "4\n",
      "6\n",
      "8\n",
      "10\n",
      "2\n",
      "4\n",
      "6\n",
      "8\n",
      "10\n",
      "2\n",
      "4\n",
      "6\n",
      "8\n",
      "10\n",
      "2\n",
      "4\n",
      "6\n",
      "8\n",
      "10\n",
      "2\n",
      "4\n",
      "6\n",
      "8\n",
      "10\n",
      "2\n",
      "4\n",
      "6\n",
      "8\n",
      "10\n",
      "2\n",
      "4\n",
      "6\n",
      "8\n",
      "10\n",
      "2\n",
      "4\n",
      "6\n",
      "8\n",
      "10\n",
      "2\n",
      "4\n",
      "6\n",
      "8\n",
      "10\n",
      "2\n",
      "4\n",
      "6\n",
      "8\n",
      "10\n",
      "2\n",
      "4\n",
      "6\n",
      "8\n",
      "10\n",
      "2\n",
      "4\n",
      "6\n",
      "8\n",
      "10\n",
      "2\n",
      "4\n",
      "6\n",
      "8\n",
      "10\n",
      "2\n",
      "4\n",
      "6\n",
      "8\n",
      "10\n",
      "2\n",
      "4\n",
      "6\n",
      "8\n",
      "10\n",
      "2\n",
      "4\n",
      "6\n",
      "8\n",
      "10\n",
      "2\n",
      "4\n",
      "6\n",
      "8\n",
      "10\n",
      "2\n",
      "4\n",
      "6\n",
      "8\n",
      "10\n",
      "2\n",
      "4\n",
      "6\n",
      "8\n",
      "10\n",
      "2\n",
      "4\n",
      "6\n",
      "8\n",
      "10\n",
      "2\n",
      "4\n",
      "6\n",
      "8\n",
      "10\n"
     ]
    },
    {
     "data": {
      "text/plain": [
       "0.0033618750021560118"
      ]
     },
     "execution_count": 13,
     "metadata": {},
     "output_type": "execute_result"
    }
   ],
   "source": [
    "import timeit\n",
    "\n",
    "timeit.timeit('for i in range(2,11,2): print(i)', number=50)"
   ]
  },
  {
   "cell_type": "code",
   "execution_count": 14,
   "id": "89847ed0-764b-423d-9aba-19d7713da846",
   "metadata": {},
   "outputs": [
    {
     "name": "stdout",
     "output_type": "stream",
     "text": [
      "2\n",
      "4\n",
      "6\n",
      "8\n",
      "10\n",
      "2\n",
      "4\n",
      "6\n",
      "8\n",
      "10\n",
      "2\n",
      "4\n",
      "6\n",
      "8\n",
      "10\n",
      "2\n",
      "4\n",
      "6\n",
      "8\n",
      "10\n",
      "2\n",
      "4\n",
      "6\n",
      "8\n",
      "10\n",
      "2\n",
      "4\n",
      "6\n",
      "8\n",
      "10\n",
      "2\n",
      "4\n",
      "6\n",
      "8\n",
      "10\n",
      "2\n",
      "4\n",
      "6\n",
      "8\n",
      "10\n",
      "2\n",
      "4\n",
      "6\n",
      "8\n",
      "10\n",
      "2\n",
      "4\n",
      "6\n",
      "8\n",
      "10\n",
      "2\n",
      "4\n",
      "6\n",
      "8\n",
      "10\n",
      "2\n",
      "4\n",
      "6\n",
      "8\n",
      "10\n",
      "2\n",
      "4\n",
      "6\n",
      "8\n",
      "10\n",
      "2\n",
      "4\n",
      "6\n",
      "8\n",
      "10\n",
      "2\n",
      "4\n",
      "6\n",
      "8\n",
      "10\n",
      "2\n",
      "4\n",
      "6\n",
      "8\n",
      "10\n",
      "2\n",
      "4\n",
      "6\n",
      "8\n",
      "10\n",
      "2\n",
      "4\n",
      "6\n",
      "8\n",
      "10\n",
      "2\n",
      "4\n",
      "6\n",
      "8\n",
      "10\n",
      "2\n",
      "4\n",
      "6\n",
      "8\n",
      "10\n",
      "2\n",
      "4\n",
      "6\n",
      "8\n",
      "10\n",
      "2\n",
      "4\n",
      "6\n",
      "8\n",
      "10\n",
      "2\n",
      "4\n",
      "6\n",
      "8\n",
      "10\n",
      "2\n",
      "4\n",
      "6\n",
      "8\n",
      "10\n",
      "2\n",
      "4\n",
      "6\n",
      "8\n",
      "10\n",
      "2\n",
      "4\n",
      "6\n",
      "8\n",
      "10\n",
      "2\n",
      "4\n",
      "6\n",
      "8\n",
      "10\n",
      "2\n",
      "4\n",
      "6\n",
      "8\n",
      "10\n",
      "2\n",
      "4\n",
      "6\n",
      "8\n",
      "10\n",
      "2\n",
      "4\n",
      "6\n",
      "8\n",
      "10\n",
      "2\n",
      "4\n",
      "6\n",
      "8\n",
      "10\n",
      "2\n",
      "4\n",
      "6\n",
      "8\n",
      "10\n",
      "2\n",
      "4\n",
      "6\n",
      "8\n",
      "10\n",
      "2\n",
      "4\n",
      "6\n",
      "8\n",
      "10\n",
      "2\n",
      "4\n",
      "6\n",
      "8\n",
      "10\n",
      "2\n",
      "4\n",
      "6\n",
      "8\n",
      "10\n",
      "2\n",
      "4\n",
      "6\n",
      "8\n",
      "10\n",
      "2\n",
      "4\n",
      "6\n",
      "8\n",
      "10\n",
      "2\n",
      "4\n",
      "6\n",
      "8\n",
      "10\n",
      "2\n",
      "4\n",
      "6\n",
      "8\n",
      "10\n",
      "2\n",
      "4\n",
      "6\n",
      "8\n",
      "10\n",
      "2\n",
      "4\n",
      "6\n",
      "8\n",
      "10\n",
      "2\n",
      "4\n",
      "6\n",
      "8\n",
      "10\n",
      "2\n",
      "4\n",
      "6\n",
      "8\n",
      "10\n",
      "2\n",
      "4\n",
      "6\n",
      "8\n",
      "10\n",
      "2\n",
      "4\n",
      "6\n",
      "8\n",
      "10\n",
      "2\n",
      "4\n",
      "6\n",
      "8\n",
      "10\n",
      "2\n",
      "4\n",
      "6\n",
      "8\n",
      "10\n",
      "2\n",
      "4\n",
      "6\n",
      "8\n",
      "10\n",
      "2\n",
      "4\n",
      "6\n",
      "8\n",
      "10\n"
     ]
    },
    {
     "data": {
      "text/plain": [
       "0.0013216670049587265"
      ]
     },
     "execution_count": 14,
     "metadata": {},
     "output_type": "execute_result"
    }
   ],
   "source": [
    "import timeit\n",
    "\n",
    "timeit.timeit('for i in list(range(2,11,2)): print(i)', number=50)"
   ]
  },
  {
   "cell_type": "code",
   "execution_count": 23,
   "id": "fad3bfe5-a451-4c87-83bb-1e1ff7be1215",
   "metadata": {},
   "outputs": [
    {
     "name": "stdout",
     "output_type": "stream",
     "text": [
      "10.75\n"
     ]
    }
   ],
   "source": [
    "data = [10.5, 11.2, 9.8, None, 11.5, None]\n",
    "\n",
    "total = 0\n",
    "count = 0\n",
    "for value in data: \n",
    "    if value is not None:\n",
    "        total += value\n",
    "        count += 1\n",
    "\n",
    "average = total/count\n",
    "print(average)\n"
   ]
  },
  {
   "cell_type": "code",
   "execution_count": 32,
   "id": "32756c2d-c6d4-439b-b2be-80c08227dfa2",
   "metadata": {},
   "outputs": [
    {
     "data": {
      "text/plain": [
       "[10, 11, 9, 10.75, 11, 10.75]"
      ]
     },
     "execution_count": 32,
     "metadata": {},
     "output_type": "execute_result"
    }
   ],
   "source": [
    "for index, val in enumerate(data):\n",
    "    if val is None:\n",
    "        data[index] = average\n",
    "\n",
    "data"
   ]
  },
  {
   "cell_type": "code",
   "execution_count": 1,
   "id": "661be962-0c32-463c-8458-97809d853c53",
   "metadata": {},
   "outputs": [
    {
     "ename": "NameError",
     "evalue": "name 'data' is not defined",
     "output_type": "error",
     "traceback": [
      "\u001b[0;31m---------------------------------------------------------------------------\u001b[0m",
      "\u001b[0;31mNameError\u001b[0m                                 Traceback (most recent call last)",
      "Cell \u001b[0;32mIn[1], line 1\u001b[0m\n\u001b[0;32m----> 1\u001b[0m \u001b[43mdata\u001b[49m\n",
      "\u001b[0;31mNameError\u001b[0m: name 'data' is not defined"
     ]
    }
   ],
   "source": [
    "data"
   ]
  },
  {
   "cell_type": "code",
   "execution_count": 2,
   "id": "d6bf5f0a-305d-4a6f-a758-be47f7daad63",
   "metadata": {},
   "outputs": [
    {
     "name": "stdout",
     "output_type": "stream",
     "text": [
      "Price = 100 - Waiting for price to come down\n",
      "Price = 99 - Waiting for price to come down\n",
      "Price = 98 - Waiting for price to come down\n",
      "Price = 97 - Waiting for price to come down\n",
      "Price = 96 - Waiting for price to come down\n",
      "Price = 95 - Waiting for price to come down\n",
      "Price = 94 - Waiting for price to come down\n",
      "Price = 93 - Waiting for price to come down\n",
      "Price = 92 - Waiting for price to come down\n",
      "Price = 91 - Waiting for price to come down\n",
      "buying at 90\n"
     ]
    }
   ],
   "source": [
    "price = 100 \n",
    "\n",
    "while price > 90:\n",
    "    print(f\"Price = {price} - Waiting for price to come down\")\n",
    "    price -= 1\n",
    "\n",
    "print(f\"buying at {price}\")"
   ]
  },
  {
   "cell_type": "code",
   "execution_count": 1,
   "id": "ca679eb0-1b25-4d40-8efb-69e9a906c51c",
   "metadata": {},
   "outputs": [],
   "source": [
    "# Continue, break and else! "
   ]
  },
  {
   "cell_type": "code",
   "execution_count": 4,
   "id": "e10484d4-f921-492a-8784-6c1a889d163e",
   "metadata": {},
   "outputs": [
    {
     "name": "stdout",
     "output_type": "stream",
     "text": [
      "1\n",
      "2\n",
      "3\n",
      "4\n",
      "5\n",
      "done\n"
     ]
    }
   ],
   "source": [
    "# Continue\n",
    "\n",
    "mylist = [1,2,3,100,4,5]\n",
    "\n",
    "for i in mylist:\n",
    "    if i > 50:\n",
    "        continue\n",
    "    print(i)\n",
    "print('done')\n",
    "        "
   ]
  },
  {
   "cell_type": "code",
   "execution_count": 5,
   "id": "529ea6f2-60b2-4b73-a8f4-2ec7ae029cab",
   "metadata": {},
   "outputs": [
    {
     "name": "stdout",
     "output_type": "stream",
     "text": [
      "1\n",
      "2\n",
      "3\n",
      "done\n"
     ]
    }
   ],
   "source": [
    "# Break\n",
    "for i in mylist:\n",
    "    if i > 50:\n",
    "        break\n",
    "    print(i)\n",
    "print('done')\n"
   ]
  },
  {
   "cell_type": "code",
   "execution_count": 7,
   "id": "fe86aa79-2449-4bee-8c75-e1e57ab96266",
   "metadata": {},
   "outputs": [
    {
     "name": "stdout",
     "output_type": "stream",
     "text": [
      "Not found\n"
     ]
    }
   ],
   "source": [
    "found = False\n",
    "for char in 'Python':\n",
    "    if char == 'k':\n",
    "        found = True\n",
    "        print('Found')\n",
    "        break\n",
    "\n",
    "if not found:\n",
    "    print('Not found')\n",
    "    "
   ]
  },
  {
   "cell_type": "code",
   "execution_count": 10,
   "id": "33bd06a3-e035-4be9-90ac-ff2985b1a629",
   "metadata": {},
   "outputs": [
    {
     "name": "stdout",
     "output_type": "stream",
     "text": [
      "Not found\n"
     ]
    }
   ],
   "source": [
    "# Above code with for and else clause.. 'Else if not break'\n",
    "\n",
    "found = False\n",
    "for char in 'Python':\n",
    "    if char == 'p':\n",
    "        found = True\n",
    "        print('Found')\n",
    "        break\n",
    "else:\n",
    "    print('Not found')"
   ]
  },
  {
   "cell_type": "code",
   "execution_count": 14,
   "id": "5df519dc-4df2-419f-84d9-37355226695b",
   "metadata": {},
   "outputs": [
    {
     "name": "stdout",
     "output_type": "stream",
     "text": [
      "adding numbers 1 + 1 = 2\n",
      "1 + 2 is odd, skipping... \n",
      "adding numbers 1 + 3 = 4\n",
      "1 + 4 is odd, skipping... \n",
      "----------\n",
      "2 + 1 is odd, skipping... \n",
      "adding numbers 2 + 2 = 4\n",
      "2 + 3 is odd, skipping... \n",
      "adding numbers 2 + 4 = 6\n",
      "----------\n",
      "adding numbers 3 + 1 = 4\n",
      "3 + 2 is odd, skipping... \n",
      "adding numbers 3 + 3 = 6\n",
      "3 + 4 is odd, skipping... \n",
      "----------\n",
      "4 + 1 is odd, skipping... \n",
      "adding numbers 4 + 2 = 6\n",
      "4 + 3 is odd, skipping... \n",
      "adding numbers 4 + 4 = 8\n",
      "----------\n",
      "done\n"
     ]
    }
   ],
   "source": [
    "for i in range(1,5):\n",
    "    for j in range(1,5):\n",
    "        if ((i+j) % 2 ) == 1:\n",
    "            print(f\"{i} + {j} is odd, skipping... \")\n",
    "            continue\n",
    "        print(f\"adding numbers {i} + {j} = {i + j}\")\n",
    "    print('-' * 10)\n",
    "print('done')"
   ]
  },
  {
   "cell_type": "code",
   "execution_count": 15,
   "id": "3b52f28c-213d-4c08-9ca3-ed1fb38c2407",
   "metadata": {},
   "outputs": [
    {
     "name": "stdout",
     "output_type": "stream",
     "text": [
      "1\n",
      "2\n",
      "3\n",
      "4\n",
      "5\n"
     ]
    }
   ],
   "source": [
    "i = 0\n",
    "\n",
    "while True:\n",
    "    i += 1\n",
    "    if i > 5:\n",
    "        break\n",
    "    print(i)"
   ]
  },
  {
   "cell_type": "code",
   "execution_count": 1,
   "id": "a9f4e365-31a6-444e-b32b-9e4136a5bc16",
   "metadata": {},
   "outputs": [
    {
     "data": {
      "text/plain": [
       "{'a': 1, 'b': 2, 'c': 3}"
      ]
     },
     "execution_count": 1,
     "metadata": {},
     "output_type": "execute_result"
    }
   ],
   "source": [
    "# Associative arrays - Dictionaries/hash maps\n",
    "\n",
    "d = {'a': 1, 'b': 2, 'c': 3}\n",
    "d"
   ]
  },
  {
   "cell_type": "code",
   "execution_count": 3,
   "id": "d4f95c24-8542-4737-af91-a9b7093ce0ac",
   "metadata": {},
   "outputs": [
    {
     "data": {
      "text/plain": [
       "'Harish'"
      ]
     },
     "execution_count": 3,
     "metadata": {},
     "output_type": "execute_result"
    }
   ],
   "source": [
    "person = {\n",
    "    'first_name' : 'Harish',\n",
    "    'last_name': 'Dhandapani',\n",
    "    'year_born': 1990\n",
    "}\n",
    "\n",
    "person['first_name']\n",
    "\n"
   ]
  },
  {
   "cell_type": "code",
   "execution_count": 4,
   "id": "a8ef1e14-bbcc-4f48-88fb-5dd64b411b72",
   "metadata": {},
   "outputs": [],
   "source": [
    "person['last_name'] = 'D'"
   ]
  },
  {
   "cell_type": "code",
   "execution_count": 5,
   "id": "7d664996-8ba8-4c4c-9bae-b1693addb167",
   "metadata": {},
   "outputs": [
    {
     "data": {
      "text/plain": [
       "{'first_name': 'Harish', 'last_name': 'D', 'year_born': 1990}"
      ]
     },
     "execution_count": 5,
     "metadata": {},
     "output_type": "execute_result"
    }
   ],
   "source": [
    "person"
   ]
  },
  {
   "cell_type": "code",
   "execution_count": 6,
   "id": "d12f1027-7437-4506-b30b-df179f3d0ca7",
   "metadata": {},
   "outputs": [],
   "source": [
    "person['month_born'] = 'June'"
   ]
  },
  {
   "cell_type": "code",
   "execution_count": 7,
   "id": "5452c605-8b12-45ac-a850-fe9373034707",
   "metadata": {},
   "outputs": [
    {
     "data": {
      "text/plain": [
       "{'first_name': 'Harish',\n",
       " 'last_name': 'D',\n",
       " 'year_born': 1990,\n",
       " 'month_born': 'June'}"
      ]
     },
     "execution_count": 7,
     "metadata": {},
     "output_type": "execute_result"
    }
   ],
   "source": [
    "person"
   ]
  },
  {
   "cell_type": "code",
   "execution_count": 8,
   "id": "bc1755fd-8151-497a-b722-31e1ab29f577",
   "metadata": {},
   "outputs": [],
   "source": [
    "d = {3.14: 'a', 2: 'b'}"
   ]
  },
  {
   "cell_type": "code",
   "execution_count": 9,
   "id": "b96fba38-6cd6-4b3b-98d6-890c53fc4468",
   "metadata": {},
   "outputs": [
    {
     "data": {
      "text/plain": [
       "{3.14: 'a', 2: 'b'}"
      ]
     },
     "execution_count": 9,
     "metadata": {},
     "output_type": "execute_result"
    }
   ],
   "source": [
    "d"
   ]
  },
  {
   "cell_type": "code",
   "execution_count": 10,
   "id": "9b0f52fe-7290-41e2-a757-ea4f6b1e967b",
   "metadata": {},
   "outputs": [
    {
     "ename": "TypeError",
     "evalue": "unhashable type: 'list'",
     "output_type": "error",
     "traceback": [
      "\u001b[0;31m---------------------------------------------------------------------------\u001b[0m",
      "\u001b[0;31mTypeError\u001b[0m                                 Traceback (most recent call last)",
      "Cell \u001b[0;32mIn[10], line 3\u001b[0m\n\u001b[1;32m      1\u001b[0m \u001b[38;5;66;03m#Can't use a list object as key\u001b[39;00m\n\u001b[0;32m----> 3\u001b[0m d \u001b[38;5;241m=\u001b[39m {[\u001b[38;5;241m1\u001b[39m,\u001b[38;5;241m2\u001b[39m]: \u001b[38;5;124m'\u001b[39m\u001b[38;5;124ma\u001b[39m\u001b[38;5;124m'\u001b[39m}\n",
      "\u001b[0;31mTypeError\u001b[0m: unhashable type: 'list'"
     ]
    }
   ],
   "source": [
    "#Can't use a list object as key\n",
    "\n",
    "d = {[1,2]: 'a'}"
   ]
  },
  {
   "cell_type": "code",
   "execution_count": 13,
   "id": "4bb34793-ea73-481c-954b-53ac45860141",
   "metadata": {},
   "outputs": [
    {
     "data": {
      "text/plain": [
       "322818021289917443"
      ]
     },
     "execution_count": 13,
     "metadata": {},
     "output_type": "execute_result"
    }
   ],
   "source": [
    "# To check if a object is hashable or not\n",
    "\n",
    "hash(100)\n",
    "hash(3.14)"
   ]
  },
  {
   "cell_type": "code",
   "execution_count": 12,
   "id": "f7007de5-b668-47ef-b4b9-0d79a363ef40",
   "metadata": {},
   "outputs": [
    {
     "ename": "TypeError",
     "evalue": "unhashable type: 'list'",
     "output_type": "error",
     "traceback": [
      "\u001b[0;31m---------------------------------------------------------------------------\u001b[0m",
      "\u001b[0;31mTypeError\u001b[0m                                 Traceback (most recent call last)",
      "Cell \u001b[0;32mIn[12], line 1\u001b[0m\n\u001b[0;32m----> 1\u001b[0m \u001b[38;5;28;43mhash\u001b[39;49m\u001b[43m(\u001b[49m\u001b[43m[\u001b[49m\u001b[38;5;241;43m1\u001b[39;49m\u001b[43m,\u001b[49m\u001b[38;5;241;43m2\u001b[39;49m\u001b[43m]\u001b[49m\u001b[43m)\u001b[49m\n",
      "\u001b[0;31mTypeError\u001b[0m: unhashable type: 'list'"
     ]
    }
   ],
   "source": [
    "hash([1,2])"
   ]
  },
  {
   "cell_type": "code",
   "execution_count": 14,
   "id": "89916dc6-775d-4fed-8f09-62eaf12a554c",
   "metadata": {},
   "outputs": [
    {
     "data": {
      "text/plain": [
       "590899387183067792"
      ]
     },
     "execution_count": 14,
     "metadata": {},
     "output_type": "execute_result"
    }
   ],
   "source": [
    "t = (1,2,3,4)\n",
    "\n",
    "hash(t)"
   ]
  },
  {
   "cell_type": "code",
   "execution_count": 15,
   "id": "beb1510b-9605-4fbb-be8a-d1b1b101f8b6",
   "metadata": {},
   "outputs": [
    {
     "ename": "TypeError",
     "evalue": "unhashable type: 'list'",
     "output_type": "error",
     "traceback": [
      "\u001b[0;31m---------------------------------------------------------------------------\u001b[0m",
      "\u001b[0;31mTypeError\u001b[0m                                 Traceback (most recent call last)",
      "Cell \u001b[0;32mIn[15], line 3\u001b[0m\n\u001b[1;32m      1\u001b[0m t \u001b[38;5;241m=\u001b[39m ([\u001b[38;5;241m1\u001b[39m,\u001b[38;5;241m2\u001b[39m], \u001b[38;5;241m3\u001b[39m,\u001b[38;5;241m4\u001b[39m)\n\u001b[0;32m----> 3\u001b[0m \u001b[38;5;28;43mhash\u001b[39;49m\u001b[43m(\u001b[49m\u001b[43mt\u001b[49m\u001b[43m)\u001b[49m\n",
      "\u001b[0;31mTypeError\u001b[0m: unhashable type: 'list'"
     ]
    }
   ],
   "source": [
    "t = ([1,2], 3,4)\n",
    "\n",
    "hash(t)"
   ]
  },
  {
   "cell_type": "code",
   "execution_count": 16,
   "id": "543a11ae-f4d6-46a8-be0c-9c5e1648f749",
   "metadata": {},
   "outputs": [
    {
     "data": {
      "text/plain": [
       "4631057152"
      ]
     },
     "execution_count": 16,
     "metadata": {},
     "output_type": "execute_result"
    }
   ],
   "source": [
    "d = {'a': 1, 'b': 2, 'c': 3}\n",
    "\n",
    "id(d)"
   ]
  },
  {
   "cell_type": "code",
   "execution_count": 17,
   "id": "34c5c26b-a9cc-4893-a16d-1e10b495dc72",
   "metadata": {},
   "outputs": [],
   "source": [
    "del d['b']"
   ]
  },
  {
   "cell_type": "code",
   "execution_count": 18,
   "id": "27fe590f-f026-4db0-a6e9-4f2a7aa2a40b",
   "metadata": {},
   "outputs": [
    {
     "data": {
      "text/plain": [
       "{'a': 1, 'c': 3}"
      ]
     },
     "execution_count": 18,
     "metadata": {},
     "output_type": "execute_result"
    }
   ],
   "source": [
    "d"
   ]
  },
  {
   "cell_type": "code",
   "execution_count": 19,
   "id": "8e5cf92a-3a55-4a43-a3be-b694d0f2d0cc",
   "metadata": {},
   "outputs": [
    {
     "data": {
      "text/plain": [
       "4631057152"
      ]
     },
     "execution_count": 19,
     "metadata": {},
     "output_type": "execute_result"
    }
   ],
   "source": [
    "id(d)"
   ]
  },
  {
   "cell_type": "code",
   "execution_count": 20,
   "id": "c29d47f3-a906-4faa-a450-29ccd3f21bdc",
   "metadata": {},
   "outputs": [
    {
     "ename": "KeyError",
     "evalue": "'x'",
     "output_type": "error",
     "traceback": [
      "\u001b[0;31m---------------------------------------------------------------------------\u001b[0m",
      "\u001b[0;31mKeyError\u001b[0m                                  Traceback (most recent call last)",
      "Cell \u001b[0;32mIn[20], line 1\u001b[0m\n\u001b[0;32m----> 1\u001b[0m \u001b[38;5;28;01mdel\u001b[39;00m \u001b[43md\u001b[49m\u001b[43m[\u001b[49m\u001b[38;5;124;43m'\u001b[39;49m\u001b[38;5;124;43mx\u001b[39;49m\u001b[38;5;124;43m'\u001b[39;49m\u001b[43m]\u001b[49m\n",
      "\u001b[0;31mKeyError\u001b[0m: 'x'"
     ]
    }
   ],
   "source": [
    "del d['x']"
   ]
  },
  {
   "cell_type": "code",
   "execution_count": 21,
   "id": "6c570e6b-1039-405d-b5f4-d65f26f988a0",
   "metadata": {},
   "outputs": [],
   "source": [
    "# when we declare d = {'a': 1, 'b': 2, 'c': 3}, python stores this whole thing as a dictionary! "
   ]
  },
  {
   "cell_type": "code",
   "execution_count": 22,
   "id": "4104b352-49f6-42cf-8c5d-b6ccfc16ef5e",
   "metadata": {},
   "outputs": [
    {
     "data": {
      "text/plain": [
       "{'__name__': '__main__',\n",
       " '__doc__': 'Automatically created module for IPython interactive environment',\n",
       " '__package__': None,\n",
       " '__loader__': None,\n",
       " '__spec__': None,\n",
       " '__builtin__': <module 'builtins' (built-in)>,\n",
       " '__builtins__': <module 'builtins' (built-in)>,\n",
       " '_ih': ['',\n",
       "  \"# Associative arrays - Dictionaries/hash maps\\n\\nd = {'a': 1, 'b': 2, 'c': 3}\\nd\",\n",
       "  \"person = {\\n    'firstname' : 'Harish',\\n    'lastname': 'Dhandapani',\\n    'year': 1990\\n}\\n\\nperson['firstname']\",\n",
       "  \"person = {\\n    'first_name' : 'Harish',\\n    'last_name': 'Dhandapani',\\n    'year_born': 1990\\n}\\n\\nperson['first_name']\",\n",
       "  \"person['last_name'] = 'D'\",\n",
       "  'person',\n",
       "  \"person['month_born'] = 'June'\",\n",
       "  'person',\n",
       "  \"d = {3.14: 'a', 2: 'b'}\",\n",
       "  'd',\n",
       "  \"#Can't use a list object as key\\n\\nd = {[1,2]: 'a'}\",\n",
       "  '# To check if a object is hashable or not\\n\\nhash(100)',\n",
       "  'hash([1,2])',\n",
       "  '# To check if a object is hashable or not\\n\\nhash(100)\\nhash(3.14)',\n",
       "  't = (1,2,3,4)\\n\\nhash(t)',\n",
       "  't = ([1,2], 3,4)\\n\\nhash(t)',\n",
       "  \"d = {'a': 1, 'b': 2, 'c': 3}\\n\\nid(d)\",\n",
       "  \"del d['b']\",\n",
       "  'd',\n",
       "  'id(d)',\n",
       "  \"del d['x']\",\n",
       "  \"# when we declare d = {'a': 1, 'b': 2, 'c': 3}, python stores this whole thing as a dictionary! \",\n",
       "  'globals()'],\n",
       " '_oh': {1: {'a': 1, 'b': 2, 'c': 3},\n",
       "  2: 'Harish',\n",
       "  3: 'Harish',\n",
       "  5: {'first_name': 'Harish',\n",
       "   'last_name': 'D',\n",
       "   'year_born': 1990,\n",
       "   'month_born': 'June'},\n",
       "  7: {'first_name': 'Harish',\n",
       "   'last_name': 'D',\n",
       "   'year_born': 1990,\n",
       "   'month_born': 'June'},\n",
       "  9: {3.14: 'a', 2: 'b'},\n",
       "  11: 100,\n",
       "  13: 322818021289917443,\n",
       "  14: 590899387183067792,\n",
       "  16: 4631057152,\n",
       "  18: {'a': 1, 'c': 3},\n",
       "  19: 4631057152},\n",
       " '_dh': [PosixPath('/Users/harishd/Documents/code/python')],\n",
       " 'In': ['',\n",
       "  \"# Associative arrays - Dictionaries/hash maps\\n\\nd = {'a': 1, 'b': 2, 'c': 3}\\nd\",\n",
       "  \"person = {\\n    'firstname' : 'Harish',\\n    'lastname': 'Dhandapani',\\n    'year': 1990\\n}\\n\\nperson['firstname']\",\n",
       "  \"person = {\\n    'first_name' : 'Harish',\\n    'last_name': 'Dhandapani',\\n    'year_born': 1990\\n}\\n\\nperson['first_name']\",\n",
       "  \"person['last_name'] = 'D'\",\n",
       "  'person',\n",
       "  \"person['month_born'] = 'June'\",\n",
       "  'person',\n",
       "  \"d = {3.14: 'a', 2: 'b'}\",\n",
       "  'd',\n",
       "  \"#Can't use a list object as key\\n\\nd = {[1,2]: 'a'}\",\n",
       "  '# To check if a object is hashable or not\\n\\nhash(100)',\n",
       "  'hash([1,2])',\n",
       "  '# To check if a object is hashable or not\\n\\nhash(100)\\nhash(3.14)',\n",
       "  't = (1,2,3,4)\\n\\nhash(t)',\n",
       "  't = ([1,2], 3,4)\\n\\nhash(t)',\n",
       "  \"d = {'a': 1, 'b': 2, 'c': 3}\\n\\nid(d)\",\n",
       "  \"del d['b']\",\n",
       "  'd',\n",
       "  'id(d)',\n",
       "  \"del d['x']\",\n",
       "  \"# when we declare d = {'a': 1, 'b': 2, 'c': 3}, python stores this whole thing as a dictionary! \",\n",
       "  'globals()'],\n",
       " 'Out': {1: {'a': 1, 'b': 2, 'c': 3},\n",
       "  2: 'Harish',\n",
       "  3: 'Harish',\n",
       "  5: {'first_name': 'Harish',\n",
       "   'last_name': 'D',\n",
       "   'year_born': 1990,\n",
       "   'month_born': 'June'},\n",
       "  7: {'first_name': 'Harish',\n",
       "   'last_name': 'D',\n",
       "   'year_born': 1990,\n",
       "   'month_born': 'June'},\n",
       "  9: {3.14: 'a', 2: 'b'},\n",
       "  11: 100,\n",
       "  13: 322818021289917443,\n",
       "  14: 590899387183067792,\n",
       "  16: 4631057152,\n",
       "  18: {'a': 1, 'c': 3},\n",
       "  19: 4631057152},\n",
       " 'get_ipython': <bound method InteractiveShell.get_ipython of <ipykernel.zmqshell.ZMQInteractiveShell object at 0x11312a600>>,\n",
       " 'exit': <IPython.core.autocall.ZMQExitAutocall at 0x1130fa210>,\n",
       " 'quit': <IPython.core.autocall.ZMQExitAutocall at 0x1130fa210>,\n",
       " 'open': <function _io.open(file, mode='r', buffering=-1, encoding=None, errors=None, newline=None, closefd=True, opener=None)>,\n",
       " '_': 4631057152,\n",
       " '__': {'a': 1, 'c': 3},\n",
       " '___': 4631057152,\n",
       " '__session__': '/Users/harishd/Documents/code/python/code_along.ipynb',\n",
       " '_i': \"# when we declare d = {'a': 1, 'b': 2, 'c': 3}, python stores this whole thing as a dictionary! \",\n",
       " '_ii': \"del d['x']\",\n",
       " '_iii': 'id(d)',\n",
       " '_i1': \"# Associative arrays - Dictionaries/hash maps\\n\\nd = {'a': 1, 'b': 2, 'c': 3}\\nd\",\n",
       " 'd': {'a': 1, 'c': 3},\n",
       " '_1': {'a': 1, 'b': 2, 'c': 3},\n",
       " '_i2': \"person = {\\n    'firstname' : 'Harish',\\n    'lastname': 'Dhandapani',\\n    'year': 1990\\n}\\n\\nperson['firstname']\",\n",
       " 'person': {'first_name': 'Harish',\n",
       "  'last_name': 'D',\n",
       "  'year_born': 1990,\n",
       "  'month_born': 'June'},\n",
       " '_2': 'Harish',\n",
       " '_i3': \"person = {\\n    'first_name' : 'Harish',\\n    'last_name': 'Dhandapani',\\n    'year_born': 1990\\n}\\n\\nperson['first_name']\",\n",
       " '_3': 'Harish',\n",
       " '_i4': \"person['last_name'] = 'D'\",\n",
       " '_i5': 'person',\n",
       " '_5': {'first_name': 'Harish',\n",
       "  'last_name': 'D',\n",
       "  'year_born': 1990,\n",
       "  'month_born': 'June'},\n",
       " '_i6': \"person['month_born'] = 'June'\",\n",
       " '_i7': 'person',\n",
       " '_7': {'first_name': 'Harish',\n",
       "  'last_name': 'D',\n",
       "  'year_born': 1990,\n",
       "  'month_born': 'June'},\n",
       " '_i8': \"d = {3.14: 'a', 2: 'b'}\",\n",
       " '_i9': 'd',\n",
       " '_9': {3.14: 'a', 2: 'b'},\n",
       " '_i10': \"#Can't use a list object as key\\n\\nd = {[1,2]: 'a'}\",\n",
       " '_i11': '# To check if a object is hashable or not\\n\\nhash(100)',\n",
       " '_11': 100,\n",
       " '_i12': 'hash([1,2])',\n",
       " '_i13': '# To check if a object is hashable or not\\n\\nhash(100)\\nhash(3.14)',\n",
       " '_13': 322818021289917443,\n",
       " '_i14': 't = (1,2,3,4)\\n\\nhash(t)',\n",
       " 't': ([1, 2], 3, 4),\n",
       " '_14': 590899387183067792,\n",
       " '_i15': 't = ([1,2], 3,4)\\n\\nhash(t)',\n",
       " '_i16': \"d = {'a': 1, 'b': 2, 'c': 3}\\n\\nid(d)\",\n",
       " '_16': 4631057152,\n",
       " '_i17': \"del d['b']\",\n",
       " '_i18': 'd',\n",
       " '_18': {'a': 1, 'c': 3},\n",
       " '_i19': 'id(d)',\n",
       " '_19': 4631057152,\n",
       " '_i20': \"del d['x']\",\n",
       " '_i21': \"# when we declare d = {'a': 1, 'b': 2, 'c': 3}, python stores this whole thing as a dictionary! \",\n",
       " '_i22': 'globals()'}"
      ]
     },
     "execution_count": 22,
     "metadata": {},
     "output_type": "execute_result"
    }
   ],
   "source": [
    "globals()"
   ]
  },
  {
   "cell_type": "code",
   "execution_count": 23,
   "id": "6f57f282-6afe-4a5a-806b-858618b0630a",
   "metadata": {},
   "outputs": [
    {
     "data": {
      "text/plain": [
       "dict"
      ]
     },
     "execution_count": 23,
     "metadata": {},
     "output_type": "execute_result"
    }
   ],
   "source": [
    "type(globals())"
   ]
  },
  {
   "cell_type": "code",
   "execution_count": 24,
   "id": "ed90afb0-ef1c-4a3d-9d8b-91a56b5fb4d8",
   "metadata": {},
   "outputs": [
    {
     "data": {
      "text/plain": [
       "{'first_name': 'Harish',\n",
       " 'last_name': 'D',\n",
       " 'year_born': 1990,\n",
       " 'month_born': 'June'}"
      ]
     },
     "execution_count": 24,
     "metadata": {},
     "output_type": "execute_result"
    }
   ],
   "source": [
    "globals()['person']"
   ]
  },
  {
   "cell_type": "code",
   "execution_count": 1,
   "id": "1cdd041f-0248-44a2-b92e-b4c158084bc4",
   "metadata": {},
   "outputs": [
    {
     "name": "stdout",
     "output_type": "stream",
     "text": [
      "key 1\n",
      "key 2\n",
      "3.14\n"
     ]
    }
   ],
   "source": [
    "# Iterating Dictionaries\n",
    "\n",
    "d = {\n",
    "    'key 1': 1,\n",
    "    'key 2': 2,\n",
    "    3.14: 'pi'\n",
    "}\n",
    "\n",
    "for k in d:\n",
    "    print(k)"
   ]
  },
  {
   "cell_type": "code",
   "execution_count": 2,
   "id": "bc7de426-18e2-4ab3-b5ef-ae96957a229f",
   "metadata": {},
   "outputs": [
    {
     "name": "stdout",
     "output_type": "stream",
     "text": [
      "d[key 1]=1\n",
      "d[key 2]=2\n",
      "d[3.14]=pi\n"
     ]
    }
   ],
   "source": [
    "for k in d:\n",
    "    print(f'd[{k}]={d[k]}')"
   ]
  },
  {
   "cell_type": "code",
   "execution_count": 3,
   "id": "46e14696-e77e-484b-9b19-f8e12c9ee1b6",
   "metadata": {},
   "outputs": [
    {
     "name": "stdout",
     "output_type": "stream",
     "text": [
      "1\n",
      "2\n",
      "pi\n"
     ]
    }
   ],
   "source": [
    "for v in d.values():\n",
    "    print(v)"
   ]
  },
  {
   "cell_type": "code",
   "execution_count": 4,
   "id": "70230a99-fd17-4246-a3f7-a8bedabe60a0",
   "metadata": {},
   "outputs": [
    {
     "name": "stdout",
     "output_type": "stream",
     "text": [
      "('key 1', 1)\n",
      "('key 2', 2)\n",
      "(3.14, 'pi')\n"
     ]
    }
   ],
   "source": [
    "for t in d.items():\n",
    "    print(t)"
   ]
  },
  {
   "cell_type": "code",
   "execution_count": 5,
   "id": "d0e7d3f4-88cc-4ba1-b04a-f250e5411125",
   "metadata": {},
   "outputs": [
    {
     "name": "stdout",
     "output_type": "stream",
     "text": [
      "key 1 1\n",
      "key 2 2\n",
      "3.14 pi\n"
     ]
    }
   ],
   "source": [
    "for key, value in d.items():\n",
    "    print(key, value)"
   ]
  },
  {
   "cell_type": "code",
   "execution_count": 6,
   "id": "b0362da1-fbc2-4673-acc1-f4cca0fdd76f",
   "metadata": {},
   "outputs": [],
   "source": [
    "d['x'] = 100\n"
   ]
  },
  {
   "cell_type": "code",
   "execution_count": 7,
   "id": "b9355148-71fb-4176-91aa-8e079279045a",
   "metadata": {},
   "outputs": [
    {
     "data": {
      "text/plain": [
       "{'key 1': 1, 'key 2': 2, 3.14: 'pi', 'x': 100}"
      ]
     },
     "execution_count": 7,
     "metadata": {},
     "output_type": "execute_result"
    }
   ],
   "source": [
    "d"
   ]
  },
  {
   "cell_type": "code",
   "execution_count": 8,
   "id": "cf161fe4-5a51-4b2a-84f3-8cebcef7c845",
   "metadata": {},
   "outputs": [
    {
     "name": "stdout",
     "output_type": "stream",
     "text": [
      "key 1\n",
      "key 2\n",
      "3.14\n",
      "x\n"
     ]
    }
   ],
   "source": [
    "# Note the order.. Iteration order is same as insertion order\n",
    "for key in d.keys():\n",
    "    print(key)"
   ]
  },
  {
   "cell_type": "code",
   "execution_count": 9,
   "id": "101f8cdb-722f-45f4-87cf-6796f13ca7ae",
   "metadata": {},
   "outputs": [],
   "source": [
    "del d['key 1']"
   ]
  },
  {
   "cell_type": "code",
   "execution_count": 10,
   "id": "2c08334a-a03c-40ee-8858-8c3e9c006282",
   "metadata": {},
   "outputs": [
    {
     "data": {
      "text/plain": [
       "{'key 2': 2, 3.14: 'pi', 'x': 100}"
      ]
     },
     "execution_count": 10,
     "metadata": {},
     "output_type": "execute_result"
    }
   ],
   "source": [
    "d"
   ]
  },
  {
   "cell_type": "code",
   "execution_count": 11,
   "id": "bfdc7db2-d8a0-43de-8d08-68c6c55ff70e",
   "metadata": {},
   "outputs": [],
   "source": [
    "d['key 1'] = 100"
   ]
  },
  {
   "cell_type": "code",
   "execution_count": 13,
   "id": "b874dc64-ad46-4959-897b-22703f254414",
   "metadata": {},
   "outputs": [
    {
     "data": {
      "text/plain": [
       "{'key 2': 2, 3.14: 'pi', 'x': 100, 'key 1': 100}"
      ]
     },
     "execution_count": 13,
     "metadata": {},
     "output_type": "execute_result"
    }
   ],
   "source": [
    "# Note the order now for key 1\n",
    "d"
   ]
  },
  {
   "cell_type": "code",
   "execution_count": null,
   "id": "8e7d8bb3-6d45-4e5d-a8b7-29ea52663c58",
   "metadata": {},
   "outputs": [],
   "source": []
  }
 ],
 "metadata": {
  "kernelspec": {
   "display_name": "Python 3 (ipykernel)",
   "language": "python",
   "name": "python3"
  },
  "language_info": {
   "codemirror_mode": {
    "name": "ipython",
    "version": 3
   },
   "file_extension": ".py",
   "mimetype": "text/x-python",
   "name": "python",
   "nbconvert_exporter": "python",
   "pygments_lexer": "ipython3",
   "version": "3.12.3"
  }
 },
 "nbformat": 4,
 "nbformat_minor": 5
}
