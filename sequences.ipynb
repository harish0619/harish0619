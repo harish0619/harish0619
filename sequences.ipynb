{
 "cells": [
  {
   "cell_type": "code",
   "execution_count": 3,
   "id": "7da04e54-e544-4364-9e68-4db3cd35bd6d",
   "metadata": {},
   "outputs": [],
   "source": [
    "s = 'FfEeDdCcBbAa'"
   ]
  },
  {
   "cell_type": "code",
   "execution_count": 19,
   "id": "2101d38c-184e-4380-a3f0-7a5b4f8c512a",
   "metadata": {},
   "outputs": [
    {
     "name": "stdout",
     "output_type": "stream",
     "text": [
      "ABCDEF abcdef\n"
     ]
    }
   ],
   "source": [
    "reversed_s = s[::-1]\n",
    "upper = reversed_s[::2]\n",
    "lower = reversed_s[1::2]\n",
    "print(lower, upper)"
   ]
  },
  {
   "cell_type": "code",
   "execution_count": 22,
   "id": "b0f2ea0b-fca6-4995-80f1-9a65a7130ea6",
   "metadata": {},
   "outputs": [
    {
     "data": {
      "text/plain": [
       "(0, 2, 0, 4, 0, 6, 0, 8, 0, 10, 0, 12, 0, 14, 0, 16, 0)"
      ]
     },
     "execution_count": 22,
     "metadata": {},
     "output_type": "execute_result"
    }
   ],
   "source": [
    "t1 = 1, 2, 3, 4, 5, 6\n",
    "t2 = 7, 8, 9, 10\n",
    "t3 = 11, 12, 13, 14, 15, 16, 17\n",
    "\n",
    "l1 = list(t1)\n",
    "l2 = list(t2)\n",
    "l3 = list(t3)\n",
    "\n",
    "l1[::2] = [0] * len(l1[::2])\n",
    "l2[::2] = [0] * len(l2[::2])\n",
    "l3[::2] = [0] * len(l3[::2])\n",
    "\n",
    "result = tuple(l1 + l2 + l3)\n",
    "result"
   ]
  },
  {
   "cell_type": "code",
   "execution_count": 23,
   "id": "2a248cf6-b463-4666-a4c7-f86a49996d75",
   "metadata": {},
   "outputs": [
    {
     "data": {
      "text/plain": [
       "[[1, 0, 0], [0, 1, 0], [0, 0, 1]]"
      ]
     },
     "execution_count": 23,
     "metadata": {},
     "output_type": "execute_result"
    }
   ],
   "source": [
    "m = [\n",
    "    [0, 0, 0],\n",
    "    [0, 0, 0],\n",
    "    [0, 0, 0]\n",
    "]\n",
    "\n",
    "m[0][0] = 1\n",
    "m[1][1] = 1\n",
    "m[2][2] = 1\n",
    "\n",
    "m"
   ]
  },
  {
   "cell_type": "code",
   "execution_count": 26,
   "id": "946cebfe-7f8f-4872-8c3a-81dc6b9d06eb",
   "metadata": {},
   "outputs": [
    {
     "data": {
      "text/plain": [
       "[[1, 0, 0], [0, 1, 0], [0, 0, 1]]"
      ]
     },
     "execution_count": 26,
     "metadata": {},
     "output_type": "execute_result"
    }
   ],
   "source": [
    "from copy import deepcopy \n",
    "\n",
    "m = [\n",
    "    [0, 0, 0],\n",
    "    [0, 0, 0],\n",
    "    [0, 0, 0]\n",
    "]\n",
    "\n",
    "m1 = deepcopy(m)\n",
    "\n",
    "m1[0][0] = 1\n",
    "m1[1][1] = 1\n",
    "m1[2][2] = 1\n",
    "\n",
    "m1 "
   ]
  },
  {
   "cell_type": "code",
   "execution_count": 28,
   "id": "8738cc34-6c29-4172-a5cd-5405aca4062c",
   "metadata": {},
   "outputs": [
    {
     "name": "stdout",
     "output_type": "stream",
     "text": [
      "100 USD = 83.0 EUR\n",
      "100 USD = 127.0 CAD\n",
      "100 CAD = 65.0 EUR\n"
     ]
    }
   ],
   "source": [
    "data = [\n",
    "    (100, 'USD', 'EUR', 0.83),\n",
    "    (100, 'USD', 'CAD', 1.27),\n",
    "    (100, 'CAD', 'EUR', 0.65)\n",
    "]\n",
    "\n",
    "row = 0 \n",
    "\n",
    "amount, currency, target_currency, exchange_rate = data[row]\n",
    "converted = amount * exchange_rate\n",
    "print(amount, currency, '=', converted, target_currency, sep=' ')\n",
    "\n",
    "row = 1\n",
    "\n",
    "amount, currency, target_currency, exchange_rate = data[row]\n",
    "converted = amount * exchange_rate\n",
    "print(amount, currency, '=', converted, target_currency, sep=' ')\n",
    "\n",
    "row = 2 \n",
    "\n",
    "amount, currency, target_currency, exchange_rate = data[row]\n",
    "converted = amount * exchange_rate\n",
    "print(amount, currency, '=', converted, target_currency, sep=' ')"
   ]
  },
  {
   "cell_type": "code",
   "execution_count": null,
   "id": "c69929c1-b6bb-47ef-903a-6ab2754974f0",
   "metadata": {},
   "outputs": [],
   "source": []
  }
 ],
 "metadata": {
  "kernelspec": {
   "display_name": "Python 3 (ipykernel)",
   "language": "python",
   "name": "python3"
  },
  "language_info": {
   "codemirror_mode": {
    "name": "ipython",
    "version": 3
   },
   "file_extension": ".py",
   "mimetype": "text/x-python",
   "name": "python",
   "nbconvert_exporter": "python",
   "pygments_lexer": "ipython3",
   "version": "3.12.3"
  }
 },
 "nbformat": 4,
 "nbformat_minor": 5
}
