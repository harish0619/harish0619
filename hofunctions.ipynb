{
 "cells": [
  {
   "cell_type": "code",
   "execution_count": 6,
   "id": "899bca89-5959-4be5-ab14-69c9e2faa944",
   "metadata": {},
   "outputs": [
    {
     "data": {
      "text/plain": [
       "(-0.9999996994977832, 0.9999996994977832)"
      ]
     },
     "execution_count": 6,
     "metadata": {},
     "output_type": "execute_result"
    }
   ],
   "source": [
    "import math \n",
    "f3 = lambda x: math.sin(x)\n",
    "\n",
    "def find_extreme(f, start=-10, end=10, resolution=1_000, is_min=True):\n",
    "    delta = (end - start) / (resolution - 1)\n",
    "    data = (start + i * delta for i in range(resolution))\n",
    "    min_max = min if is_min else max\n",
    "    return min_max(map(f, data))\n",
    "\n",
    "find_extreme(f3, -10, 10), find_extreme(f3, -10, 10, is_min=False)"
   ]
  }
 ],
 "metadata": {
  "kernelspec": {
   "display_name": "Python 3 (ipykernel)",
   "language": "python",
   "name": "python3"
  },
  "language_info": {
   "codemirror_mode": {
    "name": "ipython",
    "version": 3
   },
   "file_extension": ".py",
   "mimetype": "text/x-python",
   "name": "python",
   "nbconvert_exporter": "python",
   "pygments_lexer": "ipython3",
   "version": "3.12.3"
  }
 },
 "nbformat": 4,
 "nbformat_minor": 5
}
