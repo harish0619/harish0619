{
 "cells": [
  {
   "cell_type": "code",
   "execution_count": 2,
   "id": "899bca89-5959-4be5-ab14-69c9e2faa944",
   "metadata": {},
   "outputs": [
    {
     "data": {
      "text/plain": [
       "(-0.9999996994977832, 0.9999996994977832)"
      ]
     },
     "execution_count": 2,
     "metadata": {},
     "output_type": "execute_result"
    }
   ],
   "source": [
    "import math \n",
    "f3 = lambda x: math.sin(x)\n",
    "\n",
    "def find_extreme(f, start=-10, end=10, resolution=1_000, is_min=True):\n",
    "    delta = (end - start) / (resolution - 1)\n",
    "    data = (start + i * delta for i in range(resolution))\n",
    "    min_max = min if is_min else max\n",
    "    return min_max(map(f, data))\n",
    "\n",
    "find_extreme(f3, -10, 10), find_extreme(f3, -10, 10, is_min=False)"
   ]
  },
  {
   "cell_type": "code",
   "execution_count": 21,
   "id": "39380d2d-ae30-41f3-9765-0f34bc7721cc",
   "metadata": {},
   "outputs": [],
   "source": [
    "def partial(func, *args):\n",
    "    def inner(*aargs):\n",
    "        result = func(*aargs, *args)\n",
    "        return result\n",
    "    return inner\n"
   ]
  },
  {
   "cell_type": "code",
   "execution_count": 13,
   "id": "9f9b935f-834e-49bd-b7bf-b7d46837d010",
   "metadata": {},
   "outputs": [
    {
     "data": {
      "text/plain": [
       "8"
      ]
     },
     "execution_count": 13,
     "metadata": {},
     "output_type": "execute_result"
    }
   ],
   "source": [
    "def pow(x, n):\n",
    "    return x**n\n",
    "\n",
    "\n",
    "power = partial(pow, 2)\n",
    "\n",
    "power(3)"
   ]
  },
  {
   "cell_type": "code",
   "execution_count": 14,
   "id": "3bb59135-6665-4c4d-9c71-68fe302e5ea9",
   "metadata": {},
   "outputs": [
    {
     "data": {
      "text/plain": [
       "64"
      ]
     },
     "execution_count": 14,
     "metadata": {},
     "output_type": "execute_result"
    }
   ],
   "source": [
    "power = partial(pow, 4)\n",
    "\n",
    "power(3)"
   ]
  },
  {
   "cell_type": "code",
   "execution_count": 22,
   "id": "f4f19d1d-21f6-4617-919c-426014c3e78b",
   "metadata": {},
   "outputs": [],
   "source": [
    "def dist(pt1, pt2):\n",
    "    return math.sqrt(sum(coord_1 - coord_2 for coord_1, coord_2 in zip(pt1, pt2)))"
   ]
  },
  {
   "cell_type": "code",
   "execution_count": 23,
   "id": "f9df569e-682d-4597-bb82-d4e4428ece6a",
   "metadata": {},
   "outputs": [],
   "source": [
    "squares = partial(pow, 2)\n",
    "dist_from_origin = partial(dist, (0, 0))\n",
    "gcd_13 = partial(math.gcd, 13)\n",
    "log_2 = partial(math.log, 2)\n",
    "log_10 = partial(math.log, 10)\n",
    "log_16 = partial(math.log, 16)"
   ]
  },
  {
   "cell_type": "code",
   "execution_count": 25,
   "id": "e4bb4fba-e788-42b8-bc75-eefb4e656cd0",
   "metadata": {},
   "outputs": [
    {
     "data": {
      "text/plain": [
       "(9, 16)"
      ]
     },
     "execution_count": 25,
     "metadata": {},
     "output_type": "execute_result"
    }
   ],
   "source": [
    "squares(3), squares(4)"
   ]
  },
  {
   "cell_type": "code",
   "execution_count": 26,
   "id": "e6ce929e-fb85-4e18-a958-e656535c2716",
   "metadata": {},
   "outputs": [
    {
     "data": {
      "text/plain": [
       "1.4142135623730951"
      ]
     },
     "execution_count": 26,
     "metadata": {},
     "output_type": "execute_result"
    }
   ],
   "source": [
    "dist_from_origin((1, 1))"
   ]
  },
  {
   "cell_type": "code",
   "execution_count": 27,
   "id": "91c83a56-42a4-486b-9eeb-fe0b7aca12a6",
   "metadata": {},
   "outputs": [
    {
     "data": {
      "text/plain": [
       "(3.3219280948873626, 1.0, 0.8304820237218407)"
      ]
     },
     "execution_count": 27,
     "metadata": {},
     "output_type": "execute_result"
    }
   ],
   "source": [
    "log_2(10), log_10(10), log_16(10)"
   ]
  },
  {
   "cell_type": "code",
   "execution_count": 28,
   "id": "2d1b3e8c-e2c7-42d8-b89e-8ca2b16a445e",
   "metadata": {},
   "outputs": [],
   "source": [
    "def norm(x, y):\n",
    "    return math.sqrt(x**2 + y**2)\n",
    "\n",
    "def find_index_min(seq):\n",
    "    min_ = min(seq)\n",
    "    return seq.index(min_)"
   ]
  },
  {
   "cell_type": "code",
   "execution_count": 30,
   "id": "0b072dc4-edcf-40ae-bae1-642ca6afdabd",
   "metadata": {},
   "outputs": [
    {
     "name": "stderr",
     "output_type": "stream",
     "text": [
      "2024-06-30 10:15:52,753 DEBUG: called=norm\n"
     ]
    },
    {
     "data": {
      "text/plain": [
       "2.23606797749979"
      ]
     },
     "execution_count": 30,
     "metadata": {},
     "output_type": "execute_result"
    }
   ],
   "source": [
    "import logging\n",
    "logging.basicConfig(\n",
    "    format='%(asctime)s %(levelname)s: %(message)s',\n",
    "    level=logging.DEBUG\n",
    ")\n",
    "\n",
    "logger = logging.getLogger('Custom Log')\n",
    "\n",
    "def logged(f):\n",
    "    def inner(*args):\n",
    "        logger.debug(f'called={f.__name__}')\n",
    "        result = f(*args)\n",
    "        return result\n",
    "    return inner\n",
    "\n",
    "norm_logged = logged(norm)\n",
    "\n",
    "norm_logged(1,2)"
   ]
  },
  {
   "cell_type": "code",
   "execution_count": 31,
   "id": "b5879119-3695-436d-8258-990feb2c68ba",
   "metadata": {},
   "outputs": [
    {
     "name": "stderr",
     "output_type": "stream",
     "text": [
      "2024-06-30 10:16:28,872 DEBUG: called=find_index_min\n"
     ]
    },
    {
     "data": {
      "text/plain": [
       "3"
      ]
     },
     "execution_count": 31,
     "metadata": {},
     "output_type": "execute_result"
    }
   ],
   "source": [
    "find_index_min_logged = logged(find_index_min)\n",
    "\n",
    "find_index_min_logged([5,2,7,1,9])"
   ]
  },
  {
   "cell_type": "code",
   "execution_count": null,
   "id": "7efcb7d5-1182-4495-918b-8f5b3e12b72f",
   "metadata": {},
   "outputs": [],
   "source": []
  }
 ],
 "metadata": {
  "kernelspec": {
   "display_name": "Python 3 (ipykernel)",
   "language": "python",
   "name": "python3"
  },
  "language_info": {
   "codemirror_mode": {
    "name": "ipython",
    "version": 3
   },
   "file_extension": ".py",
   "mimetype": "text/x-python",
   "name": "python",
   "nbconvert_exporter": "python",
   "pygments_lexer": "ipython3",
   "version": "3.12.3"
  }
 },
 "nbformat": 4,
 "nbformat_minor": 5
}
