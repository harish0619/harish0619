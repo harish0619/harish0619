{
 "cells": [
  {
   "cell_type": "code",
   "execution_count": 1,
   "id": "85ea446f-d2e2-4a0b-992e-d1af1939e9e7",
   "metadata": {},
   "outputs": [],
   "source": [
    "s = 'Π, ύ, θ, ω, ν'"
   ]
  },
  {
   "cell_type": "code",
   "execution_count": 7,
   "id": "22e32bc4-c9fb-4c00-b76c-115b980dfd3f",
   "metadata": {},
   "outputs": [],
   "source": [
    "s1 = s.split(\",\")"
   ]
  },
  {
   "cell_type": "code",
   "execution_count": 8,
   "id": "7f9a0d43-f09a-43db-aad8-921dfb8013c1",
   "metadata": {},
   "outputs": [
    {
     "data": {
      "text/plain": [
       "['Π', ' ύ', ' θ', ' ω', ' ν']"
      ]
     },
     "execution_count": 8,
     "metadata": {},
     "output_type": "execute_result"
    }
   ],
   "source": [
    "s1"
   ]
  },
  {
   "cell_type": "code",
   "execution_count": 36,
   "id": "415a5080-1997-49c2-846d-ffc35a7cf9a1",
   "metadata": {},
   "outputs": [],
   "source": [
    "v1, v2, v3, v4, v5 = s1 \n",
    "sm1, sm2, sm3, sm4, sm5 =  s1 \n",
    "cap1, cap2, cap3, cap4, cap5 = s1"
   ]
  },
  {
   "cell_type": "code",
   "execution_count": 24,
   "id": "e73d1901-73df-4484-96c0-a9ece9341caa",
   "metadata": {},
   "outputs": [
    {
     "data": {
      "text/plain": [
       "('Π', ' ύ', ' θ', ' ω', ' ν')"
      ]
     },
     "execution_count": 24,
     "metadata": {},
     "output_type": "execute_result"
    }
   ],
   "source": [
    "v1, v2, v3, v4, v5"
   ]
  },
  {
   "cell_type": "code",
   "execution_count": 25,
   "id": "d8a3b80c-fe97-4043-8520-130cfee0c3c2",
   "metadata": {},
   "outputs": [
    {
     "data": {
      "text/plain": [
       "'0x3a0'"
      ]
     },
     "execution_count": 25,
     "metadata": {},
     "output_type": "execute_result"
    }
   ],
   "source": [
    "hex(ord(v1))"
   ]
  },
  {
   "cell_type": "code",
   "execution_count": 26,
   "id": "2076dffb-8ab7-4596-97f2-229a864a0204",
   "metadata": {},
   "outputs": [],
   "source": [
    "v1, v2, v3, v4, v5 = hex(ord(v1.strip())), hex(ord(v2.strip())), hex(ord(v3.strip())), hex(ord(v4.strip())), hex(ord(v5.strip()))"
   ]
  },
  {
   "cell_type": "code",
   "execution_count": 27,
   "id": "472eabe0-26ab-4902-bd51-2c9ec85fa75d",
   "metadata": {},
   "outputs": [
    {
     "data": {
      "text/plain": [
       "('0x3a0', '0x3cd', '0x3b8', '0x3c9', '0x3bd')"
      ]
     },
     "execution_count": 27,
     "metadata": {},
     "output_type": "execute_result"
    }
   ],
   "source": [
    "v1, v2, v3, v4, v5"
   ]
  },
  {
   "cell_type": "code",
   "execution_count": 28,
   "id": "4a3c227c-67cd-445f-b24a-e3f8448b40aa",
   "metadata": {},
   "outputs": [],
   "source": [
    "code_point = [v1, v2, v3, v4, v5]"
   ]
  },
  {
   "cell_type": "code",
   "execution_count": 29,
   "id": "7297b932-123e-4ae0-b62f-8d1730631f1c",
   "metadata": {},
   "outputs": [
    {
     "data": {
      "text/plain": [
       "['0x3a0', '0x3cd', '0x3b8', '0x3c9', '0x3bd']"
      ]
     },
     "execution_count": 29,
     "metadata": {},
     "output_type": "execute_result"
    }
   ],
   "source": [
    "code_point"
   ]
  },
  {
   "cell_type": "code",
   "execution_count": 32,
   "id": "d5b18a4b-d88d-41da-86ea-0407932823dc",
   "metadata": {},
   "outputs": [],
   "source": [
    "sm1, sm2, sm3, sm4, sm5 = sm1.lower(), sm2.lower(), sm3.lower(), sm4.lower(), sm5.lower()"
   ]
  },
  {
   "cell_type": "code",
   "execution_count": 34,
   "id": "a69623d4-aa5e-435a-a5c0-db47e8c725ce",
   "metadata": {},
   "outputs": [],
   "source": [
    "SM = [sm1, sm2, sm3, sm4, sm5]"
   ]
  },
  {
   "cell_type": "code",
   "execution_count": 35,
   "id": "c3d103f3-7d88-419e-b41c-85f3f28a2943",
   "metadata": {},
   "outputs": [
    {
     "data": {
      "text/plain": [
       "['π', ' ύ', ' θ', ' ω', ' ν']"
      ]
     },
     "execution_count": 35,
     "metadata": {},
     "output_type": "execute_result"
    }
   ],
   "source": [
    "SM"
   ]
  },
  {
   "cell_type": "code",
   "execution_count": 37,
   "id": "8f31ecd9-7e8d-40b8-a1c4-67daa3313d6b",
   "metadata": {},
   "outputs": [],
   "source": [
    "cap1, cap2, cap3, cap4, cap5 = cap1.upper(), cap2.upper(), cap3.upper(), cap4.upper(), cap5.upper()"
   ]
  },
  {
   "cell_type": "code",
   "execution_count": 38,
   "id": "7ed7786c-d98c-4777-8905-3538452bf116",
   "metadata": {},
   "outputs": [],
   "source": [
    "CAP = [cap1, cap2, cap3, cap4, cap5]"
   ]
  },
  {
   "cell_type": "code",
   "execution_count": 39,
   "id": "8472b5b7-0a99-4302-aa67-ea7e3826442e",
   "metadata": {},
   "outputs": [
    {
     "data": {
      "text/plain": [
       "['Π', ' Ύ', ' Θ', ' Ω', ' Ν']"
      ]
     },
     "execution_count": 39,
     "metadata": {},
     "output_type": "execute_result"
    }
   ],
   "source": [
    "CAP"
   ]
  },
  {
   "cell_type": "code",
   "execution_count": 42,
   "id": "a6ca90be-524f-452c-a61a-7dc98fb52ec2",
   "metadata": {},
   "outputs": [
    {
     "name": "stdout",
     "output_type": "stream",
     "text": [
      "The number ...value of 31... is not even\n"
     ]
    }
   ],
   "source": [
    "a = 31\n",
    "\n",
    "if a%2 == 0:\n",
    "    print(\"The number ...value of {}... is even\".format(a))\n",
    "else:\n",
    "    print(f\"The number ...value of {a}... is not even\")"
   ]
  },
  {
   "cell_type": "code",
   "execution_count": 43,
   "id": "0812276a-c080-4762-a671-d0321a7f9fe4",
   "metadata": {},
   "outputs": [
    {
     "data": {
      "text/plain": [
       "'The number 31 is not even'"
      ]
     },
     "execution_count": 43,
     "metadata": {},
     "output_type": "execute_result"
    }
   ],
   "source": [
    "#Elegant way \n",
    "\n",
    "f\"The number {a} {'is' if a % 2 == 0 else 'is not'} even\""
   ]
  },
  {
   "cell_type": "code",
   "execution_count": 44,
   "id": "d5acfcbf-ac33-4d68-af7d-5af3bc312bd1",
   "metadata": {},
   "outputs": [
    {
     "name": "stdout",
     "output_type": "stream",
     "text": [
      "a / b = ( 3.3333)\n"
     ]
    }
   ],
   "source": [
    "a = 10 \n",
    "b = 3 \n",
    "\n",
    "print(f\"a / b = ({a/b: .4f})\")"
   ]
  },
  {
   "cell_type": "code",
   "execution_count": null,
   "id": "3610acc5-4dd3-4a26-9cdf-692a718d89b7",
   "metadata": {},
   "outputs": [],
   "source": []
  }
 ],
 "metadata": {
  "kernelspec": {
   "display_name": "Python 3 (ipykernel)",
   "language": "python",
   "name": "python3"
  },
  "language_info": {
   "codemirror_mode": {
    "name": "ipython",
    "version": 3
   },
   "file_extension": ".py",
   "mimetype": "text/x-python",
   "name": "python",
   "nbconvert_exporter": "python",
   "pygments_lexer": "ipython3",
   "version": "3.12.3"
  }
 },
 "nbformat": 4,
 "nbformat_minor": 5
}
