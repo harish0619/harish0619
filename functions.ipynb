{
 "cells": [
  {
   "cell_type": "code",
   "execution_count": 2,
   "id": "caf1a890-8cb8-4c64-bece-61237f8656e9",
   "metadata": {},
   "outputs": [
    {
     "data": {
      "text/plain": [
       "3.0"
      ]
     },
     "execution_count": 2,
     "metadata": {},
     "output_type": "execute_result"
    }
   ],
   "source": [
    "#Write a function that takes a variable number of arguments (with a minimum of one), and returns the average of these numbers.\n",
    "\n",
    "def average(*args):\n",
    "    if len(args) == 0:\n",
    "        raise ValueError('At least one argument must be passed to the function')\n",
    "    return sum(args)/len(args)\n",
    "\n",
    "average(1,2,3,4,5)"
   ]
  },
  {
   "cell_type": "code",
   "execution_count": 3,
   "id": "1fb9bd1d-2029-4dea-9b8e-2411ed2e64d2",
   "metadata": {},
   "outputs": [
    {
     "ename": "ValueError",
     "evalue": "At least one argument must be passed to the function",
     "output_type": "error",
     "traceback": [
      "\u001b[0;31m---------------------------------------------------------------------------\u001b[0m",
      "\u001b[0;31mValueError\u001b[0m                                Traceback (most recent call last)",
      "Cell \u001b[0;32mIn[3], line 1\u001b[0m\n\u001b[0;32m----> 1\u001b[0m \u001b[43maverage\u001b[49m\u001b[43m(\u001b[49m\u001b[43m)\u001b[49m\n",
      "Cell \u001b[0;32mIn[2], line 5\u001b[0m, in \u001b[0;36maverage\u001b[0;34m(*args)\u001b[0m\n\u001b[1;32m      3\u001b[0m \u001b[38;5;28;01mdef\u001b[39;00m \u001b[38;5;21maverage\u001b[39m(\u001b[38;5;241m*\u001b[39margs):\n\u001b[1;32m      4\u001b[0m     \u001b[38;5;28;01mif\u001b[39;00m \u001b[38;5;28mlen\u001b[39m(args) \u001b[38;5;241m==\u001b[39m \u001b[38;5;241m0\u001b[39m:\n\u001b[0;32m----> 5\u001b[0m         \u001b[38;5;28;01mraise\u001b[39;00m \u001b[38;5;167;01mValueError\u001b[39;00m(\u001b[38;5;124m'\u001b[39m\u001b[38;5;124mAt least one argument must be passed to the function\u001b[39m\u001b[38;5;124m'\u001b[39m)\n\u001b[1;32m      6\u001b[0m     \u001b[38;5;28;01mreturn\u001b[39;00m \u001b[38;5;28msum\u001b[39m(args)\u001b[38;5;241m/\u001b[39m\u001b[38;5;28mlen\u001b[39m(args)\n",
      "\u001b[0;31mValueError\u001b[0m: At least one argument must be passed to the function"
     ]
    }
   ],
   "source": [
    "average()"
   ]
  },
  {
   "cell_type": "code",
   "execution_count": 4,
   "id": "ad9f57a7-3b32-4cfb-8393-185f6671cd32",
   "metadata": {},
   "outputs": [],
   "source": [
    "def average(a, *args):\n",
    "    if len(args) == 0:\n",
    "        raise ValueError('At least one argument must be passed to the function')\n",
    "    return sum(args)/len(args)"
   ]
  },
  {
   "cell_type": "code",
   "execution_count": 5,
   "id": "788c8c73-df8d-4ec8-b185-885ccddf0adb",
   "metadata": {},
   "outputs": [
    {
     "ename": "TypeError",
     "evalue": "average() missing 1 required positional argument: 'a'",
     "output_type": "error",
     "traceback": [
      "\u001b[0;31m---------------------------------------------------------------------------\u001b[0m",
      "\u001b[0;31mTypeError\u001b[0m                                 Traceback (most recent call last)",
      "Cell \u001b[0;32mIn[5], line 1\u001b[0m\n\u001b[0;32m----> 1\u001b[0m \u001b[43maverage\u001b[49m\u001b[43m(\u001b[49m\u001b[43m)\u001b[49m\n",
      "\u001b[0;31mTypeError\u001b[0m: average() missing 1 required positional argument: 'a'"
     ]
    }
   ],
   "source": [
    "average()"
   ]
  },
  {
   "cell_type": "code",
   "execution_count": 6,
   "id": "f4e9ea35-5d02-44fd-8a7b-205c1f5dfb5e",
   "metadata": {},
   "outputs": [
    {
     "data": {
      "text/plain": [
       "'----------'"
      ]
     },
     "execution_count": 6,
     "metadata": {},
     "output_type": "execute_result"
    }
   ],
   "source": [
    "# Question 2\n",
    "\n",
    "def separator(times=10, *, char='-'):\n",
    "    return char*times\n",
    "\n",
    "separator()"
   ]
  },
  {
   "cell_type": "code",
   "execution_count": 9,
   "id": "a23770ad-89f3-4010-8e31-f8a9884897ce",
   "metadata": {},
   "outputs": [
    {
     "data": {
      "text/plain": [
       "'********************'"
      ]
     },
     "execution_count": 9,
     "metadata": {},
     "output_type": "execute_result"
    }
   ],
   "source": [
    "separator(times=20, char='*')"
   ]
  },
  {
   "cell_type": "code",
   "execution_count": 18,
   "id": "0db49292-7fde-4d5e-9e29-4a31315f2ab7",
   "metadata": {},
   "outputs": [
    {
     "data": {
      "text/plain": [
       "4"
      ]
     },
     "execution_count": 18,
     "metadata": {},
     "output_type": "execute_result"
    }
   ],
   "source": [
    "# Question 3\n",
    "\n",
    "f = lambda iterable: len(set(iterable))\n",
    "\n",
    "f([1,2,3,3,3,4])"
   ]
  },
  {
   "cell_type": "code",
   "execution_count": 14,
   "id": "e97f5210-ab65-4c71-9f25-cf659cf00aee",
   "metadata": {},
   "outputs": [
    {
     "data": {
      "text/plain": [
       "4"
      ]
     },
     "execution_count": 14,
     "metadata": {},
     "output_type": "execute_result"
    }
   ],
   "source": [
    "f('malayalam')"
   ]
  },
  {
   "cell_type": "code",
   "execution_count": 17,
   "id": "b120971b-5828-4ec9-9304-88cc0f435955",
   "metadata": {},
   "outputs": [
    {
     "data": {
      "text/plain": [
       "0"
      ]
     },
     "execution_count": 17,
     "metadata": {},
     "output_type": "execute_result"
    }
   ],
   "source": [
    "f('')"
   ]
  },
  {
   "cell_type": "code",
   "execution_count": 27,
   "id": "cc5c82e3-723f-41cd-a4ba-7d894301e28d",
   "metadata": {},
   "outputs": [
    {
     "data": {
      "text/plain": [
       "{'This': 2,\n",
       " 'is': 3,\n",
       " 'the': 3,\n",
       " 'first': 1,\n",
       " 'character': 1,\n",
       " 'second': 1,\n",
       " 'one': 1,\n",
       " 'and': 1,\n",
       " 'this': 1,\n",
       " 'third': 1}"
      ]
     },
     "execution_count": 27,
     "metadata": {},
     "output_type": "execute_result"
    }
   ],
   "source": [
    "# Question 4\n",
    "\n",
    "def return_dict(args=' '):\n",
    "    args = args.replace('.', ' ') \n",
    "    args = args.replace(',', ' ')\n",
    "\n",
    "    list_of_strings = args.split()\n",
    "\n",
    "    freq = {}\n",
    "\n",
    "    for word in args.split():\n",
    "        freq[word] = freq.get(word, 0 ) + 1\n",
    "    return freq\n",
    "\n",
    "return_dict(\"This is the first character. This is the second one, and this is the third\")"
   ]
  },
  {
   "cell_type": "code",
   "execution_count": 28,
   "id": "1a395288-e74b-44a9-8f72-775cc3da477a",
   "metadata": {},
   "outputs": [
    {
     "data": {
      "text/plain": [
       "{'This': 2,\n",
       " 'is': 3,\n",
       " 'the': 3,\n",
       " 'first': 1,\n",
       " 'character': 1,\n",
       " 'second': 1,\n",
       " 'one': 1,\n",
       " 'and': 1,\n",
       " 'this': 1,\n",
       " 'third': 1}"
      ]
     },
     "execution_count": 28,
     "metadata": {},
     "output_type": "execute_result"
    }
   ],
   "source": [
    "from collections import Counter\n",
    "def return_dict(args=' '):\n",
    "    args = args.replace('.', ' ') \n",
    "    args = args.replace(',', ' ')\n",
    "\n",
    "    return dict(Counter(args.split()))\n",
    "\n",
    "return_dict(\"This is the first character. This is the second one, and this is the third\")"
   ]
  },
  {
   "cell_type": "code",
   "execution_count": null,
   "id": "e1957884-df2f-4f34-b183-e9255709eac1",
   "metadata": {},
   "outputs": [],
   "source": []
  }
 ],
 "metadata": {
  "kernelspec": {
   "display_name": "Python 3 (ipykernel)",
   "language": "python",
   "name": "python3"
  },
  "language_info": {
   "codemirror_mode": {
    "name": "ipython",
    "version": 3
   },
   "file_extension": ".py",
   "mimetype": "text/x-python",
   "name": "python",
   "nbconvert_exporter": "python",
   "pygments_lexer": "ipython3",
   "version": "3.12.3"
  }
 },
 "nbformat": 4,
 "nbformat_minor": 5
}
