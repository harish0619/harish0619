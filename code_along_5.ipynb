{
 "cells": [
  {
   "cell_type": "code",
   "execution_count": 1,
   "id": "b45be168-e617-49d6-bf9f-9bdcdc30c2b6",
   "metadata": {},
   "outputs": [],
   "source": [
    "# Custom classes"
   ]
  },
  {
   "cell_type": "code",
   "execution_count": 2,
   "id": "ecd509ea-dc06-4396-997e-8d4912b65c65",
   "metadata": {},
   "outputs": [],
   "source": [
    "class Circle:\n",
    "    \"\"\" This class is used to represent a circle and \n",
    "    calculate it's area and perimeter\n",
    "    \"\"\"\n",
    "    "
   ]
  },
  {
   "cell_type": "code",
   "execution_count": 3,
   "id": "7d9b3722-8fee-4e16-8008-cea3b99742e1",
   "metadata": {},
   "outputs": [
    {
     "data": {
      "text/plain": [
       "'Circle'"
      ]
     },
     "execution_count": 3,
     "metadata": {},
     "output_type": "execute_result"
    }
   ],
   "source": [
    "Circle.__name__"
   ]
  },
  {
   "cell_type": "code",
   "execution_count": 5,
   "id": "2aff330e-24a2-4046-95c5-e25fa42fefd4",
   "metadata": {},
   "outputs": [
    {
     "data": {
      "text/plain": [
       "\" This class is used to represent a circle and \\n    calculate it's area and perimeter\\n    \""
      ]
     },
     "execution_count": 5,
     "metadata": {},
     "output_type": "execute_result"
    }
   ],
   "source": [
    "Circle.__doc__"
   ]
  },
  {
   "cell_type": "code",
   "execution_count": 6,
   "id": "67b4a0a8-fe95-48c6-a266-1cf62a3e8289",
   "metadata": {},
   "outputs": [],
   "source": [
    "class Person:\n",
    "    \"\"\"This string can be used to document this class and \n",
    "    it is called as docstring\"\"\"\n",
    "    "
   ]
  },
  {
   "cell_type": "code",
   "execution_count": 7,
   "id": "93593cd2-0a62-4bb2-a6f6-c3439c5f25c6",
   "metadata": {},
   "outputs": [],
   "source": [
    "p1 = Person()"
   ]
  },
  {
   "cell_type": "code",
   "execution_count": 8,
   "id": "6b794d51-757d-4a4b-9830-550e25934a06",
   "metadata": {},
   "outputs": [
    {
     "data": {
      "text/plain": [
       "True"
      ]
     },
     "execution_count": 8,
     "metadata": {},
     "output_type": "execute_result"
    }
   ],
   "source": [
    "isinstance(p1, Person)"
   ]
  },
  {
   "cell_type": "code",
   "execution_count": 9,
   "id": "ef4fb67e-0ab4-4eb2-baf7-f203ae133288",
   "metadata": {},
   "outputs": [
    {
     "name": "stdout",
     "output_type": "stream",
     "text": [
      "Help on Person in module __main__ object:\n",
      "\n",
      "class Person(builtins.object)\n",
      " |  This string can be used to document this class and\n",
      " |  it is called as docstring\n",
      " |\n",
      " |  Data descriptors defined here:\n",
      " |\n",
      " |  __dict__\n",
      " |      dictionary for instance variables\n",
      " |\n",
      " |  __weakref__\n",
      " |      list of weak references to the object\n",
      "\n"
     ]
    }
   ],
   "source": [
    "help(p1)"
   ]
  },
  {
   "cell_type": "code",
   "execution_count": 10,
   "id": "8f122d5d-2eac-4444-962f-47fd088b538e",
   "metadata": {},
   "outputs": [],
   "source": [
    "p1.name = 'John'"
   ]
  },
  {
   "cell_type": "code",
   "execution_count": 11,
   "id": "d5be0051-79de-4eaa-a495-b71d834085fc",
   "metadata": {},
   "outputs": [
    {
     "data": {
      "text/plain": [
       "'John'"
      ]
     },
     "execution_count": 11,
     "metadata": {},
     "output_type": "execute_result"
    }
   ],
   "source": [
    "p1.name "
   ]
  },
  {
   "cell_type": "code",
   "execution_count": 12,
   "id": "a7195205-0392-48c9-b80b-c4a5cb517b87",
   "metadata": {},
   "outputs": [],
   "source": [
    "del p1.name "
   ]
  },
  {
   "cell_type": "code",
   "execution_count": 13,
   "id": "91361436-3da1-481e-9fae-6fb0c3fcc22e",
   "metadata": {},
   "outputs": [
    {
     "ename": "AttributeError",
     "evalue": "'Person' object has no attribute 'name'",
     "output_type": "error",
     "traceback": [
      "\u001b[0;31m---------------------------------------------------------------------------\u001b[0m",
      "\u001b[0;31mAttributeError\u001b[0m                            Traceback (most recent call last)",
      "Cell \u001b[0;32mIn[13], line 1\u001b[0m\n\u001b[0;32m----> 1\u001b[0m \u001b[43mp1\u001b[49m\u001b[38;5;241;43m.\u001b[39;49m\u001b[43mname\u001b[49m \n",
      "\u001b[0;31mAttributeError\u001b[0m: 'Person' object has no attribute 'name'"
     ]
    }
   ],
   "source": [
    "p1.name "
   ]
  },
  {
   "cell_type": "code",
   "execution_count": 14,
   "id": "0f2964e5-e141-4582-9fc6-69876662a1d1",
   "metadata": {},
   "outputs": [
    {
     "data": {
      "text/plain": [
       "{}"
      ]
     },
     "execution_count": 14,
     "metadata": {},
     "output_type": "execute_result"
    }
   ],
   "source": [
    "p1.__dict__"
   ]
  },
  {
   "cell_type": "code",
   "execution_count": 15,
   "id": "32e28814-b413-4f5d-8a4b-d3a422f8027f",
   "metadata": {},
   "outputs": [],
   "source": [
    "p1.name = 'John'"
   ]
  },
  {
   "cell_type": "code",
   "execution_count": 16,
   "id": "fcccaf71-d88f-4584-855c-c6437bc0cba9",
   "metadata": {},
   "outputs": [
    {
     "data": {
      "text/plain": [
       "{'name': 'John'}"
      ]
     },
     "execution_count": 16,
     "metadata": {},
     "output_type": "execute_result"
    }
   ],
   "source": [
    "p1.__dict__"
   ]
  },
  {
   "cell_type": "code",
   "execution_count": null,
   "id": "754b2163-49a8-478a-a286-5a1f48e694cc",
   "metadata": {},
   "outputs": [],
   "source": []
  }
 ],
 "metadata": {
  "kernelspec": {
   "display_name": "Python 3 (ipykernel)",
   "language": "python",
   "name": "python3"
  },
  "language_info": {
   "codemirror_mode": {
    "name": "ipython",
    "version": 3
   },
   "file_extension": ".py",
   "mimetype": "text/x-python",
   "name": "python",
   "nbconvert_exporter": "python",
   "pygments_lexer": "ipython3",
   "version": "3.12.3"
  }
 },
 "nbformat": 4,
 "nbformat_minor": 5
}
