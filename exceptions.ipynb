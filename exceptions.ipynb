{
 "cells": [
  {
   "cell_type": "code",
   "execution_count": 7,
   "id": "3455381e-1256-434b-8a85-bd1ae9c67674",
   "metadata": {},
   "outputs": [
    {
     "name": "stdout",
     "output_type": "stream",
     "text": [
      "Minimum is: 1\n"
     ]
    }
   ],
   "source": [
    "values = [-1, 2, 3, 1]\n",
    "\n",
    "try:\n",
    "    minimum = abs(values[0])\n",
    "    for value in values[1:]:\n",
    "        if abs(value) < minimum:\n",
    "            minimum = abs(value)\n",
    "except IndexError as ex:\n",
    "    minimum = 0\n",
    "\n",
    "print(f'Minimum is: {minimum}')\n"
   ]
  },
  {
   "cell_type": "code",
   "execution_count": 8,
   "id": "597c4520-d12a-4b13-8714-f6d5f8eeaf14",
   "metadata": {},
   "outputs": [
    {
     "name": "stdout",
     "output_type": "stream",
     "text": [
      "Caught the value error: Throwing a value error\n"
     ]
    }
   ],
   "source": [
    "try:\n",
    "    raise ValueError(\"Throwing a value error\")\n",
    "except ValueError as ex:\n",
    "    print(f'Caught the value error: {ex}')"
   ]
  },
  {
   "cell_type": "code",
   "execution_count": null,
   "id": "8ebc3e42-24a0-48b6-bfec-2d2dc5d40fb1",
   "metadata": {},
   "outputs": [],
   "source": []
  }
 ],
 "metadata": {
  "kernelspec": {
   "display_name": "Python 3 (ipykernel)",
   "language": "python",
   "name": "python3"
  },
  "language_info": {
   "codemirror_mode": {
    "name": "ipython",
    "version": 3
   },
   "file_extension": ".py",
   "mimetype": "text/x-python",
   "name": "python",
   "nbconvert_exporter": "python",
   "pygments_lexer": "ipython3",
   "version": "3.12.3"
  }
 },
 "nbformat": 4,
 "nbformat_minor": 5
}
