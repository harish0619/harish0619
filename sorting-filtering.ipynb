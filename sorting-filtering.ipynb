{
 "cells": [
  {
   "cell_type": "code",
   "execution_count": 2,
   "id": "4fda02b7-5650-4e55-a3db-4b5066a33282",
   "metadata": {},
   "outputs": [],
   "source": [
    "l = [\n",
    "    (1, 2),\n",
    "    (-4, -5.5),\n",
    "    (10, -10),\n",
    "    (-2, 2)\n",
    "]"
   ]
  },
  {
   "cell_type": "code",
   "execution_count": 5,
   "id": "d32a1a23-1ae1-475a-92a9-a9a00230e8cd",
   "metadata": {},
   "outputs": [],
   "source": [
    "def abs_val(*args):\n",
    "    for a,b in args:\n",
    "        return abs(a-b)"
   ]
  },
  {
   "cell_type": "code",
   "execution_count": 7,
   "id": "a66e14d5-c8b3-43e3-911d-5f966617870a",
   "metadata": {},
   "outputs": [
    {
     "data": {
      "text/plain": [
       "1"
      ]
     },
     "execution_count": 7,
     "metadata": {},
     "output_type": "execute_result"
    }
   ],
   "source": [
    "abs_val((1,2))"
   ]
  },
  {
   "cell_type": "code",
   "execution_count": 8,
   "id": "4269ae4a-a882-45b1-af69-4580bc5b051c",
   "metadata": {},
   "outputs": [
    {
     "data": {
      "text/plain": [
       "[(10, -10), (-2, 2), (-4, -5.5), (1, 2)]"
      ]
     },
     "execution_count": 8,
     "metadata": {},
     "output_type": "execute_result"
    }
   ],
   "source": [
    "sorted(l, key=abs_val, reverse=True)"
   ]
  },
  {
   "cell_type": "code",
   "execution_count": 9,
   "id": "7bae74a5-b3d8-46e2-9420-14aedda493ba",
   "metadata": {},
   "outputs": [
    {
     "data": {
      "text/plain": [
       "[(10, -10), (-2, 2), (-4, -5.5), (1, 2)]"
      ]
     },
     "execution_count": 9,
     "metadata": {},
     "output_type": "execute_result"
    }
   ],
   "source": [
    "sorted(l, key=lambda t: abs(t[0] - t[1]), reverse=True)"
   ]
  },
  {
   "cell_type": "code",
   "execution_count": null,
   "id": "7eda98fd-f30b-4336-8712-14dcf6a21310",
   "metadata": {},
   "outputs": [],
   "source": []
  }
 ],
 "metadata": {
  "kernelspec": {
   "display_name": "Python 3 (ipykernel)",
   "language": "python",
   "name": "python3"
  },
  "language_info": {
   "codemirror_mode": {
    "name": "ipython",
    "version": 3
   },
   "file_extension": ".py",
   "mimetype": "text/x-python",
   "name": "python",
   "nbconvert_exporter": "python",
   "pygments_lexer": "ipython3",
   "version": "3.12.3"
  }
 },
 "nbformat": 4,
 "nbformat_minor": 5
}
