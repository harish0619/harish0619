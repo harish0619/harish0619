{
 "cells": [
  {
   "cell_type": "code",
   "execution_count": 2,
   "id": "4fda02b7-5650-4e55-a3db-4b5066a33282",
   "metadata": {},
   "outputs": [],
   "source": [
    "l = [\n",
    "    (1, 2),\n",
    "    (-4, -5.5),\n",
    "    (10, -10),\n",
    "    (-2, 2)\n",
    "]"
   ]
  },
  {
   "cell_type": "code",
   "execution_count": 5,
   "id": "d32a1a23-1ae1-475a-92a9-a9a00230e8cd",
   "metadata": {},
   "outputs": [],
   "source": [
    "def abs_val(*args):\n",
    "    for a,b in args:\n",
    "        return abs(a-b)"
   ]
  },
  {
   "cell_type": "code",
   "execution_count": 7,
   "id": "a66e14d5-c8b3-43e3-911d-5f966617870a",
   "metadata": {},
   "outputs": [
    {
     "data": {
      "text/plain": [
       "1"
      ]
     },
     "execution_count": 7,
     "metadata": {},
     "output_type": "execute_result"
    }
   ],
   "source": [
    "abs_val((1,2))"
   ]
  },
  {
   "cell_type": "code",
   "execution_count": 8,
   "id": "4269ae4a-a882-45b1-af69-4580bc5b051c",
   "metadata": {},
   "outputs": [
    {
     "data": {
      "text/plain": [
       "[(10, -10), (-2, 2), (-4, -5.5), (1, 2)]"
      ]
     },
     "execution_count": 8,
     "metadata": {},
     "output_type": "execute_result"
    }
   ],
   "source": [
    "sorted(l, key=abs_val, reverse=True)"
   ]
  },
  {
   "cell_type": "code",
   "execution_count": 9,
   "id": "7bae74a5-b3d8-46e2-9420-14aedda493ba",
   "metadata": {},
   "outputs": [
    {
     "data": {
      "text/plain": [
       "[(10, -10), (-2, 2), (-4, -5.5), (1, 2)]"
      ]
     },
     "execution_count": 9,
     "metadata": {},
     "output_type": "execute_result"
    }
   ],
   "source": [
    "sorted(l, key=lambda t: abs(t[0] - t[1]), reverse=True)"
   ]
  },
  {
   "cell_type": "code",
   "execution_count": 1,
   "id": "7eda98fd-f30b-4336-8712-14dcf6a21310",
   "metadata": {},
   "outputs": [],
   "source": [
    "suits = 'shdc'  # Spades, Hearts, Diamonds, Clubs\n",
    "ranks = list('23456789') + ['10', 'J', 'Q', 'K', 'A']"
   ]
  },
  {
   "cell_type": "code",
   "execution_count": 2,
   "id": "eb2fac6b-c7d1-4682-a221-b9759459440f",
   "metadata": {},
   "outputs": [
    {
     "data": {
      "text/plain": [
       "('shdc', ['2', '3', '4', '5', '6', '7', '8', '9', '10', 'J', 'Q', 'K', 'A'])"
      ]
     },
     "execution_count": 2,
     "metadata": {},
     "output_type": "execute_result"
    }
   ],
   "source": [
    "suits, ranks"
   ]
  },
  {
   "cell_type": "code",
   "execution_count": 6,
   "id": "b438d2e6-b1fb-497c-b63f-159b46700679",
   "metadata": {},
   "outputs": [],
   "source": [
    "def clubbing(suits, ranks):\n",
    "    response = [\n",
    "        list(zip(ranks, val*13))\n",
    "        for val in suits\n",
    "    ]\n",
    "    return response"
   ]
  },
  {
   "cell_type": "code",
   "execution_count": 7,
   "id": "a60eb794-9b2e-4b76-b051-d4fedf570fa5",
   "metadata": {},
   "outputs": [
    {
     "name": "stdout",
     "output_type": "stream",
     "text": [
      "[[('2', 's'), ('3', 's'), ('4', 's'), ('5', 's'), ('6', 's'), ('7', 's'), ('8', 's'), ('9', 's'), ('10', 's'), ('J', 's'), ('Q', 's'), ('K', 's'), ('A', 's')], [('2', 'h'), ('3', 'h'), ('4', 'h'), ('5', 'h'), ('6', 'h'), ('7', 'h'), ('8', 'h'), ('9', 'h'), ('10', 'h'), ('J', 'h'), ('Q', 'h'), ('K', 'h'), ('A', 'h')], [('2', 'd'), ('3', 'd'), ('4', 'd'), ('5', 'd'), ('6', 'd'), ('7', 'd'), ('8', 'd'), ('9', 'd'), ('10', 'd'), ('J', 'd'), ('Q', 'd'), ('K', 'd'), ('A', 'd')], [('2', 'c'), ('3', 'c'), ('4', 'c'), ('5', 'c'), ('6', 'c'), ('7', 'c'), ('8', 'c'), ('9', 'c'), ('10', 'c'), ('J', 'c'), ('Q', 'c'), ('K', 'c'), ('A', 'c')]]\n"
     ]
    }
   ],
   "source": [
    "response = clubbing(suits, ranks)\n",
    "\n",
    "print(response)"
   ]
  },
  {
   "cell_type": "code",
   "execution_count": 8,
   "id": "8ad687ab-29c7-4a60-86c4-3a4cb6c6865d",
   "metadata": {},
   "outputs": [],
   "source": [
    "rank_order = {\n",
    "    '2': 1,\n",
    "    '3': 2,\n",
    "    '4': 3,\n",
    "    '5': 4,\n",
    "    '6': 5,\n",
    "    '7': 6,\n",
    "    '8': 7,\n",
    "    '9': 8,\n",
    "    '10': 9,\n",
    "    'J': 10,\n",
    "    'Q': 11,\n",
    "    'K': 12,\n",
    "    'A': 13\n",
    "}"
   ]
  },
  {
   "cell_type": "code",
   "execution_count": 9,
   "id": "e9f3ed9c-2f17-42f3-90c4-00b88ef08634",
   "metadata": {},
   "outputs": [],
   "source": [
    "def deck(suits, ranks, *, reverse=False):\n",
    "    ordered_ranks = [\n",
    "        rank \n",
    "        for rank, rank_number in sorted(\n",
    "            list(zip(ranks, range(1, 14))), \n",
    "            key=lambda t: t[1], \n",
    "            reverse=reverse\n",
    "        )]\n",
    "    return [\n",
    "        [\n",
    "            r + s \n",
    "            for r in ordered_ranks\n",
    "        ]\n",
    "        for s in suits\n",
    "    ]"
   ]
  },
  {
   "cell_type": "code",
   "execution_count": 10,
   "id": "718a2737-c352-4c79-bca2-6b9d63d0f96a",
   "metadata": {},
   "outputs": [
    {
     "name": "stdout",
     "output_type": "stream",
     "text": [
      "[['As', 'Ks', 'Qs', 'Js', '10s', '9s', '8s', '7s', '6s', '5s', '4s', '3s', '2s'], ['Ah', 'Kh', 'Qh', 'Jh', '10h', '9h', '8h', '7h', '6h', '5h', '4h', '3h', '2h'], ['Ad', 'Kd', 'Qd', 'Jd', '10d', '9d', '8d', '7d', '6d', '5d', '4d', '3d', '2d'], ['Ac', 'Kc', 'Qc', 'Jc', '10c', '9c', '8c', '7c', '6c', '5c', '4c', '3c', '2c']]\n"
     ]
    }
   ],
   "source": [
    "print(deck(suits, ranks, reverse=True))"
   ]
  },
  {
   "cell_type": "code",
   "execution_count": 1,
   "id": "9b87fe18-5bde-42c2-a7c5-03e369121b1c",
   "metadata": {},
   "outputs": [],
   "source": [
    "data = {\n",
    "    'S1': (100, 200, 80, 180),\n",
    "    'S2': (10, 20, 8, 18),\n",
    "    'S3': (50, 150, 50, 150)\n",
    "}"
   ]
  },
  {
   "cell_type": "code",
   "execution_count": null,
   "id": "c004187c-5305-425e-8f82-2e848580a138",
   "metadata": {},
   "outputs": [],
   "source": []
  }
 ],
 "metadata": {
  "kernelspec": {
   "display_name": "Python 3 (ipykernel)",
   "language": "python",
   "name": "python3"
  },
  "language_info": {
   "codemirror_mode": {
    "name": "ipython",
    "version": 3
   },
   "file_extension": ".py",
   "mimetype": "text/x-python",
   "name": "python",
   "nbconvert_exporter": "python",
   "pygments_lexer": "ipython3",
   "version": "3.12.3"
  }
 },
 "nbformat": 4,
 "nbformat_minor": 5
}
