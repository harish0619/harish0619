{
 "cells": [
  {
   "cell_type": "code",
   "execution_count": 3,
   "id": "a0403f99-6c0f-4c27-a204-58763783b314",
   "metadata": {},
   "outputs": [
    {
     "data": {
      "text/plain": [
       "time.struct_time(tm_year=1970, tm_mon=5, tm_mday=23, tm_hour=21, tm_min=21, tm_sec=18, tm_wday=5, tm_yday=143, tm_isdst=0)"
      ]
     },
     "execution_count": 3,
     "metadata": {},
     "output_type": "execute_result"
    }
   ],
   "source": [
    "from time import gmtime \n",
    "\n",
    "dt = gmtime(12345678.9)\n",
    "\n",
    "dt"
   ]
  },
  {
   "cell_type": "code",
   "execution_count": 12,
   "id": "36eed772-e8f7-4a36-8c50-1f5dd8d41916",
   "metadata": {},
   "outputs": [],
   "source": [
    "import datetime \n",
    "\n",
    "def get_first_last(dt):\n",
    "    start = datetime.date(year=dt.year, month=dt.month, day=1)\n",
    "    \n",
    "    if start.month == 12:\n",
    "        new_year = start.year + 1\n",
    "        new_month = 1\n",
    "    else:\n",
    "        new_year = start.year\n",
    "        new_month = start.month + 1\n",
    "\n",
    "    end = datetime.date(year=new_year, month=new_month, day=1) - datetime.timedelta(days=1)\n",
    "\n",
    "    return start"
   ]
  },
  {
   "cell_type": "code",
   "execution_count": 11,
   "id": "d4367f44-eb89-438d-8f82-ae9743328678",
   "metadata": {},
   "outputs": [
    {
     "name": "stdout",
     "output_type": "stream",
     "text": [
      "1970-05-24 02:51:18\n"
     ]
    },
    {
     "data": {
      "text/plain": [
       "(datetime.date(1970, 5, 1), datetime.date(1970, 5, 31))"
      ]
     },
     "execution_count": 11,
     "metadata": {},
     "output_type": "execute_result"
    }
   ],
   "source": [
    "from time import strftime, localtime\n",
    "\n",
    "dt = datetime.datetime.fromisoformat(strftime('%Y-%m-%d %H:%M:%S', localtime(12345678.9)))\n",
    "\n",
    "print(dt)\n",
    "get_first_last(dt)"
   ]
  },
  {
   "cell_type": "code",
   "execution_count": 14,
   "id": "3c7637d3-e56d-45fd-9712-af7b72dec93f",
   "metadata": {},
   "outputs": [],
   "source": [
    "dt1 = datetime.datetime.fromisoformat('2001-01-01T13:50:23')\n",
    "dt2 = datetime.datetime.fromisoformat('2001-06-12T14:23:50')"
   ]
  },
  {
   "cell_type": "code",
   "execution_count": 18,
   "id": "dc560177-1fa2-41fd-a0d2-40f23032b444",
   "metadata": {},
   "outputs": [
    {
     "data": {
      "text/plain": [
       "3888.0"
      ]
     },
     "execution_count": 18,
     "metadata": {},
     "output_type": "execute_result"
    }
   ],
   "source": [
    "(dt2-dt1).total_seconds()//3600"
   ]
  },
  {
   "cell_type": "code",
   "execution_count": 19,
   "id": "5935a433-321c-4092-aee6-8cdd2cf8829a",
   "metadata": {},
   "outputs": [],
   "source": [
    "# Final function"
   ]
  },
  {
   "cell_type": "code",
   "execution_count": 20,
   "id": "683562ce-6898-4708-b426-8b736383dcb1",
   "metadata": {},
   "outputs": [],
   "source": [
    "def num_hours(dt1, dt2):\n",
    "    seconds_in_hour = 60 * 60\n",
    "    dt1 = datetime.fromisoformat(dt1)\n",
    "    dt2 = datetime.fromisoformat(dt2)\n",
    "    delta_seconds = int((dt2 - dt1).total_seconds())\n",
    "    complete_hours = delta_seconds // seconds_in_hour\n",
    "    remaining_seconds = delta_seconds % seconds_in_hour\n",
    "    return complete_hours + round(remaining_seconds / seconds_in_hour)"
   ]
  },
  {
   "cell_type": "code",
   "execution_count": null,
   "id": "074e49c4-1657-4fa7-8316-7f8b16e0803e",
   "metadata": {},
   "outputs": [],
   "source": []
  }
 ],
 "metadata": {
  "kernelspec": {
   "display_name": "Python 3 (ipykernel)",
   "language": "python",
   "name": "python3"
  },
  "language_info": {
   "codemirror_mode": {
    "name": "ipython",
    "version": 3
   },
   "file_extension": ".py",
   "mimetype": "text/x-python",
   "name": "python",
   "nbconvert_exporter": "python",
   "pygments_lexer": "ipython3",
   "version": "3.12.3"
  }
 },
 "nbformat": 4,
 "nbformat_minor": 5
}
