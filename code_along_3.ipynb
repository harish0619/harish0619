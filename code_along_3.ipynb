{
 "cells": [
  {
   "cell_type": "code",
   "execution_count": 1,
   "id": "c4d82448-4487-4585-822f-2a8291ceda7a",
   "metadata": {},
   "outputs": [],
   "source": [
    "# Context managers and reading files "
   ]
  },
  {
   "cell_type": "code",
   "execution_count": 3,
   "id": "d20ae0c5-407d-4c87-9e9f-7a2004356dfc",
   "metadata": {},
   "outputs": [
    {
     "name": "stdout",
     "output_type": "stream",
     "text": [
      "<_io.TextIOWrapper name='requirements.txt' mode='r' encoding='UTF-8'>\n"
     ]
    }
   ],
   "source": [
    "file_name = 'requirements.txt'\n",
    "\n",
    "file = open(file_name, 'r')\n",
    "\n",
    "print(file)"
   ]
  },
  {
   "cell_type": "code",
   "execution_count": 5,
   "id": "6d659b03-d0ea-4adb-870d-db13962005d0",
   "metadata": {},
   "outputs": [
    {
     "data": {
      "text/plain": [
       "'requirements.txt'"
      ]
     },
     "execution_count": 5,
     "metadata": {},
     "output_type": "execute_result"
    }
   ],
   "source": [
    "file.name"
   ]
  },
  {
   "cell_type": "code",
   "execution_count": 7,
   "id": "89c42140-f979-4568-a807-02d9bcf052cc",
   "metadata": {},
   "outputs": [
    {
     "data": {
      "text/plain": [
       "True"
      ]
     },
     "execution_count": 7,
     "metadata": {},
     "output_type": "execute_result"
    }
   ],
   "source": [
    "file.readable()"
   ]
  },
  {
   "cell_type": "code",
   "execution_count": 8,
   "id": "c1144631-3068-4aae-902b-f77cdf96980b",
   "metadata": {},
   "outputs": [
    {
     "data": {
      "text/plain": [
       "False"
      ]
     },
     "execution_count": 8,
     "metadata": {},
     "output_type": "execute_result"
    }
   ],
   "source": [
    "file.writable()"
   ]
  },
  {
   "cell_type": "code",
   "execution_count": 10,
   "id": "fdb4bb16-fd67-4981-bee5-2dc9ceb3a8f6",
   "metadata": {},
   "outputs": [
    {
     "data": {
      "text/plain": [
       "False"
      ]
     },
     "execution_count": 10,
     "metadata": {},
     "output_type": "execute_result"
    }
   ],
   "source": [
    "file.closed"
   ]
  },
  {
   "cell_type": "code",
   "execution_count": 11,
   "id": "c2ae569a-c406-496b-997b-a28f55ce6e59",
   "metadata": {},
   "outputs": [],
   "source": [
    "file.close()"
   ]
  },
  {
   "cell_type": "code",
   "execution_count": 12,
   "id": "5e2fbe1c-4ee0-4115-9bf0-7e08a4545287",
   "metadata": {},
   "outputs": [
    {
     "data": {
      "text/plain": [
       "True"
      ]
     },
     "execution_count": 12,
     "metadata": {},
     "output_type": "execute_result"
    }
   ],
   "source": [
    "file.closed"
   ]
  },
  {
   "cell_type": "code",
   "execution_count": 13,
   "id": "0b6e6bdd-bb57-4605-9e45-10e3548df35d",
   "metadata": {},
   "outputs": [],
   "source": [
    "file = open(file_name, 'r')"
   ]
  },
  {
   "cell_type": "code",
   "execution_count": 14,
   "id": "72e05c86-6f81-4455-9eb6-d94b51ea72e1",
   "metadata": {},
   "outputs": [],
   "source": [
    "data = file.readlines()"
   ]
  },
  {
   "cell_type": "code",
   "execution_count": 15,
   "id": "a46c196b-9880-4342-97be-cb3dcc12065d",
   "metadata": {},
   "outputs": [
    {
     "data": {
      "text/plain": [
       "['notebook\\n',\n",
       " 'pytz\\n',\n",
       " 'python-dateutil\\n',\n",
       " 'requests\\n',\n",
       " 'openpyxl\\n',\n",
       " 'xlrd\\n']"
      ]
     },
     "execution_count": 15,
     "metadata": {},
     "output_type": "execute_result"
    }
   ],
   "source": [
    "data"
   ]
  },
  {
   "cell_type": "code",
   "execution_count": 16,
   "id": "2d6aab7c-0205-4278-a8f0-ee0ed2d43c6d",
   "metadata": {},
   "outputs": [],
   "source": [
    "file.close()"
   ]
  },
  {
   "cell_type": "code",
   "execution_count": 17,
   "id": "227a147c-3db9-4c7c-913c-b22e4e024250",
   "metadata": {},
   "outputs": [
    {
     "data": {
      "text/plain": [
       "['notebook\\n',\n",
       " 'pytz\\n',\n",
       " 'python-dateutil\\n',\n",
       " 'requests\\n',\n",
       " 'openpyxl\\n',\n",
       " 'xlrd\\n']"
      ]
     },
     "execution_count": 17,
     "metadata": {},
     "output_type": "execute_result"
    }
   ],
   "source": [
    "data"
   ]
  },
  {
   "cell_type": "code",
   "execution_count": 29,
   "id": "3bd01d9e-3f54-4000-8359-95e12f2e5f80",
   "metadata": {},
   "outputs": [],
   "source": [
    "file = open(file_name, 'r')\n",
    "\n",
    "# file object is an iterator "
   ]
  },
  {
   "cell_type": "code",
   "execution_count": 26,
   "id": "480beb8e-f9f1-4517-84f8-34363e3635ea",
   "metadata": {},
   "outputs": [
    {
     "name": "stdout",
     "output_type": "stream",
     "text": [
      "notebook\n",
      " pytz\n",
      " python-dateutil\n",
      " requests\n",
      " openpyxl\n",
      " xlrd\n",
      " "
     ]
    }
   ],
   "source": [
    "for line in file:\n",
    "    print(line, end = ' ')"
   ]
  },
  {
   "cell_type": "code",
   "execution_count": 23,
   "id": "2c683731-faff-4ab6-a8c3-40b0b8bd9cc2",
   "metadata": {},
   "outputs": [],
   "source": [
    "for line in file:\n",
    "    print(line)"
   ]
  },
  {
   "cell_type": "code",
   "execution_count": 28,
   "id": "03e25ce3-58a0-440c-8465-5548f8b4693f",
   "metadata": {},
   "outputs": [],
   "source": [
    "file.close()"
   ]
  },
  {
   "cell_type": "code",
   "execution_count": 30,
   "id": "91ece4cd-3cd8-46ba-ae5f-0bc2d6a6c02f",
   "metadata": {},
   "outputs": [],
   "source": [
    "file = open(file_name, 'r')"
   ]
  },
  {
   "cell_type": "code",
   "execution_count": 31,
   "id": "44e6e287-8f29-4f9d-9af4-9c5649ebaa8f",
   "metadata": {},
   "outputs": [
    {
     "name": "stdout",
     "output_type": "stream",
     "text": [
      "notebook\n",
      "\n",
      "closing the file\n"
     ]
    },
    {
     "ename": "ValueError",
     "evalue": "forcing an exception",
     "output_type": "error",
     "traceback": [
      "\u001b[0;31m---------------------------------------------------------------------------\u001b[0m",
      "\u001b[0;31mValueError\u001b[0m                                Traceback (most recent call last)",
      "Cell \u001b[0;32mIn[31], line 4\u001b[0m\n\u001b[1;32m      2\u001b[0m     \u001b[38;5;28;01mfor\u001b[39;00m line \u001b[38;5;129;01min\u001b[39;00m file:\n\u001b[1;32m      3\u001b[0m         \u001b[38;5;28mprint\u001b[39m(line)\n\u001b[0;32m----> 4\u001b[0m         \u001b[38;5;28;01mraise\u001b[39;00m \u001b[38;5;167;01mValueError\u001b[39;00m(\u001b[38;5;124m'\u001b[39m\u001b[38;5;124mforcing an exception\u001b[39m\u001b[38;5;124m'\u001b[39m)\n\u001b[1;32m      5\u001b[0m \u001b[38;5;28;01mfinally\u001b[39;00m:\n\u001b[1;32m      6\u001b[0m     \u001b[38;5;28mprint\u001b[39m(\u001b[38;5;124m'\u001b[39m\u001b[38;5;124mclosing the file\u001b[39m\u001b[38;5;124m'\u001b[39m)\n",
      "\u001b[0;31mValueError\u001b[0m: forcing an exception"
     ]
    }
   ],
   "source": [
    "try:\n",
    "    for line in file:\n",
    "        print(line)\n",
    "        raise ValueError('forcing an exception')\n",
    "finally:\n",
    "    print('closing the file')\n",
    "    file.close()"
   ]
  },
  {
   "cell_type": "code",
   "execution_count": 32,
   "id": "fcc233bc-f0bc-49a6-bcd2-3d7a4b14254b",
   "metadata": {},
   "outputs": [
    {
     "data": {
      "text/plain": [
       "True"
      ]
     },
     "execution_count": 32,
     "metadata": {},
     "output_type": "execute_result"
    }
   ],
   "source": [
    "file.closed"
   ]
  },
  {
   "cell_type": "code",
   "execution_count": 33,
   "id": "afc030a7-7676-4572-b024-1948d3b3a96e",
   "metadata": {},
   "outputs": [],
   "source": [
    "# To do the above cleanly, we can use a context manager "
   ]
  },
  {
   "cell_type": "code",
   "execution_count": 38,
   "id": "27df54e0-8b58-4f0b-bc1b-095076bbc373",
   "metadata": {},
   "outputs": [
    {
     "name": "stdout",
     "output_type": "stream",
     "text": [
      "False\n"
     ]
    },
    {
     "data": {
      "text/plain": [
       "True"
      ]
     },
     "execution_count": 38,
     "metadata": {},
     "output_type": "execute_result"
    }
   ],
   "source": [
    "with open(file_name) as f:\n",
    "    print(f.closed)\n",
    "\n",
    "f.closed"
   ]
  },
  {
   "cell_type": "code",
   "execution_count": 39,
   "id": "595f2003-30da-4cbf-b5ea-54bd4353042f",
   "metadata": {},
   "outputs": [],
   "source": [
    "# See how the context manager closed the file without us having to do it"
   ]
  },
  {
   "cell_type": "code",
   "execution_count": null,
   "id": "0bc8ae9e-3d98-411b-80cf-3dfacc1ff09f",
   "metadata": {},
   "outputs": [],
   "source": []
  }
 ],
 "metadata": {
  "kernelspec": {
   "display_name": "Python 3 (ipykernel)",
   "language": "python",
   "name": "python3"
  },
  "language_info": {
   "codemirror_mode": {
    "name": "ipython",
    "version": 3
   },
   "file_extension": ".py",
   "mimetype": "text/x-python",
   "name": "python",
   "nbconvert_exporter": "python",
   "pygments_lexer": "ipython3",
   "version": "3.12.3"
  }
 },
 "nbformat": 4,
 "nbformat_minor": 5
}
