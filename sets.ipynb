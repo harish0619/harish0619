{
 "cells": [
  {
   "cell_type": "code",
   "execution_count": 1,
   "id": "54985362-7c02-41c8-b2c2-2d1098429516",
   "metadata": {},
   "outputs": [
    {
     "name": "stdout",
     "output_type": "stream",
     "text": [
      "['Aapl', 'AAPL', 'aapl', 'MSFT']\n"
     ]
    }
   ],
   "source": [
    "l = ['AAPL', 'AAPL', 'Aapl', 'aapl', 'MSFT']\n",
    "\n",
    "print(list(set(l)))"
   ]
  },
  {
   "cell_type": "code",
   "execution_count": 6,
   "id": "fd2bc8b0-e323-45e5-9c57-aabc0add9665",
   "metadata": {},
   "outputs": [
    {
     "name": "stdout",
     "output_type": "stream",
     "text": [
      "['aapl', 'msft']\n"
     ]
    }
   ],
   "source": [
    "l = ['AAPL', 'AAPL', 'Aapl', 'aapl', 'MSFT']\n",
    "lis = []\n",
    "for li in l:\n",
    "    lis.append(li.casefold())\n",
    "\n",
    "print(list(set(lis)))"
   ]
  },
  {
   "cell_type": "code",
   "execution_count": 14,
   "id": "e4763bc8-c475-4543-9af7-e066fbe558b9",
   "metadata": {},
   "outputs": [
    {
     "name": "stdout",
     "output_type": "stream",
     "text": [
      "{'d', 'x', 'b', 'a', 'c'}\n"
     ]
    }
   ],
   "source": [
    "data = {\n",
    "    'd1': {'a': 1, 'b': 2, 'c': 3},\n",
    "    'd2': {'b': 20, 'c': 30, 'd': 40},\n",
    "    'd3': {'d': 100, 'x': 200}\n",
    "}\n",
    "\n",
    "d2 = []\n",
    "\n",
    "for key in data:\n",
    "    d2.extend(list(data[key].keys()))\n",
    "\n",
    "print(set(d2))"
   ]
  },
  {
   "cell_type": "code",
   "execution_count": 15,
   "id": "3e1dd987-96da-4a91-b14d-85aafab1d13c",
   "metadata": {},
   "outputs": [
    {
     "name": "stdout",
     "output_type": "stream",
     "text": [
      "{'d', 'x', 'b', 'a', 'c'}\n"
     ]
    }
   ],
   "source": [
    "# The above code can rewritten as \n",
    "\n",
    "d2 = set()\n",
    "\n",
    "for key in data.values():\n",
    "    d2 = d2 | key.keys()\n",
    "\n",
    "print(d2)"
   ]
  },
  {
   "cell_type": "code",
   "execution_count": null,
   "id": "563dc0bc-bb61-4ff3-a75f-d9ffa299d68b",
   "metadata": {},
   "outputs": [],
   "source": []
  }
 ],
 "metadata": {
  "kernelspec": {
   "display_name": "Python 3 (ipykernel)",
   "language": "python",
   "name": "python3"
  },
  "language_info": {
   "codemirror_mode": {
    "name": "ipython",
    "version": 3
   },
   "file_extension": ".py",
   "mimetype": "text/x-python",
   "name": "python",
   "nbconvert_exporter": "python",
   "pygments_lexer": "ipython3",
   "version": "3.12.3"
  }
 },
 "nbformat": 4,
 "nbformat_minor": 5
}
